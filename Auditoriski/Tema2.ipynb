{
 "cells": [
  {
   "cell_type": "code",
   "execution_count": 2,
   "id": "stopped-penguin",
   "metadata": {},
   "outputs": [],
   "source": [
    "import sympy as sp\n",
    "import Resources.script as rt"
   ]
  },
  {
   "cell_type": "markdown",
   "id": "transparent-virtue",
   "metadata": {},
   "source": [
    "## Zadaca 1"
   ]
  },
  {
   "cell_type": "code",
   "execution_count": 11,
   "id": "adaptive-matter",
   "metadata": {},
   "outputs": [
    {
     "data": {
      "text/latex": [
       "$\\displaystyle \\left[\\begin{matrix}16\\\\4\\\\10\\\\2\\end{matrix}\\right]$"
      ],
      "text/plain": [
       "Matrix([\n",
       "[16],\n",
       "[ 4],\n",
       "[10],\n",
       "[ 2]])"
      ]
     },
     "execution_count": 11,
     "metadata": {},
     "output_type": "execute_result"
    }
   ],
   "source": [
    "p = rt.hpoint3(8,2,5)\n",
    "p*2"
   ]
  },
  {
   "cell_type": "code",
   "execution_count": 12,
   "id": "asian-singles",
   "metadata": {},
   "outputs": [
    {
     "data": {
      "text/latex": [
       "$\\displaystyle \\left[\\begin{matrix}0.82956135578434\\\\0.207390338946085\\\\0.518475847365213\\\\0\\end{matrix}\\right]$"
      ],
      "text/plain": [
       "Matrix([\n",
       "[ 0.82956135578434],\n",
       "[0.207390338946085],\n",
       "[0.518475847365213],\n",
       "[                0]])"
      ]
     },
     "execution_count": 12,
     "metadata": {},
     "output_type": "execute_result"
    }
   ],
   "source": [
    "rt.unit_vector(p,\"homogeneous\")"
   ]
  },
  {
   "cell_type": "markdown",
   "id": "unique-wallace",
   "metadata": {},
   "source": [
    "## Zadaca 4"
   ]
  },
  {
   "cell_type": "code",
   "execution_count": 12,
   "id": "formal-magnitude",
   "metadata": {},
   "outputs": [],
   "source": [
    "p = rt.hpoint3(3,5,7)"
   ]
  },
  {
   "cell_type": "code",
   "execution_count": 14,
   "id": "other-ivory",
   "metadata": {},
   "outputs": [
    {
     "data": {
      "text/latex": [
       "$\\displaystyle \\left[\\begin{matrix}5\\\\8\\\\11\\\\1\\end{matrix}\\right]$"
      ],
      "text/plain": [
       "Matrix([\n",
       "[ 5],\n",
       "[ 8],\n",
       "[11],\n",
       "[ 1]])"
      ]
     },
     "execution_count": 14,
     "metadata": {},
     "output_type": "execute_result"
    }
   ],
   "source": [
    "rt.htranslation3(2, 3, 4)*p"
   ]
  },
  {
   "cell_type": "markdown",
   "id": "aging-mouth",
   "metadata": {},
   "source": [
    "## Zadaca 5"
   ]
  },
  {
   "cell_type": "code",
   "execution_count": 16,
   "id": "innovative-engine",
   "metadata": {},
   "outputs": [
    {
     "data": {
      "text/latex": [
       "$\\displaystyle \\left[\\begin{matrix}0 & 1 & 0 & 2\\\\1 & 0 & 0 & 4\\\\0 & 0 & -1 & 6\\\\0 & 0 & 0 & 1\\end{matrix}\\right]$"
      ],
      "text/plain": [
       "Matrix([\n",
       "[0, 1,  0, 2],\n",
       "[1, 0,  0, 4],\n",
       "[0, 0, -1, 6],\n",
       "[0, 0,  0, 1]])"
      ]
     },
     "execution_count": 16,
     "metadata": {},
     "output_type": "execute_result"
    }
   ],
   "source": [
    "b = sp.Matrix([[0, 1, 0, 2],\n",
    "               [1, 0, 0, 4],\n",
    "               [0, 0, -1, 6],\n",
    "               [0, 0, 0, 1]])"
   ]
  },
  {
   "cell_type": "code",
   "execution_count": 19,
   "id": "horizontal-dealing",
   "metadata": {},
   "outputs": [
    {
     "data": {
      "text/latex": [
       "$\\displaystyle \\left[\\begin{matrix}0 & 1 & 0 & 7\\\\1 & 0 & 0 & 6\\\\0 & 0 & -1 & 12\\\\0 & 0 & 0 & 1\\end{matrix}\\right]$"
      ],
      "text/plain": [
       "Matrix([\n",
       "[0, 1,  0,  7],\n",
       "[1, 0,  0,  6],\n",
       "[0, 0, -1, 12],\n",
       "[0, 0,  0,  1]])"
      ]
     },
     "execution_count": 19,
     "metadata": {},
     "output_type": "execute_result"
    }
   ],
   "source": [
    "rt.htranslation3(5, 2, 6)*b"
   ]
  },
  {
   "cell_type": "markdown",
   "id": "pleasant-jonathan",
   "metadata": {},
   "source": [
    "## Zadaca 6"
   ]
  },
  {
   "cell_type": "code",
   "execution_count": 20,
   "id": "reliable-marathon",
   "metadata": {},
   "outputs": [
    {
     "data": {
      "text/latex": [
       "$\\displaystyle \\left[\\begin{matrix}0 & 1 & 0 & 2\\\\1 & 0 & 0 & 4\\\\0 & 0 & -1 & 6\\\\0 & 0 & 0 & 1\\end{matrix}\\right]$"
      ],
      "text/plain": [
       "Matrix([\n",
       "[0, 1,  0, 2],\n",
       "[1, 0,  0, 4],\n",
       "[0, 0, -1, 6],\n",
       "[0, 0,  0, 1]])"
      ]
     },
     "execution_count": 20,
     "metadata": {},
     "output_type": "execute_result"
    }
   ],
   "source": [
    "f = sp.Matrix([[0, 1, 0, 2],\n",
    "               [1, 0, 0, 4],\n",
    "               [0, 0, -1, 6],\n",
    "               [0, 0, 0, 1]])\n",
    "f"
   ]
  },
  {
   "cell_type": "code",
   "execution_count": 28,
   "id": "rolled-token",
   "metadata": {},
   "outputs": [
    {
     "data": {
      "text/latex": [
       "$\\displaystyle \\left[\\begin{matrix}0 & 1 & 0 & -3\\\\1 & 0 & 0 & 2\\\\0 & 0 & -1 & 0\\\\0 & 0 & 0 & 1\\end{matrix}\\right]$"
      ],
      "text/plain": [
       "Matrix([\n",
       "[0, 1,  0, -3],\n",
       "[1, 0,  0,  2],\n",
       "[0, 0, -1,  0],\n",
       "[0, 0,  0,  1]])"
      ]
     },
     "execution_count": 28,
     "metadata": {},
     "output_type": "execute_result"
    }
   ],
   "source": [
    "rt.htranslation3(5,2,6).inv() * f"
   ]
  },
  {
   "cell_type": "markdown",
   "id": "viral-counter",
   "metadata": {},
   "source": [
    "## Zadaca 7"
   ]
  },
  {
   "cell_type": "code",
   "execution_count": 29,
   "id": "younger-combine",
   "metadata": {},
   "outputs": [
    {
     "data": {
      "text/latex": [
       "$\\displaystyle \\left[\\begin{matrix}0 & 1 & 0 & 0\\\\1 & 0 & 0 & 4\\\\0 & 0 & -1 & 2\\\\0 & 0 & 0 & 1\\end{matrix}\\right]$"
      ],
      "text/plain": [
       "Matrix([\n",
       "[0, 1,  0, 0],\n",
       "[1, 0,  0, 4],\n",
       "[0, 0, -1, 2],\n",
       "[0, 0,  0, 1]])"
      ]
     },
     "execution_count": 29,
     "metadata": {},
     "output_type": "execute_result"
    }
   ],
   "source": [
    "f = sp.Matrix([[0, 1, 0, 0],\n",
    "               [1, 0, 0, 4],\n",
    "               [0, 0, -1, 2],\n",
    "               [0, 0, 0, 1]])\n",
    "f"
   ]
  },
  {
   "cell_type": "code",
   "execution_count": 32,
   "id": "patient-parliament",
   "metadata": {},
   "outputs": [
    {
     "data": {
      "text/latex": [
       "$\\displaystyle \\left[\\begin{matrix}0 & 1 & 0 & -2\\\\1 & 0 & 0 & 0\\\\0 & 0 & -1 & -4\\\\0 & 0 & 0 & 1\\end{matrix}\\right]$"
      ],
      "text/plain": [
       "Matrix([\n",
       "[0, 1,  0, -2],\n",
       "[1, 0,  0,  0],\n",
       "[0, 0, -1, -4],\n",
       "[0, 0,  0,  1]])"
      ]
     },
     "execution_count": 32,
     "metadata": {},
     "output_type": "execute_result"
    }
   ],
   "source": [
    "rt.htranslation3(2,4,6).inv()*f"
   ]
  },
  {
   "cell_type": "markdown",
   "id": "homeless-converter",
   "metadata": {},
   "source": [
    "## Zadaca 8"
   ]
  },
  {
   "cell_type": "code",
   "execution_count": 33,
   "id": "novel-canberra",
   "metadata": {},
   "outputs": [
    {
     "data": {
      "text/latex": [
       "$\\displaystyle \\left[\\begin{matrix}0 & x_{2} & 0 & -2\\\\1 & 0 & 0 & 0\\\\x_{1} & 0 & x_{3} & 4\\\\0 & 0 & 0 & 1\\end{matrix}\\right]$"
      ],
      "text/plain": [
       "Matrix([\n",
       "[ 0, x2,  0, -2],\n",
       "[ 1,  0,  0,  0],\n",
       "[x1,  0, x3,  4],\n",
       "[ 0,  0,  0,  1]])"
      ]
     },
     "execution_count": 33,
     "metadata": {},
     "output_type": "execute_result"
    }
   ],
   "source": [
    "x1, x2, x3 = sp.symbols('x1, x2, x3')\n",
    "F = sp.Matrix([[0, x2, 0, -2],\n",
    "               [1, 0, 0, 0],\n",
    "               [x1, 0, x3, 4],\n",
    "               [0, 0, 0, 1]])\n",
    "F"
   ]
  },
  {
   "cell_type": "code",
   "execution_count": 48,
   "id": "green-canyon",
   "metadata": {},
   "outputs": [],
   "source": [
    "n, o, a = F[:3, 0], F[:3, 1], F[:3, 2]"
   ]
  },
  {
   "cell_type": "code",
   "execution_count": 52,
   "id": "shared-effectiveness",
   "metadata": {},
   "outputs": [],
   "source": [
    "ndot, odot, adot = n.dot(n), o.dot(o), a.dot(a)"
   ]
  },
  {
   "cell_type": "code",
   "execution_count": 53,
   "id": "seeing-collectible",
   "metadata": {},
   "outputs": [
    {
     "data": {
      "text/latex": [
       "$\\displaystyle \\left\\{0\\right\\}$"
      ],
      "text/plain": [
       "FiniteSet(0)"
      ]
     },
     "execution_count": 53,
     "metadata": {},
     "output_type": "execute_result"
    }
   ],
   "source": [
    "sp.solveset(ndot - 1, x1)"
   ]
  },
  {
   "cell_type": "code",
   "execution_count": 54,
   "id": "unable-particular",
   "metadata": {},
   "outputs": [
    {
     "data": {
      "text/latex": [
       "$\\displaystyle \\left\\{-1, 1\\right\\}$"
      ],
      "text/plain": [
       "FiniteSet(-1, 1)"
      ]
     },
     "execution_count": 54,
     "metadata": {},
     "output_type": "execute_result"
    }
   ],
   "source": [
    "sp.solveset(odot - 1, x2)"
   ]
  },
  {
   "cell_type": "code",
   "execution_count": 55,
   "id": "strategic-brain",
   "metadata": {},
   "outputs": [
    {
     "data": {
      "text/latex": [
       "$\\displaystyle \\left\\{-1, 1\\right\\}$"
      ],
      "text/plain": [
       "FiniteSet(-1, 1)"
      ]
     },
     "execution_count": 55,
     "metadata": {},
     "output_type": "execute_result"
    }
   ],
   "source": [
    "sp.solveset(adot - 1, x3)"
   ]
  },
  {
   "cell_type": "code",
   "execution_count": 56,
   "id": "optional-color",
   "metadata": {},
   "outputs": [
    {
     "data": {
      "text/latex": [
       "$\\displaystyle \\left[\\begin{matrix}0 & -1 & 0 & -2\\\\1 & 0 & 0 & 0\\\\0 & 0 & -1 & 4\\\\0 & 0 & 0 & 1\\end{matrix}\\right]$"
      ],
      "text/plain": [
       "Matrix([\n",
       "[0, -1,  0, -2],\n",
       "[1,  0,  0,  0],\n",
       "[0,  0, -1,  4],\n",
       "[0,  0,  0,  1]])"
      ]
     },
     "execution_count": 56,
     "metadata": {},
     "output_type": "execute_result"
    }
   ],
   "source": [
    "possible_solutions = []\n",
    "possible_solutions.append(F.subs([(x1, 0), (x2, -1), (x3, -1)]))\n",
    "possible_solutions.append(F.subs([(x1, 0), (x2, -1), (x3, 1)]))\n",
    "possible_solutions.append(F.subs([(x1, 0), (x2, 1), (x3, -1)]))\n",
    "possible_solutions.append(F.subs([(x1, 0), (x2, 1), (x3, 1)]))\n",
    "possible_solutions[0]"
   ]
  },
  {
   "cell_type": "code",
   "execution_count": 65,
   "id": "associate-shape",
   "metadata": {},
   "outputs": [
    {
     "name": "stdout",
     "output_type": "stream",
     "text": [
      "⎡0  -1  0  -2⎤\n",
      "⎢            ⎥\n",
      "⎢1  0   0  0 ⎥\n",
      "⎢            ⎥\n",
      "⎢0  0   1  4 ⎥\n",
      "⎢            ⎥\n",
      "⎣0  0   0  1 ⎦\n",
      "\n",
      "⎡0  1  0   -2⎤\n",
      "⎢            ⎥\n",
      "⎢1  0  0   0 ⎥\n",
      "⎢            ⎥\n",
      "⎢0  0  -1  4 ⎥\n",
      "⎢            ⎥\n",
      "⎣0  0  0   1 ⎦\n",
      "\n"
     ]
    }
   ],
   "source": [
    "for possible_solution in possible_solutions:\n",
    "    if is_right_hand_coordinate_system3(possible_solution):\n",
    "        sp.pprint(possible_solution)\n",
    "        print()"
   ]
  },
  {
   "cell_type": "markdown",
   "id": "champion-bridges",
   "metadata": {},
   "source": [
    "## Zadaca 9"
   ]
  },
  {
   "cell_type": "code",
   "execution_count": 67,
   "id": "professional-complement",
   "metadata": {},
   "outputs": [
    {
     "data": {
      "text/latex": [
       "$\\displaystyle \\left[\\begin{matrix}0 & x_{2} & x_{3} & 0\\\\x_{1} & 0 & - \\frac{\\sqrt{2}}{2} & -1\\\\\\frac{\\sqrt{2}}{2} & 0 & \\frac{\\sqrt{2}}{2} & 6\\\\0 & 0 & 0 & 1\\end{matrix}\\right]$"
      ],
      "text/plain": [
       "Matrix([\n",
       "[        0, x2,         x3,  0],\n",
       "[       x1,  0, -sqrt(2)/2, -1],\n",
       "[sqrt(2)/2,  0,  sqrt(2)/2,  6],\n",
       "[        0,  0,          0,  1]])"
      ]
     },
     "execution_count": 67,
     "metadata": {},
     "output_type": "execute_result"
    }
   ],
   "source": [
    "x1, x2, x3 = sp.symbols('x1, x2, x3')\n",
    "F = sp.Matrix([[0, x2, x3, 0],\n",
    "               [x1, 0, -sp.sqrt(2)/2, -1],\n",
    "               [sp.sqrt(2)/2, 0, sp.sqrt(2)/2, 6],\n",
    "               [0, 0, 0, 1]])\n",
    "F"
   ]
  },
  {
   "cell_type": "code",
   "execution_count": 68,
   "id": "featured-wayne",
   "metadata": {},
   "outputs": [],
   "source": [
    "n, o, a = F[:3, 0], F[:3, 1], F[:3, 2]\n",
    "ndot, odot, adot = n.dot(n), o.dot(o), a.dot(a)"
   ]
  },
  {
   "cell_type": "code",
   "execution_count": 69,
   "id": "breeding-burton",
   "metadata": {},
   "outputs": [
    {
     "data": {
      "text/latex": [
       "$\\displaystyle \\left\\{- \\frac{\\sqrt{2}}{2}, \\frac{\\sqrt{2}}{2}\\right\\}$"
      ],
      "text/plain": [
       "FiniteSet(-sqrt(2)/2, sqrt(2)/2)"
      ]
     },
     "execution_count": 69,
     "metadata": {},
     "output_type": "execute_result"
    }
   ],
   "source": [
    "sp.solveset(ndot - 1, x1)"
   ]
  },
  {
   "cell_type": "code",
   "execution_count": 70,
   "id": "seven-consistency",
   "metadata": {},
   "outputs": [
    {
     "data": {
      "text/latex": [
       "$\\displaystyle \\left\\{-1, 1\\right\\}$"
      ],
      "text/plain": [
       "FiniteSet(-1, 1)"
      ]
     },
     "execution_count": 70,
     "metadata": {},
     "output_type": "execute_result"
    }
   ],
   "source": [
    "sp.solveset(odot - 1, x2)"
   ]
  },
  {
   "cell_type": "code",
   "execution_count": 71,
   "id": "dominant-anthropology",
   "metadata": {},
   "outputs": [
    {
     "data": {
      "text/latex": [
       "$\\displaystyle \\left\\{0\\right\\}$"
      ],
      "text/plain": [
       "FiniteSet(0)"
      ]
     },
     "execution_count": 71,
     "metadata": {},
     "output_type": "execute_result"
    }
   ],
   "source": [
    "sp.solveset(adot - 1, x3)"
   ]
  },
  {
   "cell_type": "code",
   "execution_count": 73,
   "id": "polished-belle",
   "metadata": {},
   "outputs": [
    {
     "data": {
      "text/latex": [
       "$\\displaystyle \\left[\\begin{matrix}0 & 1 & 0 & 0\\\\\\frac{\\sqrt{2}}{2} & 0 & - \\frac{\\sqrt{2}}{2} & -1\\\\\\frac{\\sqrt{2}}{2} & 0 & \\frac{\\sqrt{2}}{2} & 6\\\\0 & 0 & 0 & 1\\end{matrix}\\right]$"
      ],
      "text/plain": [
       "Matrix([\n",
       "[        0, 1,          0,  0],\n",
       "[sqrt(2)/2, 0, -sqrt(2)/2, -1],\n",
       "[sqrt(2)/2, 0,  sqrt(2)/2,  6],\n",
       "[        0, 0,          0,  1]])"
      ]
     },
     "execution_count": 73,
     "metadata": {},
     "output_type": "execute_result"
    }
   ],
   "source": [
    "possible_solutions = []\n",
    "possible_solutions.append(F.subs([(x1, sp.sqrt(2)/2), (x2, 1), (x3, 0)]))\n",
    "possible_solutions.append(F.subs([(x1, sp.sqrt(2)/2), (x2, -1), (x3, 0)]))\n",
    "possible_solutions.append(F.subs([(x1, -sp.sqrt(2)/2), (x2, 1), (x3, 0)]))\n",
    "possible_solutions.append(F.subs([(x1, -sp.sqrt(2)/2), (x2, -1), (x3, 0)]))\n",
    "possible_solutions[0]"
   ]
  },
  {
   "cell_type": "code",
   "execution_count": 77,
   "id": "ecological-architect",
   "metadata": {},
   "outputs": [
    {
     "name": "stdout",
     "output_type": "stream",
     "text": [
      "⎡0   -1   0    0 ⎤\n",
      "⎢                ⎥\n",
      "⎢√2      -√2     ⎥\n",
      "⎢──  0   ────  -1⎥\n",
      "⎢2        2      ⎥\n",
      "⎢                ⎥\n",
      "⎢√2       √2     ⎥\n",
      "⎢──  0    ──   6 ⎥\n",
      "⎢2        2      ⎥\n",
      "⎢                ⎥\n",
      "⎣0   0    0    1 ⎦\n",
      "\n"
     ]
    }
   ],
   "source": [
    "for possible_solution in possible_solutions:\n",
    "    if rt.is_right_hand_coordinate_system3(possible_solution):\n",
    "        sp.pprint(possible_solution)\n",
    "        print()"
   ]
  },
  {
   "cell_type": "markdown",
   "id": "elect-missile",
   "metadata": {},
   "source": [
    "## Zadaca 10"
   ]
  },
  {
   "cell_type": "code",
   "execution_count": 83,
   "id": "sixth-completion",
   "metadata": {},
   "outputs": [
    {
     "data": {
      "text/latex": [
       "$\\displaystyle \\left[\\begin{matrix}0 & -1 & 0 & 0\\\\0 & 0 & -1 & 0\\\\1 & 0 & 0 & 0\\\\0 & 0 & 0 & 1\\end{matrix}\\right]$"
      ],
      "text/plain": [
       "Matrix([\n",
       "[0, -1,  0, 0],\n",
       "[0,  0, -1, 0],\n",
       "[1,  0,  0, 0],\n",
       "[0,  0,  0, 1]])"
      ]
     },
     "execution_count": 83,
     "metadata": {},
     "output_type": "execute_result"
    }
   ],
   "source": [
    "T1 = rt.hrotation3('x',sp.pi/2)\n",
    "T2 = rt.hrotation3('z',sp.pi/2)\n",
    "T1*T2"
   ]
  },
  {
   "cell_type": "code",
   "execution_count": 2,
   "id": "backed-scroll",
   "metadata": {},
   "outputs": [
    {
     "data": {
      "application/vnd.jupyter.widget-view+json": {
       "model_id": "a14a1106378c4a8ba183967188583cdc",
       "version_major": 2,
       "version_minor": 0
      },
      "text/plain": [
       "VBox(children=(HBox(children=(ToggleButtons(options=('Ротирај', 'Придвижи се'), value='Ротирај'), BoundedFloat…"
      ]
     },
     "metadata": {},
     "output_type": "display_data"
    }
   ],
   "source": [
    "rt.AnimationPlayground().play()"
   ]
  },
  {
   "cell_type": "markdown",
   "id": "absolute-atlas",
   "metadata": {},
   "source": [
    "## Zadaca 14"
   ]
  },
  {
   "cell_type": "code",
   "execution_count": 6,
   "id": "naval-aluminum",
   "metadata": {},
   "outputs": [
    {
     "data": {
      "text/plain": [
       "True"
      ]
     },
     "execution_count": 6,
     "metadata": {},
     "output_type": "execute_result"
    }
   ],
   "source": [
    "theta = sp.symbols('theta')\n",
    "pox = rt.hrotation3('x', theta)\n",
    "poy = rt.hrotation3('y', theta)\n",
    "poz = rt.hrotation3('z', theta)\n",
    "rt.is_right_hand_coordinate_system3(pox) and rt.is_right_hand_coordinate_system3(poz) and rt.is_right_hand_coordinate_system3(poy)"
   ]
  },
  {
   "cell_type": "markdown",
   "id": "secure-laser",
   "metadata": {},
   "source": [
    "## Zadaca 15"
   ]
  },
  {
   "cell_type": "code",
   "execution_count": 10,
   "id": "spectacular-symphony",
   "metadata": {},
   "outputs": [
    {
     "data": {
      "text/latex": [
       "$\\displaystyle 1$"
      ],
      "text/plain": [
       "1"
      ]
     },
     "execution_count": 10,
     "metadata": {},
     "output_type": "execute_result"
    }
   ],
   "source": [
    "theta = sp.symbols('theta')\n",
    "pox = rt.hrotation3('x', theta)\n",
    "poy = rt.hrotation3('y', theta)\n",
    "poz = rt.hrotation3('z', theta)\n",
    "sp.simplify(sp.det(pox) * sp.det(poy) * sp.det(poz))"
   ]
  },
  {
   "cell_type": "markdown",
   "id": "banned-bridal",
   "metadata": {},
   "source": [
    "## Zadaca 17"
   ]
  },
  {
   "cell_type": "code",
   "execution_count": 16,
   "id": "induced-blank",
   "metadata": {},
   "outputs": [
    {
     "data": {
      "text/latex": [
       "$\\displaystyle \\left[\\begin{matrix}2\\\\- \\frac{\\sqrt{2}}{2}\\\\\\frac{7 \\sqrt{2}}{2}\\\\1\\end{matrix}\\right]$"
      ],
      "text/plain": [
       "Matrix([\n",
       "[          2],\n",
       "[ -sqrt(2)/2],\n",
       "[7*sqrt(2)/2],\n",
       "[          1]])"
      ]
     },
     "execution_count": 16,
     "metadata": {},
     "output_type": "execute_result"
    }
   ],
   "source": [
    "p = rt.hpoint3(2,3,4)\n",
    "T = rt.hrotation3('x',sp.pi/4)\n",
    "T*p"
   ]
  },
  {
   "cell_type": "markdown",
   "id": "angry-graphic",
   "metadata": {},
   "source": [
    "## Zadaca 18"
   ]
  },
  {
   "cell_type": "code",
   "execution_count": 26,
   "id": "polyphonic-ready",
   "metadata": {},
   "outputs": [
    {
     "data": {
      "text/latex": [
       "$\\displaystyle \\left[\\begin{matrix}- \\frac{3}{2} + \\sqrt{3}\\\\1 + \\frac{3 \\sqrt{3}}{2}\\\\4\\end{matrix}\\right]$"
      ],
      "text/plain": [
       "Matrix([\n",
       "[ -3/2 + sqrt(3)],\n",
       "[1 + 3*sqrt(3)/2],\n",
       "[              4]])"
      ]
     },
     "execution_count": 26,
     "metadata": {},
     "output_type": "execute_result"
    }
   ],
   "source": [
    "p = rt.point3(2,3,4)\n",
    "T = rt.rotation3('z',sp.pi/6)\n",
    "T*p"
   ]
  },
  {
   "cell_type": "markdown",
   "id": "liquid-isolation",
   "metadata": {},
   "source": [
    "## Zadaca 19"
   ]
  },
  {
   "cell_type": "code",
   "execution_count": 3,
   "id": "expanded-priest",
   "metadata": {},
   "outputs": [
    {
     "data": {
      "text/latex": [
       "$\\displaystyle \\left[\\begin{matrix}3\\\\- \\frac{7 \\sqrt{3}}{2} - \\frac{5}{2}\\\\- \\frac{7}{2} + \\frac{5 \\sqrt{3}}{2}\\end{matrix}\\right]$"
      ],
      "text/plain": [
       "Matrix([\n",
       "[                 3],\n",
       "[-7*sqrt(3)/2 - 5/2],\n",
       "[-7/2 + 5*sqrt(3)/2]])"
      ]
     },
     "execution_count": 3,
     "metadata": {},
     "output_type": "execute_result"
    }
   ],
   "source": [
    "p = rt.point3(3, 5, 7)\n",
    "rt.rotation3('x', 2*sp.pi/3) * p"
   ]
  },
  {
   "cell_type": "markdown",
   "id": "modified-gossip",
   "metadata": {},
   "source": [
    "## Zadaca 20"
   ]
  },
  {
   "cell_type": "code",
   "execution_count": 10,
   "id": "selective-superintendent",
   "metadata": {},
   "outputs": [
    {
     "data": {
      "text/latex": [
       "$\\displaystyle \\left[\\begin{matrix}\\frac{1}{9} & - \\frac{8}{9} & - \\frac{4}{9}\\\\\\frac{4}{9} & \\frac{4}{9} & \\frac{7}{9}\\\\\\frac{8}{9} & - \\frac{1}{9} & \\frac{4}{9}\\end{matrix}\\right]$"
      ],
      "text/plain": [
       "Matrix([\n",
       "[1/9, -8/9, -4/9],\n",
       "[4/9,  4/9,  7/9],\n",
       "[8/9, -1/9,  4/9]])"
      ]
     },
     "execution_count": 10,
     "metadata": {},
     "output_type": "execute_result"
    }
   ],
   "source": [
    "R = sp.Matrix([\n",
    "    [1, -8, -4],\n",
    "    [4, 4, 7],\n",
    "    [8, -1, 4],\n",
    "]) / 9\n",
    "R"
   ]
  },
  {
   "cell_type": "code",
   "execution_count": 19,
   "id": "amino-vitamin",
   "metadata": {},
   "outputs": [
    {
     "data": {
      "text/latex": [
       "$\\displaystyle \\frac{\\pi}{2}$"
      ],
      "text/plain": [
       "pi/2"
      ]
     },
     "execution_count": 19,
     "metadata": {},
     "output_type": "execute_result"
    }
   ],
   "source": [
    "theta = sp.acos((R.trace() - 1) / 2)\n",
    "theta"
   ]
  },
  {
   "cell_type": "code",
   "execution_count": 27,
   "id": "injured-spain",
   "metadata": {},
   "outputs": [
    {
     "name": "stdout",
     "output_type": "stream",
     "text": [
      "⎡-4/9⎤\n",
      "⎢    ⎥\n",
      "⎢-2/3⎥\n",
      "⎢    ⎥\n",
      "⎣2/3 ⎦\n",
      "⎡4/9 ⎤\n",
      "⎢    ⎥\n",
      "⎢2/3 ⎥\n",
      "⎢    ⎥\n",
      "⎣-2/3⎦\n"
     ]
    }
   ],
   "source": [
    "I =sp.Matrix([\n",
    "    [R[2,1] - R[1,2]],\n",
    "    [R[0,2] - R[2,0]],\n",
    "    [R[1,0] - R[0,1]]\n",
    "])/2*sp.sin(theta)\n",
    "sp.pprint(I)\n",
    "sp.pprint(-I)"
   ]
  },
  {
   "cell_type": "markdown",
   "id": "appropriate-lunch",
   "metadata": {},
   "source": [
    "## Zadaca 21"
   ]
  },
  {
   "cell_type": "code",
   "execution_count": 33,
   "id": "joined-measure",
   "metadata": {},
   "outputs": [
    {
     "data": {
      "text/latex": [
       "$\\displaystyle \\left[\\begin{matrix}\\frac{1}{2} & \\frac{\\sqrt{6}}{4} & - \\frac{\\sqrt{6}}{4}\\\\- \\frac{\\sqrt{6}}{4} & \\frac{3}{4} & \\frac{1}{4}\\\\\\frac{\\sqrt{6}}{4} & \\frac{1}{4} & \\frac{3}{4}\\end{matrix}\\right]$"
      ],
      "text/plain": [
       "Matrix([\n",
       "[       1/2, sqrt(6)/4, -sqrt(6)/4],\n",
       "[-sqrt(6)/4,       3/4,        1/4],\n",
       "[ sqrt(6)/4,       1/4,        3/4]])"
      ]
     },
     "execution_count": 33,
     "metadata": {},
     "output_type": "execute_result"
    }
   ],
   "source": [
    "r = sp.Matrix([\n",
    "    ['1/2', sp.sqrt(6)/4, -sp.sqrt(6)/4],\n",
    "    [-sp.sqrt(6)/4,' 3/4', '1/4'],\n",
    "    [sp.sqrt(6)/4, '1/4', '3/4'],\n",
    "])\n",
    "r"
   ]
  },
  {
   "cell_type": "code",
   "execution_count": 35,
   "id": "derived-winter",
   "metadata": {},
   "outputs": [
    {
     "data": {
      "text/latex": [
       "$\\displaystyle \\frac{\\pi}{3}$"
      ],
      "text/plain": [
       "pi/3"
      ]
     },
     "execution_count": 35,
     "metadata": {},
     "output_type": "execute_result"
    }
   ],
   "source": [
    "theta = sp.acos((r.trace() - 1) / 2)\n",
    "theta"
   ]
  },
  {
   "cell_type": "markdown",
   "id": "fundamental-indonesia",
   "metadata": {},
   "source": [
    "## Zadaca 22"
   ]
  },
  {
   "cell_type": "code",
   "execution_count": 47,
   "id": "indoor-drawing",
   "metadata": {},
   "outputs": [
    {
     "data": {
      "text/latex": [
       "$\\displaystyle \\left[\\begin{matrix}0\\\\- \\frac{3 \\sqrt{2}}{8}\\\\- \\frac{3 \\sqrt{2}}{8}\\end{matrix}\\right]$"
      ],
      "text/plain": [
       "Matrix([\n",
       "[           0],\n",
       "[-3*sqrt(2)/8],\n",
       "[-3*sqrt(2)/8]])"
      ]
     },
     "execution_count": 47,
     "metadata": {},
     "output_type": "execute_result"
    }
   ],
   "source": [
    "I =sp.Matrix([\n",
    "    [r[2,1] - r[1,2]],\n",
    "    [r[0,2] - r[2,0]],\n",
    "    [r[1,0] - r[0,1]]\n",
    "])/2*sp.sin(theta)\n",
    "I"
   ]
  },
  {
   "cell_type": "markdown",
   "id": "incident-indication",
   "metadata": {},
   "source": [
    "## Zadaca 23"
   ]
  },
  {
   "cell_type": "code",
   "execution_count": 48,
   "id": "introductory-grocery",
   "metadata": {},
   "outputs": [
    {
     "data": {
      "application/vnd.jupyter.widget-view+json": {
       "model_id": "ea1b861a8d9c4114a5b7fddbc7788651",
       "version_major": 2,
       "version_minor": 0
      },
      "text/plain": [
       "VBox(children=(HBox(children=(ToggleButtons(options=('Ротирај', 'Придвижи се'), value='Ротирај'), BoundedFloat…"
      ]
     },
     "metadata": {},
     "output_type": "display_data"
    }
   ],
   "source": [
    "playground = rt.AnimationPlayground()\n",
    "playground.play(point=rt.hpoint3(3, 4, -5))"
   ]
  },
  {
   "cell_type": "code",
   "execution_count": 55,
   "id": "restricted-fusion",
   "metadata": {},
   "outputs": [
    {
     "data": {
      "text/latex": [
       "$\\displaystyle \\left[\\begin{matrix}\\frac{\\sqrt{2}}{2} & - \\frac{\\sqrt{2}}{2} & 0 & - \\frac{3 \\sqrt{2}}{2}\\\\\\frac{\\sqrt{6}}{4} & \\frac{\\sqrt{6}}{4} & \\frac{1}{2} & 3 + \\frac{15 \\sqrt{6}}{4}\\\\- \\frac{\\sqrt{2}}{4} & - \\frac{\\sqrt{2}}{4} & \\frac{\\sqrt{3}}{2} & - \\frac{15 \\sqrt{2}}{4}\\\\0 & 0 & 0 & 1\\end{matrix}\\right]$"
      ],
      "text/plain": [
       "Matrix([\n",
       "[ sqrt(2)/2, -sqrt(2)/2,         0,     -3*sqrt(2)/2],\n",
       "[ sqrt(6)/4,  sqrt(6)/4,       1/2, 3 + 15*sqrt(6)/4],\n",
       "[-sqrt(2)/4, -sqrt(2)/4, sqrt(3)/2,    -15*sqrt(2)/4],\n",
       "[         0,          0,         0,                1]])"
      ]
     },
     "execution_count": 55,
     "metadata": {},
     "output_type": "execute_result"
    }
   ],
   "source": [
    "t1 = rt.hrotation3('x',-sp.pi/6)\n",
    "t2 = rt.htranslation3(y=3)\n",
    "t3 = rt.hrotation3('a',sp.pi/4)\n",
    "t4 = rt.htranslation3(6,9)\n",
    "t = t2 * t1 * t3 * t4\n",
    "t"
   ]
  },
  {
   "cell_type": "code",
   "execution_count": 58,
   "id": "atomic-verse",
   "metadata": {},
   "outputs": [
    {
     "data": {
      "text/latex": [
       "$\\displaystyle \\left[\\begin{matrix}-2.82842712474619\\\\13.9721935853075\\\\-12.1083016119742\\\\1.0\\end{matrix}\\right]$"
      ],
      "text/plain": [
       "Matrix([\n",
       "[-2.82842712474619],\n",
       "[ 13.9721935853075],\n",
       "[-12.1083016119742],\n",
       "[              1.0]])"
      ]
     },
     "execution_count": 58,
     "metadata": {},
     "output_type": "execute_result"
    }
   ],
   "source": [
    "p = rt.hpoint3(3,4,-5)\n",
    "(t*p).evalf()"
   ]
  },
  {
   "cell_type": "markdown",
   "id": "effective-wilson",
   "metadata": {},
   "source": [
    "## Zadaca 24"
   ]
  },
  {
   "cell_type": "code",
   "execution_count": 60,
   "id": "unusual-rhythm",
   "metadata": {},
   "outputs": [],
   "source": [
    "t1 = rt.hrotation3('x',sp.pi/2)\n",
    "t2 = rt.htranslation3(5,3,6)\n",
    "t3 = rt.hrotation3('z',sp.pi/2)\n",
    "t = t3*t2*t1"
   ]
  },
  {
   "cell_type": "code",
   "execution_count": 62,
   "id": "congressional-market",
   "metadata": {},
   "outputs": [
    {
     "data": {
      "text/latex": [
       "$\\displaystyle \\left[\\begin{matrix}1.0\\\\10.0\\\\9.0\\\\1.0\\end{matrix}\\right]$"
      ],
      "text/plain": [
       "Matrix([\n",
       "[ 1.0],\n",
       "[10.0],\n",
       "[ 9.0],\n",
       "[ 1.0]])"
      ]
     },
     "execution_count": 62,
     "metadata": {},
     "output_type": "execute_result"
    }
   ],
   "source": [
    "p = rt.hpoint3(5,3,4)\n",
    "(t*p).evalf()"
   ]
  },
  {
   "cell_type": "markdown",
   "id": "vietnamese-sense",
   "metadata": {},
   "source": [
    "## Zadaca 25"
   ]
  },
  {
   "cell_type": "code",
   "execution_count": 64,
   "id": "close-clinton",
   "metadata": {},
   "outputs": [
    {
     "data": {
      "text/latex": [
       "$\\displaystyle \\left[\\begin{matrix}0 & -1 & 0 & 5\\\\0 & 0 & -1 & 3\\\\1 & 0 & 0 & 6\\\\0 & 0 & 0 & 1\\end{matrix}\\right]$"
      ],
      "text/plain": [
       "Matrix([\n",
       "[0, -1,  0, 5],\n",
       "[0,  0, -1, 3],\n",
       "[1,  0,  0, 6],\n",
       "[0,  0,  0, 1]])"
      ]
     },
     "execution_count": 64,
     "metadata": {},
     "output_type": "execute_result"
    }
   ],
   "source": [
    "t1 = rt.hrotation3('x',sp.pi/2)\n",
    "t2 = rt.hrotation3('a',sp.pi/2)\n",
    "t3 = rt.htranslation3(5,3,6)\n",
    "t = t3 * t1 * t2\n",
    "t"
   ]
  },
  {
   "cell_type": "code",
   "execution_count": 67,
   "id": "formal-services",
   "metadata": {},
   "outputs": [
    {
     "data": {
      "text/latex": [
       "$\\displaystyle \\left[\\begin{matrix}2\\\\-2\\\\8\\\\1\\end{matrix}\\right]$"
      ],
      "text/plain": [
       "Matrix([\n",
       "[ 2],\n",
       "[-2],\n",
       "[ 8],\n",
       "[ 1]])"
      ]
     },
     "execution_count": 67,
     "metadata": {},
     "output_type": "execute_result"
    }
   ],
   "source": [
    "p = rt.hpoint3(2,3,5)\n",
    "t*p"
   ]
  },
  {
   "cell_type": "markdown",
   "id": "liable-cover",
   "metadata": {},
   "source": [
    "## Zadaca 26"
   ]
  },
  {
   "cell_type": "code",
   "execution_count": 68,
   "id": "deadly-romantic",
   "metadata": {},
   "outputs": [
    {
     "data": {
      "text/latex": [
       "$\\displaystyle \\left[\\begin{matrix}-1 & 0 & 0 & 0\\\\0 & 0 & -1 & 0\\\\0 & -1 & 0 & 0\\\\0 & 0 & 0 & 1\\end{matrix}\\right]$"
      ],
      "text/plain": [
       "Matrix([\n",
       "[-1,  0,  0, 0],\n",
       "[ 0,  0, -1, 0],\n",
       "[ 0, -1,  0, 0],\n",
       "[ 0,  0,  0, 1]])"
      ]
     },
     "execution_count": 68,
     "metadata": {},
     "output_type": "execute_result"
    }
   ],
   "source": [
    "t1 = rt.hrotation3('n',sp.pi/2)\n",
    "t2 = rt.hrotation3('a',sp.pi/2)\n",
    "t3 = rt.hrotation3('z',sp.pi/2)\n",
    "t4 = rt.hrotation3('o',sp.pi/2)\n",
    "t5 = rt.hrotation3('x',sp.pi/2)\n",
    "t = t5 * t3 * t1 * t2 * t4\n",
    "t"
   ]
  },
  {
   "cell_type": "code",
   "execution_count": 72,
   "id": "invalid-lancaster",
   "metadata": {},
   "outputs": [
    {
     "data": {
      "text/latex": [
       "$\\displaystyle \\left[\\begin{matrix}-2\\\\0\\\\-1\\\\1\\end{matrix}\\right]$"
      ],
      "text/plain": [
       "Matrix([\n",
       "[-2],\n",
       "[ 0],\n",
       "[-1],\n",
       "[ 1]])"
      ]
     },
     "execution_count": 72,
     "metadata": {},
     "output_type": "execute_result"
    }
   ],
   "source": [
    "p = rt.hpoint3(2,1,0)\n",
    "t*p"
   ]
  },
  {
   "cell_type": "markdown",
   "id": "vanilla-margin",
   "metadata": {},
   "source": [
    "## Zadaca 27"
   ]
  },
  {
   "cell_type": "code",
   "execution_count": 74,
   "id": "assumed-newman",
   "metadata": {},
   "outputs": [
    {
     "data": {
      "text/latex": [
       "$\\displaystyle \\left[\\begin{matrix}\\frac{\\sqrt{2}}{2} & - \\frac{\\sqrt{2}}{2} & 0 & - \\frac{3 \\sqrt{2}}{2}\\\\\\frac{\\sqrt{6}}{4} & \\frac{\\sqrt{6}}{4} & \\frac{1}{2} & 3 + \\frac{15 \\sqrt{6}}{4}\\\\- \\frac{\\sqrt{2}}{4} & - \\frac{\\sqrt{2}}{4} & \\frac{\\sqrt{3}}{2} & - \\frac{15 \\sqrt{2}}{4}\\\\0 & 0 & 0 & 1\\end{matrix}\\right]$"
      ],
      "text/plain": [
       "Matrix([\n",
       "[ sqrt(2)/2, -sqrt(2)/2,         0,     -3*sqrt(2)/2],\n",
       "[ sqrt(6)/4,  sqrt(6)/4,       1/2, 3 + 15*sqrt(6)/4],\n",
       "[-sqrt(2)/4, -sqrt(2)/4, sqrt(3)/2,    -15*sqrt(2)/4],\n",
       "[         0,          0,         0,                1]])"
      ]
     },
     "execution_count": 74,
     "metadata": {},
     "output_type": "execute_result"
    }
   ],
   "source": [
    "t1 = rt.hrotation3('x',-sp.pi/6)\n",
    "t2 = rt.htranslation3(y=3)\n",
    "t3 = rt.hrotation3('a',sp.pi/4)\n",
    "t4 = rt.htranslation3(6,9)\n",
    "t = t2 * t1 * t3 * t4\n",
    "t"
   ]
  },
  {
   "cell_type": "code",
   "execution_count": 77,
   "id": "elder-consciousness",
   "metadata": {},
   "outputs": [
    {
     "data": {
      "text/latex": [
       "$\\displaystyle \\left[\\begin{matrix}-2.82842712474619\\\\13.9721935853075\\\\-12.1083016119742\\\\1.0\\end{matrix}\\right]$"
      ],
      "text/plain": [
       "Matrix([\n",
       "[-2.82842712474619],\n",
       "[ 13.9721935853075],\n",
       "[-12.1083016119742],\n",
       "[              1.0]])"
      ]
     },
     "execution_count": 77,
     "metadata": {},
     "output_type": "execute_result"
    }
   ],
   "source": [
    "p = rt.hpoint3(3,4,-5)\n",
    "(t*p).evalf()"
   ]
  },
  {
   "cell_type": "markdown",
   "id": "aware-robinson",
   "metadata": {},
   "source": [
    "## Zadaca 31"
   ]
  },
  {
   "cell_type": "code",
   "execution_count": 80,
   "id": "tested-chemical",
   "metadata": {},
   "outputs": [
    {
     "data": {
      "text/latex": [
       "$\\displaystyle \\left[\\begin{matrix}1 & 0 & 0\\\\0 & \\frac{1}{2} & - \\frac{\\sqrt{3}}{2}\\\\0 & \\frac{\\sqrt{3}}{2} & \\frac{1}{2}\\end{matrix}\\right]$"
      ],
      "text/plain": [
       "Matrix([\n",
       "[1,         0,          0],\n",
       "[0,       1/2, -sqrt(3)/2],\n",
       "[0, sqrt(3)/2,        1/2]])"
      ]
     },
     "execution_count": 80,
     "metadata": {},
     "output_type": "execute_result"
    }
   ],
   "source": [
    "F13 = sp.Matrix([\n",
    "    [0, 0, -1],\n",
    "    [0, 1, 0],\n",
    "    [1, 0, 0],\n",
    "])\n",
    "F12 = sp.Matrix([\n",
    "    [1, 0, 0],\n",
    "    [0, '1/2', -sp.sqrt(3)/2],\n",
    "    [0, sp.sqrt(3)/2, '1/2'],\n",
    "])\n"
   ]
  },
  {
   "cell_type": "code",
   "execution_count": 82,
   "id": "shared-quarter",
   "metadata": {},
   "outputs": [
    {
     "data": {
      "text/latex": [
       "$\\displaystyle \\left[\\begin{matrix}0 & 0 & -1\\\\\\frac{\\sqrt{3}}{2} & \\frac{1}{2} & 0\\\\\\frac{1}{2} & - \\frac{\\sqrt{3}}{2} & 0\\end{matrix}\\right]$"
      ],
      "text/plain": [
       "Matrix([\n",
       "[        0,          0, -1],\n",
       "[sqrt(3)/2,        1/2,  0],\n",
       "[      1/2, -sqrt(3)/2,  0]])"
      ]
     },
     "execution_count": 82,
     "metadata": {},
     "output_type": "execute_result"
    }
   ],
   "source": [
    "F23 = F12.inv()*F13\n",
    "F23"
   ]
  },
  {
   "cell_type": "markdown",
   "id": "endangered-reach",
   "metadata": {},
   "source": [
    "## Zadaca 32"
   ]
  },
  {
   "cell_type": "code",
   "execution_count": 86,
   "id": "fiscal-inspector",
   "metadata": {},
   "outputs": [
    {
     "data": {
      "text/latex": [
       "$\\displaystyle \\left[\\begin{matrix}\\cos{\\left(\\phi \\right)} \\cos{\\left(\\theta \\right)} & - \\sin{\\left(\\phi \\right)} \\cos{\\left(\\theta \\right)} & \\sin{\\left(\\theta \\right)} & 0\\\\\\sin{\\left(\\phi \\right)} & \\cos{\\left(\\phi \\right)} & 0 & 0\\\\- \\sin{\\left(\\theta \\right)} \\cos{\\left(\\phi \\right)} & \\sin{\\left(\\phi \\right)} \\sin{\\left(\\theta \\right)} & \\cos{\\left(\\theta \\right)} & 0\\\\0 & 0 & 0 & 1\\end{matrix}\\right]$"
      ],
      "text/plain": [
       "Matrix([\n",
       "[ cos(phi)*cos(theta), -sin(phi)*cos(theta), sin(theta), 0],\n",
       "[            sin(phi),             cos(phi),          0, 0],\n",
       "[-sin(theta)*cos(phi),  sin(phi)*sin(theta), cos(theta), 0],\n",
       "[                   0,                    0,          0, 1]])"
      ]
     },
     "execution_count": 86,
     "metadata": {},
     "output_type": "execute_result"
    }
   ],
   "source": [
    "theta, phi = sp.symbols('theta, phi')\n",
    "T1 = rt.hrotation3('y', theta)\n",
    "T2 = rt.hrotation3('z', phi)\n",
    "T1*T2"
   ]
  },
  {
   "cell_type": "markdown",
   "id": "correct-comment",
   "metadata": {},
   "source": [
    "## Zadaca 33"
   ]
  },
  {
   "cell_type": "code",
   "execution_count": 88,
   "id": "recovered-consequence",
   "metadata": {},
   "outputs": [
    {
     "data": {
      "text/latex": [
       "$\\displaystyle \\left[\\begin{matrix}\\cos{\\left(\\beta \\right)} \\cos{\\left(\\gamma \\right)} & - \\sin{\\left(\\gamma \\right)} & \\sin{\\left(\\beta \\right)} \\cos{\\left(\\gamma \\right)} & r \\sin{\\left(\\beta \\right)} \\cos{\\left(\\gamma \\right)}\\\\\\sin{\\left(\\gamma \\right)} \\cos{\\left(\\beta \\right)} & \\cos{\\left(\\gamma \\right)} & \\sin{\\left(\\beta \\right)} \\sin{\\left(\\gamma \\right)} & r \\sin{\\left(\\beta \\right)} \\sin{\\left(\\gamma \\right)}\\\\- \\sin{\\left(\\beta \\right)} & 0 & \\cos{\\left(\\beta \\right)} & r \\cos{\\left(\\beta \\right)}\\\\0 & 0 & 0 & 1\\end{matrix}\\right]$"
      ],
      "text/plain": [
       "Matrix([\n",
       "[cos(beta)*cos(gamma), -sin(gamma), sin(beta)*cos(gamma), r*sin(beta)*cos(gamma)],\n",
       "[sin(gamma)*cos(beta),  cos(gamma), sin(beta)*sin(gamma), r*sin(beta)*sin(gamma)],\n",
       "[          -sin(beta),           0,            cos(beta),            r*cos(beta)],\n",
       "[                   0,           0,                    0,                      1]])"
      ]
     },
     "execution_count": 88,
     "metadata": {},
     "output_type": "execute_result"
    }
   ],
   "source": [
    "gamma, beta, r = sp.symbols('gamma, beta, r')\n",
    "sphere = rt.hrotation3('a', gamma) * rt.hrotation3('o', beta) * rt.htranslation3(z=r)\n",
    "sphere"
   ]
  },
  {
   "cell_type": "code",
   "execution_count": 91,
   "id": "russian-trauma",
   "metadata": {},
   "outputs": [
    {
     "data": {
      "text/latex": [
       "$\\displaystyle \\left[\\begin{matrix}1 & 0 & 0 & r \\sin{\\left(\\beta \\right)} \\cos{\\left(\\gamma \\right)}\\\\0 & 1 & 0 & r \\sin{\\left(\\beta \\right)} \\sin{\\left(\\gamma \\right)}\\\\0 & 0 & 1 & r \\cos{\\left(\\beta \\right)}\\\\0 & 0 & 0 & 1\\end{matrix}\\right]$"
      ],
      "text/plain": [
       "Matrix([\n",
       "[1, 0, 0, r*sin(beta)*cos(gamma)],\n",
       "[0, 1, 0, r*sin(beta)*sin(gamma)],\n",
       "[0, 0, 1,            r*cos(beta)],\n",
       "[0, 0, 0,                      1]])"
      ]
     },
     "execution_count": 91,
     "metadata": {},
     "output_type": "execute_result"
    }
   ],
   "source": [
    "unrotated = sphere * rt.hrotation3('o', -beta) * rt.hrotation3('a', -gamma)\n",
    "sp.simplify(unrotated)"
   ]
  },
  {
   "cell_type": "markdown",
   "id": "dental-omaha",
   "metadata": {},
   "source": [
    "## Zadaca 34"
   ]
  },
  {
   "cell_type": "code",
   "execution_count": 93,
   "id": "illegal-reform",
   "metadata": {},
   "outputs": [],
   "source": [
    "x,y,z = 3.1375, 2.195, 3.214"
   ]
  },
  {
   "cell_type": "code",
   "execution_count": 99,
   "id": "broke-hygiene",
   "metadata": {},
   "outputs": [
    {
     "data": {
      "text/latex": [
       "$\\displaystyle 0.960337799284207$"
      ],
      "text/plain": [
       "0.960337799284207"
      ]
     },
     "execution_count": 99,
     "metadata": {},
     "output_type": "execute_result"
    }
   ],
   "source": [
    "gama = sp.atan(x/y)\n",
    "gama"
   ]
  },
  {
   "cell_type": "code",
   "execution_count": 102,
   "id": "faced-boulder",
   "metadata": {},
   "outputs": [
    {
     "data": {
      "text/latex": [
       "$\\displaystyle 4.99917265655028$"
      ],
      "text/plain": [
       "4.99917265655028"
      ]
     },
     "execution_count": 102,
     "metadata": {},
     "output_type": "execute_result"
    }
   ],
   "source": [
    "r = sp.sqrt(x**2 + y**2 + z**2)\n",
    "r"
   ]
  },
  {
   "cell_type": "code",
   "execution_count": 105,
   "id": "plastic-canal",
   "metadata": {},
   "outputs": [
    {
     "data": {
      "text/latex": [
       "$\\displaystyle 1.19137838625981$"
      ],
      "text/plain": [
       "1.19137838625981"
      ]
     },
     "execution_count": 105,
     "metadata": {},
     "output_type": "execute_result"
    }
   ],
   "source": [
    "beta = sp.sqrt((x**2 + y**2) / z**2)\n",
    "beta"
   ]
  },
  {
   "cell_type": "markdown",
   "id": "opposite-fruit",
   "metadata": {},
   "source": [
    "## Zadaca 35"
   ]
  },
  {
   "cell_type": "code",
   "execution_count": 2,
   "id": "reflected-choice",
   "metadata": {},
   "outputs": [],
   "source": [
    "x,y,z = 1.5, 1.5, sp.sqrt(6)/2"
   ]
  },
  {
   "cell_type": "code",
   "execution_count": 4,
   "id": "finished-image",
   "metadata": {},
   "outputs": [],
   "source": [
    "r, beta, gamma = sp.sqrt(x**2 + y**2 + z**2),sp.atan(sp.sqrt((x**2 + y**2) / z**2)), sp.atan(x/y)"
   ]
  },
  {
   "cell_type": "code",
   "execution_count": 5,
   "id": "nearby-interval",
   "metadata": {},
   "outputs": [
    {
     "data": {
      "text/latex": [
       "$\\displaystyle \\left[\\begin{matrix}0.353553390593274 & -0.707106781186547 & 0.612372435695795 & 1.5\\\\0.353553390593274 & 0.707106781186548 & 0.612372435695794 & 1.5\\\\-0.866025403784439 & 0 & 0.5 & 1.22474487139159\\\\0 & 0 & 0 & 1.0\\end{matrix}\\right]$"
      ],
      "text/plain": [
       "Matrix([\n",
       "[ 0.353553390593274, -0.707106781186547, 0.612372435695795,              1.5],\n",
       "[ 0.353553390593274,  0.707106781186548, 0.612372435695794,              1.5],\n",
       "[-0.866025403784439,                  0,               0.5, 1.22474487139159],\n",
       "[                 0,                  0,                 0,              1.0]])"
      ]
     },
     "execution_count": 5,
     "metadata": {},
     "output_type": "execute_result"
    }
   ],
   "source": [
    "S = rt.hrotation3('a', gamma) * rt.hrotation3('o', beta) * rt.htranslation3(z=r)\n",
    "S.evalf()"
   ]
  },
  {
   "cell_type": "markdown",
   "id": "southeast-formation",
   "metadata": {},
   "source": [
    "## Zadaca 36"
   ]
  },
  {
   "cell_type": "code",
   "execution_count": 8,
   "id": "recorded-writing",
   "metadata": {},
   "outputs": [
    {
     "data": {
      "text/latex": [
       "$\\displaystyle \\left[\\begin{matrix}- \\sin{\\left(\\theta_{1} \\right)} \\sin{\\left(\\theta_{3} \\right)} + \\cos{\\left(\\theta_{1} \\right)} \\cos{\\left(\\theta_{2} \\right)} \\cos{\\left(\\theta_{3} \\right)} & - \\sin{\\left(\\theta_{1} \\right)} \\cos{\\left(\\theta_{3} \\right)} - \\sin{\\left(\\theta_{3} \\right)} \\cos{\\left(\\theta_{1} \\right)} \\cos{\\left(\\theta_{2} \\right)} & \\sin{\\left(\\theta_{2} \\right)} \\cos{\\left(\\theta_{1} \\right)} & 0\\\\\\sin{\\left(\\theta_{1} \\right)} \\cos{\\left(\\theta_{2} \\right)} \\cos{\\left(\\theta_{3} \\right)} + \\sin{\\left(\\theta_{3} \\right)} \\cos{\\left(\\theta_{1} \\right)} & - \\sin{\\left(\\theta_{1} \\right)} \\sin{\\left(\\theta_{3} \\right)} \\cos{\\left(\\theta_{2} \\right)} + \\cos{\\left(\\theta_{1} \\right)} \\cos{\\left(\\theta_{3} \\right)} & \\sin{\\left(\\theta_{1} \\right)} \\sin{\\left(\\theta_{2} \\right)} & 0\\\\- \\sin{\\left(\\theta_{2} \\right)} \\cos{\\left(\\theta_{3} \\right)} & \\sin{\\left(\\theta_{2} \\right)} \\sin{\\left(\\theta_{3} \\right)} & \\cos{\\left(\\theta_{2} \\right)} & 0\\\\0 & 0 & 0 & 1\\end{matrix}\\right]$"
      ],
      "text/plain": [
       "Matrix([\n",
       "[-sin(theta_1)*sin(theta_3) + cos(theta_1)*cos(theta_2)*cos(theta_3), -sin(theta_1)*cos(theta_3) - sin(theta_3)*cos(theta_1)*cos(theta_2), sin(theta_2)*cos(theta_1), 0],\n",
       "[ sin(theta_1)*cos(theta_2)*cos(theta_3) + sin(theta_3)*cos(theta_1), -sin(theta_1)*sin(theta_3)*cos(theta_2) + cos(theta_1)*cos(theta_3), sin(theta_1)*sin(theta_2), 0],\n",
       "[                                         -sin(theta_2)*cos(theta_3),                                           sin(theta_2)*sin(theta_3),              cos(theta_2), 0],\n",
       "[                                                                  0,                                                                   0,                         0, 1]])"
      ]
     },
     "execution_count": 8,
     "metadata": {},
     "output_type": "execute_result"
    }
   ],
   "source": [
    "theta_1, theta_2, theta_3 = sp.symbols('theta_1, theta_2, theta_3')\n",
    "T1 = rt.hrotation3('a', theta_1)\n",
    "T2 = rt.hrotation3('o', theta_2)\n",
    "T3 = rt.hrotation3('a', theta_3)\n",
    "T1 * T2 * T3"
   ]
  },
  {
   "cell_type": "markdown",
   "id": "present-fields",
   "metadata": {
    "tags": []
   },
   "source": [
    "## Zadaca 37"
   ]
  },
  {
   "cell_type": "code",
   "execution_count": 13,
   "id": "fundamental-winning",
   "metadata": {},
   "outputs": [
    {
     "data": {
      "text/latex": [
       "$\\displaystyle \\left[\\begin{matrix}0 & -1 & 0 & 3\\\\-1 & 0 & 0 & 0\\\\0 & 0 & -1 & 0\\\\0 & 0 & 0 & 1\\end{matrix}\\right]$"
      ],
      "text/plain": [
       "Matrix([\n",
       "[ 0, -1,  0, 3],\n",
       "[-1,  0,  0, 0],\n",
       "[ 0,  0, -1, 0],\n",
       "[ 0,  0,  0, 1]])"
      ]
     },
     "execution_count": 13,
     "metadata": {},
     "output_type": "execute_result"
    }
   ],
   "source": [
    "T1 = rt.hrotation3('z', -sp.pi/2)\n",
    "T2 = rt.hrotation3('y', sp.pi)\n",
    "T3 = rt.htranslation3(x=3)\n",
    "T = T3 * T2 * T1\n",
    "T"
   ]
  },
  {
   "cell_type": "code",
   "execution_count": 11,
   "id": "incorporate-trial",
   "metadata": {},
   "outputs": [
    {
     "data": {
      "text/latex": [
       "$\\displaystyle \\left[\\begin{matrix}\\frac{\\pi}{2}\\\\\\pi\\\\0\\end{matrix}\\right]$"
      ],
      "text/plain": [
       "Matrix([\n",
       "[pi/2],\n",
       "[  pi],\n",
       "[   0]])"
      ]
     },
     "execution_count": 11,
     "metadata": {},
     "output_type": "execute_result"
    }
   ],
   "source": [
    "euler_angles = rt.euler_angles(T, 'zyz')\n",
    "euler_angles"
   ]
  },
  {
   "cell_type": "code",
   "execution_count": 12,
   "id": "played-syndication",
   "metadata": {},
   "outputs": [
    {
     "data": {
      "text/latex": [
       "$\\displaystyle \\left[\\begin{matrix}0 & -1 & 0 & 0\\\\-1 & 0 & 0 & 0\\\\0 & 0 & -1 & 0\\\\0 & 0 & 0 & 1\\end{matrix}\\right]$"
      ],
      "text/plain": [
       "Matrix([\n",
       "[ 0, -1,  0, 0],\n",
       "[-1,  0,  0, 0],\n",
       "[ 0,  0, -1, 0],\n",
       "[ 0,  0,  0, 1]])"
      ]
     },
     "execution_count": 12,
     "metadata": {},
     "output_type": "execute_result"
    }
   ],
   "source": [
    "rt.rotation_matrix_from_euler_angles(euler_angles,'zyz')"
   ]
  },
  {
   "cell_type": "markdown",
   "id": "novel-congo",
   "metadata": {},
   "source": [
    "## Zadaca 38"
   ]
  },
  {
   "cell_type": "code",
   "execution_count": 14,
   "id": "selective-louisville",
   "metadata": {},
   "outputs": [
    {
     "data": {
      "text/latex": [
       "$\\displaystyle \\left[\\begin{matrix}0 & -1 & 0 & 0\\\\\\frac{\\sqrt{2}}{2} & 0 & - \\frac{\\sqrt{2}}{2} & -1\\\\\\frac{\\sqrt{2}}{2} & 0 & \\frac{\\sqrt{2}}{2} & 6\\\\0 & 0 & 0 & 1\\end{matrix}\\right]$"
      ],
      "text/plain": [
       "Matrix([\n",
       "[        0, -1,          0,  0],\n",
       "[sqrt(2)/2,  0, -sqrt(2)/2, -1],\n",
       "[sqrt(2)/2,  0,  sqrt(2)/2,  6],\n",
       "[        0,  0,          0,  1]])"
      ]
     },
     "execution_count": 14,
     "metadata": {},
     "output_type": "execute_result"
    }
   ],
   "source": [
    "t1 = rt.htranslation3(x=5)\n",
    "t2 = rt.hrotation3('o', sp.pi/4)\n",
    "t3 = rt.hrotation3('z', sp.pi/2)\n",
    "t4 = rt.htranslation3(z=sp.sqrt(2))\n",
    "t5 = rt.hrotation3('x', sp.pi/2)\n",
    "T = t5 * t3 * t1 * t2 * t4\n",
    "T"
   ]
  },
  {
   "cell_type": "code",
   "execution_count": 15,
   "id": "artistic-seating",
   "metadata": {},
   "outputs": [
    {
     "data": {
      "text/latex": [
       "$\\displaystyle \\left[\\begin{matrix}- \\frac{\\pi}{2}\\\\\\frac{\\pi}{4}\\\\\\pi\\end{matrix}\\right]$"
      ],
      "text/plain": [
       "Matrix([\n",
       "[-pi/2],\n",
       "[ pi/4],\n",
       "[   pi]])"
      ]
     },
     "execution_count": 15,
     "metadata": {},
     "output_type": "execute_result"
    }
   ],
   "source": [
    "euler_angles = rt.euler_angles(T, 'zyz')\n",
    "euler_angles"
   ]
  },
  {
   "cell_type": "markdown",
   "id": "indian-arctic",
   "metadata": {},
   "source": [
    "## Zadaca 39-41"
   ]
  },
  {
   "cell_type": "code",
   "execution_count": 16,
   "id": "industrial-enterprise",
   "metadata": {},
   "outputs": [
    {
     "data": {
      "text/latex": [
       "$\\displaystyle \\left[\\begin{matrix}r_{11} & r_{12} & r_{13}\\\\r_{21} & r_{22} & r_{23}\\\\r_{31} & r_{32} & r_{33}\\end{matrix}\\right]$"
      ],
      "text/plain": [
       "Matrix([\n",
       "[r11, r12, r13],\n",
       "[r21, r22, r23],\n",
       "[r31, r32, r33]])"
      ]
     },
     "execution_count": 16,
     "metadata": {},
     "output_type": "execute_result"
    }
   ],
   "source": [
    "r11, r12, r13, r21, r22, r23, r31, r32, r33 = sp.symbols('r11, r12, r13, r21, r22, r23, r31, r32, r33')\n",
    "T = sp.Matrix([[r11, r12, r13], [r21, r22, r23], [r31, r32, r33]])\n",
    "T"
   ]
  },
  {
   "cell_type": "code",
   "execution_count": 24,
   "id": "bound-princeton",
   "metadata": {},
   "outputs": [
    {
     "name": "stdout",
     "output_type": "stream",
     "text": [
      "⎡atan2(-r₂₃, r₃₃)⎤\n",
      "⎢                ⎥\n",
      "⎢   asin(r₁₃)    ⎥\n",
      "⎢                ⎥\n",
      "⎣atan2(-r₁₂, r₁₁)⎦\n",
      "\n",
      "⎡atan2(r₃₂, r₂₂)⎤\n",
      "⎢               ⎥\n",
      "⎢  -asin(r₁₂)   ⎥\n",
      "⎢               ⎥\n",
      "⎣atan2(r₁₃, r₁₁)⎦\n",
      "\n",
      " RPY se ojlerovi ZYX \n",
      "\n",
      "⎡atan2(r₂₁, r₁₁)⎤\n",
      "⎢               ⎥\n",
      "⎢  -asin(r₃₁)   ⎥\n",
      "⎢               ⎥\n",
      "⎣atan2(r₃₂, r₃₃)⎦\n"
     ]
    }
   ],
   "source": [
    "sp.pprint(rt.euler_angles(T,'xyz'))\n",
    "print()\n",
    "sp.pprint(rt.euler_angles(T,'xzy'))\n",
    "print('\\n RPY se ojlerovi ZYX \\n')\n",
    "sp.pprint(rt.euler_angles(T,'zyx'))"
   ]
  },
  {
   "cell_type": "markdown",
   "id": "stable-running",
   "metadata": {},
   "source": [
    "## Zadaca 42"
   ]
  },
  {
   "cell_type": "code",
   "execution_count": 40,
   "id": "outstanding-kenya",
   "metadata": {},
   "outputs": [
    {
     "data": {
      "text/latex": [
       "$\\displaystyle \\left[\\begin{matrix}\\frac{\\sqrt{3}}{4} & - \\frac{1}{2} & \\frac{3}{4} & \\frac{9}{4} + \\frac{5 \\sqrt{3}}{2}\\\\\\frac{\\sqrt{2}}{8} + \\frac{\\sqrt{6}}{4} & \\frac{\\sqrt{6}}{4} & - \\frac{\\sqrt{2}}{4} + \\frac{\\sqrt{6}}{8} & \\frac{\\sqrt{2}}{2} + \\frac{3 \\sqrt{6}}{8}\\\\- \\frac{\\sqrt{6}}{4} + \\frac{\\sqrt{2}}{8} & \\frac{\\sqrt{6}}{4} & \\frac{\\sqrt{6}}{8} + \\frac{\\sqrt{2}}{4} & \\frac{3 \\sqrt{6}}{8} + 2 \\sqrt{2}\\\\0 & 0 & 0 & 1\\end{matrix}\\right]$"
      ],
      "text/plain": [
       "Matrix([\n",
       "[             sqrt(3)/4,      -1/2,                    3/4,       9/4 + 5*sqrt(3)/2],\n",
       "[ sqrt(2)/8 + sqrt(6)/4, sqrt(6)/4, -sqrt(2)/4 + sqrt(6)/8, sqrt(2)/2 + 3*sqrt(6)/8],\n",
       "[-sqrt(6)/4 + sqrt(2)/8, sqrt(6)/4,  sqrt(6)/8 + sqrt(2)/4, 3*sqrt(6)/8 + 2*sqrt(2)],\n",
       "[                     0,         0,                      0,                       1]])"
      ]
     },
     "execution_count": 40,
     "metadata": {},
     "output_type": "execute_result"
    }
   ],
   "source": [
    "t1 = rt.htranslation3(x=5)\n",
    "t2 = rt.hrotation3('o', sp.rad(60))\n",
    "t3 = rt.hrotation3('z', sp.rad(30))\n",
    "t4 = rt.htranslation3(z=3)\n",
    "t5 = rt.hrotation3('x', sp.rad(45))\n",
    "T = t5 * t3 * t1 * t2 * t4\n",
    "T"
   ]
  },
  {
   "cell_type": "code",
   "execution_count": 41,
   "id": "fatal-schedule",
   "metadata": {},
   "outputs": [
    {
     "data": {
      "text/latex": [
       "$\\displaystyle \\left[\\begin{matrix}61.246056618025\\\\25.8232078223648\\\\42.867573148363\\end{matrix}\\right]$"
      ],
      "text/plain": [
       "Matrix([\n",
       "[ 61.246056618025],\n",
       "[25.8232078223648],\n",
       "[ 42.867573148363]])"
      ]
     },
     "execution_count": 41,
     "metadata": {},
     "output_type": "execute_result"
    }
   ],
   "source": [
    "sp.deg(rt.euler_angles(T,'zyx')).evalf()"
   ]
  },
  {
   "cell_type": "markdown",
   "id": "flexible-alpha",
   "metadata": {},
   "source": [
    "## Zadaca 43"
   ]
  },
  {
   "cell_type": "code",
   "execution_count": 42,
   "id": "starting-recall",
   "metadata": {},
   "outputs": [
    {
     "data": {
      "text/latex": [
       "$\\displaystyle \\left[\\begin{matrix}0.527 & -0.574 & 0.628 & 4\\\\0.369 & 0.189 & 0.439 & 6\\\\-0.766 & 0 & 0.643 & 9\\\\0 & 0 & 0 & 1\\end{matrix}\\right]$"
      ],
      "text/plain": [
       "Matrix([\n",
       "[ 0.527, -0.574, 0.628, 4],\n",
       "[ 0.369,  0.189, 0.439, 6],\n",
       "[-0.766,      0, 0.643, 9],\n",
       "[     0,      0,     0, 1]])"
      ]
     },
     "execution_count": 42,
     "metadata": {},
     "output_type": "execute_result"
    }
   ],
   "source": [
    "T = sp.Matrix([\n",
    "    [0.527, -0.574, 0.628, 4],\n",
    "    [0.369, 0.189, 0.439, 6],\n",
    "    [-0.766, 0, 0.643, 9],\n",
    "    [0, 0, 0, 1],\n",
    "])\n",
    "T"
   ]
  },
  {
   "cell_type": "code",
   "execution_count": 43,
   "id": "worst-links",
   "metadata": {},
   "outputs": [
    {
     "data": {
      "text/latex": [
       "$\\displaystyle \\left[\\begin{matrix}34.9993162356405\\\\49.996038663149\\\\0\\end{matrix}\\right]$"
      ],
      "text/plain": [
       "Matrix([\n",
       "[34.9993162356405],\n",
       "[ 49.996038663149],\n",
       "[               0]])"
      ]
     },
     "execution_count": 43,
     "metadata": {},
     "output_type": "execute_result"
    }
   ],
   "source": [
    "sp.deg(rt.euler_angles(T,'zyx')).evalf()"
   ]
  },
  {
   "cell_type": "code",
   "execution_count": 45,
   "id": "annual-identification",
   "metadata": {},
   "outputs": [
    {
     "data": {
      "text/latex": [
       "$\\displaystyle \\left[\\begin{matrix}0.52658856828585 & -0.573566660599361 & 0.627475709170925 & 0\\\\0.368711919729561 & 0.819158889257082 & 0.439352062019111 & 0\\\\-0.766 & 0 & 0.642840571214979 & 0\\\\0 & 0 & 0 & 1\\end{matrix}\\right]$"
      ],
      "text/plain": [
       "Matrix([\n",
       "[ 0.52658856828585, -0.573566660599361, 0.627475709170925, 0],\n",
       "[0.368711919729561,  0.819158889257082, 0.439352062019111, 0],\n",
       "[           -0.766,                  0, 0.642840571214979, 0],\n",
       "[                0,                  0,                 0, 1]])"
      ]
     },
     "execution_count": 45,
     "metadata": {},
     "output_type": "execute_result"
    }
   ],
   "source": [
    "rt.rotation_matrix_from_euler_angles(rt.euler_angles(T,'zyx'),'zyx')"
   ]
  },
  {
   "cell_type": "markdown",
   "id": "caring-wichita",
   "metadata": {},
   "source": [
    "## Zacada 47"
   ]
  },
  {
   "cell_type": "code",
   "execution_count": 15,
   "id": "beautiful-failing",
   "metadata": {},
   "outputs": [
    {
     "data": {
      "application/vnd.jupyter.widget-view+json": {
       "model_id": "d93a45fe0f034b128a6e7e9a67ffa1a2",
       "version_major": 2,
       "version_minor": 0
      },
      "text/plain": [
       "VBox(children=(ToggleButtons(options=('Зглоб 1', 'Зглоб 2'), value='Зглоб 1'), FloatSlider(value=1.0, descript…"
      ]
     },
     "metadata": {},
     "output_type": "display_data"
    }
   ],
   "source": [
    "d1, d2 = sp.symbols('d1, d2')\n",
    "robot = rt.SerialLinkRobot()\n",
    "robot.add_prismatic_joint(0,d1,0,-sp.pi/2)\n",
    "robot.add_prismatic_joint(0,d2,0,0)\n",
    "robot.interact()"
   ]
  },
  {
   "cell_type": "code",
   "execution_count": 22,
   "id": "frequent-doubt",
   "metadata": {},
   "outputs": [
    {
     "data": {
      "text/latex": [
       "$\\displaystyle \\left[\\begin{matrix}1 & 0 & 0 & 0\\\\0 & 0 & 1 & d_{2}\\\\0 & -1 & 0 & d_{1}\\\\0 & 0 & 0 & 1\\end{matrix}\\right]$"
      ],
      "text/plain": [
       "Matrix([\n",
       "[1,  0, 0,  0],\n",
       "[0,  0, 1, d2],\n",
       "[0, -1, 0, d1],\n",
       "[0,  0, 0,  1]])"
      ]
     },
     "execution_count": 22,
     "metadata": {},
     "output_type": "execute_result"
    }
   ],
   "source": [
    "a1 = robot.get_dh_joint_to_joint(0,1)\n",
    "a2 = robot.get_dh_joint_to_joint(1,2)\n",
    "a1 * a2 "
   ]
  },
  {
   "cell_type": "markdown",
   "id": "advance-timing",
   "metadata": {},
   "source": [
    "## Zadaca 48"
   ]
  },
  {
   "cell_type": "code",
   "execution_count": 40,
   "id": "continent-blond",
   "metadata": {},
   "outputs": [
    {
     "data": {
      "application/vnd.jupyter.widget-view+json": {
       "model_id": "9a760f57d8ca40ab9e7b22cac779d468",
       "version_major": 2,
       "version_minor": 0
      },
      "text/plain": [
       "VBox(children=(ToggleButtons(options=('Зглоб 1', 'Зглоб 2', 'Зглоб 3'), value='Зглоб 1'), FloatSlider(value=1.…"
      ]
     },
     "metadata": {},
     "output_type": "display_data"
    }
   ],
   "source": [
    "d1, d2, d3 = sp.symbols('d1, d2, d3')\n",
    "robot = rt.SerialLinkRobot()\n",
    "robot.add_prismatic_joint(0,d1,0,-sp.pi/2)\n",
    "robot.add_prismatic_joint(sp.pi/2,d2,0,-sp.pi/2)\n",
    "robot.add_prismatic_joint(0,d3,0,0)\n",
    "robot.interact()"
   ]
  },
  {
   "cell_type": "code",
   "execution_count": 44,
   "id": "impressive-warning",
   "metadata": {},
   "outputs": [
    {
     "data": {
      "text/latex": [
       "$\\displaystyle \\left[\\begin{matrix}0 & 0 & -1 & - d_{3}\\\\0 & -1 & 0 & d_{2}\\\\-1 & 0 & 0 & d_{1}\\\\0 & 0 & 0 & 1\\end{matrix}\\right]$"
      ],
      "text/plain": [
       "Matrix([\n",
       "[ 0,  0, -1, -d3],\n",
       "[ 0, -1,  0,  d2],\n",
       "[-1,  0,  0,  d1],\n",
       "[ 0,  0,  0,   1]])"
      ]
     },
     "execution_count": 44,
     "metadata": {},
     "output_type": "execute_result"
    }
   ],
   "source": [
    "a1 = robot.get_dh_joint_to_joint(0,1)\n",
    "a2 = robot.get_dh_joint_to_joint(1,2)\n",
    "a3 = robot.get_dh_joint_to_joint(2,3)\n",
    "a1*a2*a3"
   ]
  },
  {
   "cell_type": "markdown",
   "id": "aware-temple",
   "metadata": {},
   "source": [
    "## Zadaca 49"
   ]
  },
  {
   "cell_type": "code",
   "execution_count": 57,
   "id": "fifth-graduate",
   "metadata": {},
   "outputs": [
    {
     "data": {
      "application/vnd.jupyter.widget-view+json": {
       "model_id": "26d6300de3a04c3a92d77d554604f34f",
       "version_major": 2,
       "version_minor": 0
      },
      "text/plain": [
       "VBox(children=(ToggleButtons(options=('Зглоб 1', 'Зглоб 2'), value='Зглоб 1'), FloatSlider(value=0.0, descript…"
      ]
     },
     "metadata": {},
     "output_type": "display_data"
    }
   ],
   "source": [
    "theta1, theta2, l1, l2 = sp.symbols('theta1, theta2, l1, l2')\n",
    "robot = rt.SerialLinkRobot()\n",
    "robot.add_revolute_joint(theta1,0,l1,0)\n",
    "robot.add_revolute_joint(theta2,0,l2,-sp.pi/2)\n",
    "robot.add_subs([(l1,1),(l2,1)])\n",
    "robot.interact()"
   ]
  },
  {
   "cell_type": "code",
   "execution_count": 59,
   "id": "herbal-lemon",
   "metadata": {},
   "outputs": [
    {
     "data": {
      "text/latex": [
       "$\\displaystyle \\left[\\begin{matrix}\\cos{\\left(\\theta_{1} + \\theta_{2} \\right)} & 0 & - \\sin{\\left(\\theta_{1} + \\theta_{2} \\right)} & l_{1} \\cos{\\left(\\theta_{1} \\right)} + l_{2} \\cos{\\left(\\theta_{1} + \\theta_{2} \\right)}\\\\\\sin{\\left(\\theta_{1} + \\theta_{2} \\right)} & 0 & \\cos{\\left(\\theta_{1} + \\theta_{2} \\right)} & l_{1} \\sin{\\left(\\theta_{1} \\right)} + l_{2} \\sin{\\left(\\theta_{1} + \\theta_{2} \\right)}\\\\0 & -1 & 0 & 0\\\\0 & 0 & 0 & 1\\end{matrix}\\right]$"
      ],
      "text/plain": [
       "Matrix([\n",
       "[cos(theta1 + theta2),  0, -sin(theta1 + theta2), l1*cos(theta1) + l2*cos(theta1 + theta2)],\n",
       "[sin(theta1 + theta2),  0,  cos(theta1 + theta2), l1*sin(theta1) + l2*sin(theta1 + theta2)],\n",
       "[                   0, -1,                     0,                                        0],\n",
       "[                   0,  0,                     0,                                        1]])"
      ]
     },
     "execution_count": 59,
     "metadata": {},
     "output_type": "execute_result"
    }
   ],
   "source": [
    "a1 = robot.get_dh_joint_to_joint(0,1)\n",
    "a2 = robot.get_dh_joint_to_joint(1,2)\n",
    "sp.simplify(a1*a2)"
   ]
  },
  {
   "cell_type": "markdown",
   "id": "massive-likelihood",
   "metadata": {},
   "source": [
    "## Zadaca 51"
   ]
  },
  {
   "cell_type": "code",
   "execution_count": 68,
   "id": "israeli-swing",
   "metadata": {},
   "outputs": [
    {
     "data": {
      "application/vnd.jupyter.widget-view+json": {
       "model_id": "d96ad37db1d74a1fba8e2aeadc329a04",
       "version_major": 2,
       "version_minor": 0
      },
      "text/plain": [
       "VBox(children=(ToggleButtons(options=('Зглоб 1', 'Зглоб 2', 'Зглоб 3'), value='Зглоб 1'), FloatSlider(value=0.…"
      ]
     },
     "metadata": {},
     "output_type": "display_data"
    }
   ],
   "source": [
    "theta1, theta2, theta3, l1, l2, l3 = sp.symbols('theta1, theta2, theta3, l1, l2, l3')\n",
    "robot = rt.SerialLinkRobot()\n",
    "robot.add_revolute_joint(theta1,l1,0,-sp.pi/2)\n",
    "robot.add_revolute_joint(theta2,0,l2,0)\n",
    "robot.add_revolute_joint(theta3,0,l3,0)\n",
    "robot.add_subs([(l1,1),(l2,1),(l3,1)])\n",
    "robot.interact()"
   ]
  },
  {
   "cell_type": "code",
   "execution_count": 71,
   "id": "positive-essence",
   "metadata": {},
   "outputs": [
    {
     "data": {
      "text/latex": [
       "$\\displaystyle \\left[\\begin{matrix}\\cos{\\left(\\theta_{1} \\right)} \\cos{\\left(\\theta_{2} + \\theta_{3} \\right)} & - \\sin{\\left(\\theta_{2} + \\theta_{3} \\right)} \\cos{\\left(\\theta_{1} \\right)} & - \\sin{\\left(\\theta_{1} \\right)} & \\left(l_{2} \\cos{\\left(\\theta_{2} \\right)} + l_{3} \\cos{\\left(\\theta_{2} + \\theta_{3} \\right)}\\right) \\cos{\\left(\\theta_{1} \\right)}\\\\\\sin{\\left(\\theta_{1} \\right)} \\cos{\\left(\\theta_{2} + \\theta_{3} \\right)} & - \\sin{\\left(\\theta_{1} \\right)} \\sin{\\left(\\theta_{2} + \\theta_{3} \\right)} & \\cos{\\left(\\theta_{1} \\right)} & \\left(l_{2} \\cos{\\left(\\theta_{2} \\right)} + l_{3} \\cos{\\left(\\theta_{2} + \\theta_{3} \\right)}\\right) \\sin{\\left(\\theta_{1} \\right)}\\\\- \\sin{\\left(\\theta_{2} + \\theta_{3} \\right)} & - \\cos{\\left(\\theta_{2} + \\theta_{3} \\right)} & 0 & l_{1} - l_{2} \\sin{\\left(\\theta_{2} \\right)} - l_{3} \\sin{\\left(\\theta_{2} + \\theta_{3} \\right)}\\\\0 & 0 & 0 & 1\\end{matrix}\\right]$"
      ],
      "text/plain": [
       "Matrix([\n",
       "[cos(theta1)*cos(theta2 + theta3), -sin(theta2 + theta3)*cos(theta1), -sin(theta1), (l2*cos(theta2) + l3*cos(theta2 + theta3))*cos(theta1)],\n",
       "[sin(theta1)*cos(theta2 + theta3), -sin(theta1)*sin(theta2 + theta3),  cos(theta1), (l2*cos(theta2) + l3*cos(theta2 + theta3))*sin(theta1)],\n",
       "[           -sin(theta2 + theta3),             -cos(theta2 + theta3),            0,          l1 - l2*sin(theta2) - l3*sin(theta2 + theta3)],\n",
       "[                               0,                                 0,            0,                                                      1]])"
      ]
     },
     "execution_count": 71,
     "metadata": {},
     "output_type": "execute_result"
    }
   ],
   "source": [
    "a1 = robot.get_dh_joint_to_joint(0,1)\n",
    "a2 = robot.get_dh_joint_to_joint(1,2)\n",
    "a3 = robot.get_dh_joint_to_joint(2,3)\n",
    "sp.simplify(a1*a2*a3)"
   ]
  },
  {
   "cell_type": "markdown",
   "id": "offshore-silly",
   "metadata": {},
   "source": [
    "## Zadaca 52"
   ]
  },
  {
   "cell_type": "code",
   "execution_count": 79,
   "id": "human-greene",
   "metadata": {},
   "outputs": [
    {
     "data": {
      "application/vnd.jupyter.widget-view+json": {
       "model_id": "0d45ddf72e79423abeae74e1fd424fa2",
       "version_major": 2,
       "version_minor": 0
      },
      "text/plain": [
       "VBox(children=(ToggleButtons(options=('Зглоб 1', 'Зглоб 2', 'Зглоб 3'), value='Зглоб 1'), FloatSlider(value=0.…"
      ]
     },
     "metadata": {},
     "output_type": "display_data"
    }
   ],
   "source": [
    "theta1, d2, theta3, d1, l3 = sp.symbols('theta1, d2, theta3, d1, l3')\n",
    "robot = rt.SerialLinkRobot()\n",
    "robot.add_revolute_joint(theta1,0,0,-sp.pi/2)\n",
    "robot.add_prismatic_joint(0,d1,0,sp.pi/2)\n",
    "robot.add_revolute_joint(theta2,0,1,0)\n",
    "robot.interact()"
   ]
  },
  {
   "cell_type": "code",
   "execution_count": 80,
   "id": "applied-theta",
   "metadata": {},
   "outputs": [
    {
     "data": {
      "text/latex": [
       "$\\displaystyle \\left[\\begin{matrix}\\cos{\\left(\\theta_{1} + \\theta_{2} \\right)} & - \\sin{\\left(\\theta_{1} + \\theta_{2} \\right)} & 0 & - d_{1} \\sin{\\left(\\theta_{1} \\right)} + \\cos{\\left(\\theta_{1} + \\theta_{2} \\right)}\\\\\\sin{\\left(\\theta_{1} + \\theta_{2} \\right)} & \\cos{\\left(\\theta_{1} + \\theta_{2} \\right)} & 0 & d_{1} \\cos{\\left(\\theta_{1} \\right)} + \\sin{\\left(\\theta_{1} + \\theta_{2} \\right)}\\\\0 & 0 & 1 & 0\\\\0 & 0 & 0 & 1\\end{matrix}\\right]$"
      ],
      "text/plain": [
       "Matrix([\n",
       "[cos(theta1 + theta2), -sin(theta1 + theta2), 0, -d1*sin(theta1) + cos(theta1 + theta2)],\n",
       "[sin(theta1 + theta2),  cos(theta1 + theta2), 0,  d1*cos(theta1) + sin(theta1 + theta2)],\n",
       "[                   0,                     0, 1,                                      0],\n",
       "[                   0,                     0, 0,                                      1]])"
      ]
     },
     "execution_count": 80,
     "metadata": {},
     "output_type": "execute_result"
    }
   ],
   "source": [
    "a1 = robot.get_dh_joint_to_joint(0,1)\n",
    "a2 = robot.get_dh_joint_to_joint(1,2)\n",
    "a3 = robot.get_dh_joint_to_joint(2,3)\n",
    "sp.simplify(a1*a2*a3)"
   ]
  },
  {
   "cell_type": "markdown",
   "id": "extensive-cancer",
   "metadata": {},
   "source": [
    "## Zadaca 53"
   ]
  },
  {
   "cell_type": "code",
   "execution_count": 123,
   "id": "local-pension",
   "metadata": {},
   "outputs": [
    {
     "data": {
      "application/vnd.jupyter.widget-view+json": {
       "model_id": "19cf6a9e46974930aa29184cd6d9cec8",
       "version_major": 2,
       "version_minor": 0
      },
      "text/plain": [
       "VBox(children=(ToggleButtons(options=('Зглоб 1', 'Зглоб 2', 'Зглоб 3'), value='Зглоб 1'), FloatSlider(value=0.…"
      ]
     },
     "metadata": {},
     "output_type": "display_data"
    }
   ],
   "source": [
    "theta1, d1, d2 = sp.symbols('theta1, d1, d2')\n",
    "robot = rt.SerialLinkRobot()\n",
    "robot.add_revolute_joint(theta1,0,0,0)\n",
    "robot.add_prismatic_joint(0,d1,0,-sp.pi/2)\n",
    "robot.add_prismatic_joint(0,d2,0,0)\n",
    "robot.interact()"
   ]
  },
  {
   "cell_type": "code",
   "execution_count": 90,
   "id": "hollow-helmet",
   "metadata": {},
   "outputs": [
    {
     "data": {
      "text/latex": [
       "$\\displaystyle \\left[\\begin{matrix}\\cos{\\left(\\theta_{1} \\right)} & 0 & - \\sin{\\left(\\theta_{1} \\right)} & - d_{2} \\sin{\\left(\\theta_{1} \\right)}\\\\\\sin{\\left(\\theta_{1} \\right)} & 0 & \\cos{\\left(\\theta_{1} \\right)} & d_{2} \\cos{\\left(\\theta_{1} \\right)}\\\\0 & -1 & 0 & d_{1}\\\\0 & 0 & 0 & 1\\end{matrix}\\right]$"
      ],
      "text/plain": [
       "Matrix([\n",
       "[cos(theta1),  0, -sin(theta1), -d2*sin(theta1)],\n",
       "[sin(theta1),  0,  cos(theta1),  d2*cos(theta1)],\n",
       "[          0, -1,            0,              d1],\n",
       "[          0,  0,            0,               1]])"
      ]
     },
     "execution_count": 90,
     "metadata": {},
     "output_type": "execute_result"
    }
   ],
   "source": [
    "a1 = robot.get_dh_joint_to_joint(0,1)\n",
    "a2 = robot.get_dh_joint_to_joint(1,2)\n",
    "a3 = robot.get_dh_joint_to_joint(2,3)\n",
    "sp.simplify(a1*a2*a3)"
   ]
  },
  {
   "cell_type": "markdown",
   "id": "assumed-minneapolis",
   "metadata": {},
   "source": [
    "## Zadaca 54"
   ]
  },
  {
   "cell_type": "code",
   "execution_count": 124,
   "id": "expired-prototype",
   "metadata": {
    "tags": []
   },
   "outputs": [
    {
     "data": {
      "application/vnd.jupyter.widget-view+json": {
       "model_id": "8b4f0dbafcf2443b91d3aa84591d621a",
       "version_major": 2,
       "version_minor": 0
      },
      "text/plain": [
       "VBox(children=(ToggleButtons(options=('Зглоб 1', 'Зглоб 2', 'Зглоб 3'), value='Зглоб 1'), FloatSlider(value=0.…"
      ]
     },
     "metadata": {},
     "output_type": "display_data"
    }
   ],
   "source": [
    "theta4, theta5, theta6 = sp.symbols('theta4, theta5, theta6')\n",
    "robot = rt.SerialLinkRobot()\n",
    "robot.add_revolute_joint(theta4,0,0,sp.pi/2)\n",
    "robot.add_revolute_joint(theta5,0,0,-sp.pi/2)\n",
    "robot.add_revolute_joint(theta6,1,0,0)\n",
    "robot.interact()"
   ]
  },
  {
   "cell_type": "markdown",
   "id": "corresponding-contact",
   "metadata": {},
   "source": [
    "## Zadaca 57"
   ]
  },
  {
   "cell_type": "code",
   "execution_count": 111,
   "id": "temporal-column",
   "metadata": {},
   "outputs": [
    {
     "data": {
      "application/vnd.jupyter.widget-view+json": {
       "model_id": "4e8ff15b55614ae3860f95b9770c9d0d",
       "version_major": 2,
       "version_minor": 0
      },
      "text/plain": [
       "VBox(children=(ToggleButtons(options=('Зглоб 1', 'Зглоб 2', 'Зглоб 3'), value='Зглоб 1'), FloatSlider(value=0.…"
      ]
     },
     "metadata": {},
     "output_type": "display_data"
    }
   ],
   "source": [
    "theta1, theta2, d1, d3 = sp.symbols('theta1, theta2, d1, d3')\n",
    "robot = rt.SerialLinkRobot()\n",
    "robot.add_revolute_joint(theta1,d1,0,sp.pi/2)\n",
    "robot.add_revolute_joint(theta2,0,0,-sp.pi/2)\n",
    "robot.add_prismatic_joint(0,d3,0,0)\n",
    "robot.add_subs([(d1,1)])\n",
    "robot.interact()"
   ]
  },
  {
   "cell_type": "markdown",
   "id": "figured-treasure",
   "metadata": {},
   "source": [
    "## Zadaca 58"
   ]
  },
  {
   "cell_type": "code",
   "execution_count": 121,
   "id": "canadian-fossil",
   "metadata": {},
   "outputs": [
    {
     "data": {
      "application/vnd.jupyter.widget-view+json": {
       "model_id": "831679c8a14244d384889db420c9cbf9",
       "version_major": 2,
       "version_minor": 0
      },
      "text/plain": [
       "VBox(children=(ToggleButtons(options=('Зглоб 1', 'Зглоб 2', 'Зглоб 3', 'Зглоб 4'), value='Зглоб 1'), FloatSlid…"
      ]
     },
     "metadata": {},
     "output_type": "display_data"
    }
   ],
   "source": [
    "theta1, theta2, d1, l2, l3, d4 = sp.symbols('theta1, theta2, d1, l2, l3, d4')\n",
    "robot = rt.SerialLinkRobot()\n",
    "robot.add_prismatic_joint(0,d1,0,0)\n",
    "robot.add_revolute_joint(theta1,0,l2,0)\n",
    "robot.add_revolute_joint(theta2,0,l3,sp.pi)\n",
    "robot.add_prismatic_joint(0,d4,0,0)\n",
    "robot.add_subs([(l2,1),(l3,1)])\n",
    "robot.interact()"
   ]
  },
  {
   "cell_type": "code",
   "execution_count": 122,
   "id": "fiscal-austin",
   "metadata": {},
   "outputs": [
    {
     "data": {
      "text/latex": [
       "$\\displaystyle \\left[\\begin{matrix}\\cos{\\left(\\theta_{1} + \\theta_{2} \\right)} & \\sin{\\left(\\theta_{1} + \\theta_{2} \\right)} & 0 & l_{2} \\cos{\\left(\\theta_{1} \\right)} + l_{3} \\cos{\\left(\\theta_{1} + \\theta_{2} \\right)}\\\\\\sin{\\left(\\theta_{1} + \\theta_{2} \\right)} & - \\cos{\\left(\\theta_{1} + \\theta_{2} \\right)} & 0 & l_{2} \\sin{\\left(\\theta_{1} \\right)} + l_{3} \\sin{\\left(\\theta_{1} + \\theta_{2} \\right)}\\\\0 & 0 & -1 & d_{1} - d_{4}\\\\0 & 0 & 0 & 1\\end{matrix}\\right]$"
      ],
      "text/plain": [
       "Matrix([\n",
       "[cos(theta1 + theta2),  sin(theta1 + theta2),  0, l2*cos(theta1) + l3*cos(theta1 + theta2)],\n",
       "[sin(theta1 + theta2), -cos(theta1 + theta2),  0, l2*sin(theta1) + l3*sin(theta1 + theta2)],\n",
       "[                   0,                     0, -1,                                  d1 - d4],\n",
       "[                   0,                     0,  0,                                        1]])"
      ]
     },
     "execution_count": 122,
     "metadata": {},
     "output_type": "execute_result"
    }
   ],
   "source": [
    "a1 = robot.get_dh_joint_to_joint(0,1)\n",
    "a2 = robot.get_dh_joint_to_joint(1,2)\n",
    "a3 = robot.get_dh_joint_to_joint(2,3)\n",
    "a4 = robot.get_dh_joint_to_joint(3,4)\n",
    "sp.simplify(a1*a2*a3*a4)"
   ]
  },
  {
   "cell_type": "markdown",
   "id": "unsigned-boulder",
   "metadata": {},
   "source": [
    "## Zadaca 60"
   ]
  },
  {
   "cell_type": "code",
   "execution_count": 4,
   "id": "metropolitan-marsh",
   "metadata": {},
   "outputs": [
    {
     "data": {
      "text/latex": [
       "$\\displaystyle \\left[\\begin{matrix}\\cos{\\left(\\theta_{1} + \\theta_{2} \\right)} & - \\sin{\\left(\\theta_{1} + \\theta_{2} \\right)} & 0 & l_{1} \\cos{\\left(\\theta_{1} \\right)} + l_{2} \\cos{\\left(\\theta_{1} + \\theta_{2} \\right)}\\\\\\sin{\\left(\\theta_{1} + \\theta_{2} \\right)} & \\cos{\\left(\\theta_{1} + \\theta_{2} \\right)} & 0 & l_{1} \\sin{\\left(\\theta_{1} \\right)} + l_{2} \\sin{\\left(\\theta_{1} + \\theta_{2} \\right)}\\\\0 & 0 & 1 & 0\\\\0 & 0 & 0 & 1\\end{matrix}\\right]$"
      ],
      "text/plain": [
       "Matrix([\n",
       "[cos(theta1 + theta2), -sin(theta1 + theta2), 0, l1*cos(theta1) + l2*cos(theta1 + theta2)],\n",
       "[sin(theta1 + theta2),  cos(theta1 + theta2), 0, l1*sin(theta1) + l2*sin(theta1 + theta2)],\n",
       "[                   0,                     0, 1,                                        0],\n",
       "[                   0,                     0, 0,                                        1]])"
      ]
     },
     "execution_count": 4,
     "metadata": {},
     "output_type": "execute_result"
    }
   ],
   "source": [
    "theta1, theta2, l1, l2 = sp.symbols('theta1, theta2, l1, l2')\n",
    "robot = rt.SerialLinkRobot()\n",
    "robot.add_revolute_joint(theta1, 0, l1, 0)\n",
    "robot.add_revolute_joint(theta2, 0, l2, 0)\n",
    "robot.add_subs([(l1, 1), (l2, 1)])\n",
    "T = robot.get_dh_matrix()\n",
    "T"
   ]
  },
  {
   "cell_type": "markdown",
   "id": "fifteen-economy",
   "metadata": {},
   "source": [
    "## Zadaca 61"
   ]
  },
  {
   "cell_type": "code",
   "execution_count": 11,
   "id": "treated-printing",
   "metadata": {},
   "outputs": [
    {
     "data": {
      "text/latex": [
       "$\\displaystyle \\left[\\begin{matrix}\\cos{\\left(\\theta_{1} \\right)} \\cos{\\left(\\theta_{2} \\right)} & - \\sin{\\left(\\theta_{1} \\right)} & \\sin{\\left(\\theta_{2} \\right)} \\cos{\\left(\\theta_{1} \\right)} & d_{3} \\sin{\\left(\\theta_{2} \\right)} \\cos{\\left(\\theta_{1} \\right)}\\\\\\sin{\\left(\\theta_{1} \\right)} \\cos{\\left(\\theta_{2} \\right)} & \\cos{\\left(\\theta_{1} \\right)} & \\sin{\\left(\\theta_{1} \\right)} \\sin{\\left(\\theta_{2} \\right)} & d_{3} \\sin{\\left(\\theta_{1} \\right)} \\sin{\\left(\\theta_{2} \\right)}\\\\- \\sin{\\left(\\theta_{2} \\right)} & 0 & \\cos{\\left(\\theta_{2} \\right)} & d_{1} + d_{3} \\cos{\\left(\\theta_{2} \\right)}\\\\0 & 0 & 0 & 1\\end{matrix}\\right]$"
      ],
      "text/plain": [
       "Matrix([\n",
       "[cos(theta1)*cos(theta2), -sin(theta1), sin(theta2)*cos(theta1), d3*sin(theta2)*cos(theta1)],\n",
       "[sin(theta1)*cos(theta2),  cos(theta1), sin(theta1)*sin(theta2), d3*sin(theta1)*sin(theta2)],\n",
       "[           -sin(theta2),            0,             cos(theta2),        d1 + d3*cos(theta2)],\n",
       "[                      0,            0,                       0,                          1]])"
      ]
     },
     "execution_count": 11,
     "metadata": {},
     "output_type": "execute_result"
    }
   ],
   "source": [
    "theta1, theta2, d3, d1 = sp.symbols('theta1, theta2, d3, d1')\n",
    "robot = rt.SerialLinkRobot()\n",
    "robot.add_revolute_joint(theta1, d1, 0, -sp.pi/2)\n",
    "robot.add_revolute_joint(theta2, 0, 0, sp.pi/2)\n",
    "robot.add_prismatic_joint(0, d3, 0, 0)\n",
    "robot.add_subs([(d1, 1)])\n",
    "T = robot.get_dh_matrix()\n",
    "T"
   ]
  },
  {
   "cell_type": "code",
   "execution_count": 20,
   "id": "recreational-prophet",
   "metadata": {},
   "outputs": [
    {
     "data": {
      "text/plain": [
       "[(-2*atan((x - sqrt(x**2 + y**2))/y),\n",
       "  theta2,\n",
       "  (-x**2 + x*sqrt(x**2 + y**2) - y**2)/((x - sqrt(x**2 + y**2))*sin(theta2)),\n",
       "  y*cos(theta2)/(sin(theta2)*sin(2*atan((x - sqrt(x**2 + y**2))/y))) + z),\n",
       " (-2*atan((x + sqrt(x**2 + y**2))/y),\n",
       "  theta2,\n",
       "  -(x**2 + x*sqrt(x**2 + y**2) + y**2)/((x + sqrt(x**2 + y**2))*sin(theta2)),\n",
       "  y*cos(theta2)/(sin(theta2)*sin(2*atan((x + sqrt(x**2 + y**2))/y))) + z)]"
      ]
     },
     "execution_count": 20,
     "metadata": {},
     "output_type": "execute_result"
    }
   ],
   "source": [
    "sp.solve([T[0,-1]-x,T[1,-1]-y,T[2,-1]-z],(theta1, theta2, d3, d1))"
   ]
  },
  {
   "cell_type": "code",
   "execution_count": 16,
   "id": "electoral-montreal",
   "metadata": {},
   "outputs": [
    {
     "data": {
      "text/plain": [
       "{x: -y - 1, z: 2}"
      ]
     },
     "execution_count": 16,
     "metadata": {},
     "output_type": "execute_result"
    }
   ],
   "source": [
    "x, y, z = sp.symbols('x, y, z')\n",
    "eq1 = sp.Eq(x + y + z, 1)             # x + y + z  = 1\n",
    "eq2 = sp.Eq(x + y + 2 * z, 3)         # x + y + 2z = 3\n",
    "sp.solve((eq1, eq2), (x, y, z))"
   ]
  },
  {
   "cell_type": "code",
   "execution_count": 13,
   "id": "powered-prospect",
   "metadata": {},
   "outputs": [
    {
     "data": {
      "text/latex": [
       "$\\displaystyle d_{3} \\sin{\\left(\\theta_{2} \\right)} \\cos{\\left(\\theta_{1} \\right)} - x$"
      ],
      "text/plain": [
       "d3*sin(theta2)*cos(theta1) - x"
      ]
     },
     "execution_count": 13,
     "metadata": {},
     "output_type": "execute_result"
    }
   ],
   "source": []
  },
  {
   "cell_type": "code",
   "execution_count": null,
   "id": "successful-sport",
   "metadata": {},
   "outputs": [],
   "source": []
  }
 ],
 "metadata": {
  "kernelspec": {
   "display_name": "Python 3",
   "language": "python",
   "name": "python3"
  },
  "language_info": {
   "codemirror_mode": {
    "name": "ipython",
    "version": 3
   },
   "file_extension": ".py",
   "mimetype": "text/x-python",
   "name": "python",
   "nbconvert_exporter": "python",
   "pygments_lexer": "ipython3",
   "version": "3.8.5"
  },
  "toc-autonumbering": false,
  "toc-showcode": false,
  "toc-showmarkdowntxt": false
 },
 "nbformat": 4,
 "nbformat_minor": 5
}
