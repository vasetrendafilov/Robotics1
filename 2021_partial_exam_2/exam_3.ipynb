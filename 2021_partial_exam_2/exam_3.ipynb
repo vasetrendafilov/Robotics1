{
 "cells": [
  {
   "cell_type": "markdown",
   "metadata": {},
   "source": [
    "# Втор парцијален испит по Роботика 1\n",
    "\n",
    "Датум: 04.06.2021"
   ]
  },
  {
   "cell_type": "markdown",
   "metadata": {},
   "source": [
    "## Задача 3"
   ]
  },
  {
   "cell_type": "markdown",
   "metadata": {},
   "source": [
    "**(30 поени)** Да се генерира соодветна полиномна траекторија на движење на еден ротациски зглоб од дадена роботска рака $q(t)$ кој треба од почетната положба $q(t_i) = q_i$ во мигот $t = t_i$ да се префрли во крајната положба $q(t_f) = q_f$ во мигот $t = t_f$, при што треба да бидат задоволени следните услови:\n",
    "$$t_i = 2, q_i = 10^\\circ, \\dot{q_i} = −20 ^\\circ / s$$\n",
    "$$t_f = 3, q_f = 30^\\circ, \\dot{q_f} = −50 ^\\circ / s$$\n",
    "Траекторијата да се генерира најнапред за општ случај и потоа и за конкретните зададени гранични услови. На крајот да се прикаже графички движењето, брзината и забрзувањето на зглобот за конкретниот случај."
   ]
  },
  {
   "cell_type": "markdown",
   "metadata": {},
   "source": [
    "## Решение"
   ]
  },
  {
   "cell_type": "code",
   "execution_count": 8,
   "metadata": {},
   "outputs": [],
   "source": [
    "import sympy as sp\n",
    "from sympy.physics import mechanics\n",
    "import script as rt"
   ]
  },
  {
   "cell_type": "code",
   "execution_count": 9,
   "metadata": {},
   "outputs": [
    {
     "data": {
      "image/png": "[encoded data removed]",
      "text/latex": [
       "$\\displaystyle \\frac{t^{3} \\left(- 2 qf + 2 qi + tf vqf + tf vqi - ti vqf - ti vqi\\right)}{tf^{3} - 3 tf^{2} ti + 3 tf ti^{2} - ti^{3}} + \\frac{t^{2} \\left(3 qf tf + 3 qf ti - 3 qi tf - 3 qi ti - tf^{2} vqf - 2 tf^{2} vqi - tf ti vqf + tf ti vqi + 2 ti^{2} vqf + ti^{2} vqi\\right)}{tf^{3} - 3 tf^{2} ti + 3 tf ti^{2} - ti^{3}} + \\frac{t \\left(- 6 qf tf ti + 6 qi tf ti + tf^{3} vqi + 2 tf^{2} ti vqf + tf^{2} ti vqi - tf ti^{2} vqf - 2 tf ti^{2} vqi - ti^{3} vqf\\right)}{tf^{3} - 3 tf^{2} ti + 3 tf ti^{2} - ti^{3}} + \\frac{3 qf tf ti^{2} - qf ti^{3} + qi tf^{3} - 3 qi tf^{2} ti - tf^{3} ti vqi - tf^{2} ti^{2} vqf + tf^{2} ti^{2} vqi + tf ti^{3} vqf}{tf^{3} - 3 tf^{2} ti + 3 tf ti^{2} - ti^{3}}$"
      ],
      "text/plain": [
       " 3                                                       2 ⎛                  \n",
       "t ⋅(-2⋅qf + 2⋅qi + tf⋅vqf + tf⋅vqi - ti⋅vqf - ti⋅vqi)   t ⋅⎝3⋅qf⋅tf + 3⋅qf⋅ti \n",
       "───────────────────────────────────────────────────── + ──────────────────────\n",
       "             3       2             2     3                                    \n",
       "           tf  - 3⋅tf ⋅ti + 3⋅tf⋅ti  - ti                                     \n",
       "\n",
       "                        2           2                                   2     \n",
       "- 3⋅qi⋅tf - 3⋅qi⋅ti - tf ⋅vqf - 2⋅tf ⋅vqi - tf⋅ti⋅vqf + tf⋅ti⋅vqi + 2⋅ti ⋅vqf \n",
       "──────────────────────────────────────────────────────────────────────────────\n",
       "                   3       2             2     3                              \n",
       "                 tf  - 3⋅tf ⋅ti + 3⋅tf⋅ti  - ti                               \n",
       "\n",
       "    2    ⎞     ⎛                             3           2            2       \n",
       "+ ti ⋅vqi⎠   t⋅⎝-6⋅qf⋅tf⋅ti + 6⋅qi⋅tf⋅ti + tf ⋅vqi + 2⋅tf ⋅ti⋅vqf + tf ⋅ti⋅vqi\n",
       "────────── + ─────────────────────────────────────────────────────────────────\n",
       "                                                   3       2             2    \n",
       "                                                 tf  - 3⋅tf ⋅ti + 3⋅tf⋅ti  - t\n",
       "\n",
       "        2              2         3    ⎞             2        3        3       \n",
       " - tf⋅ti ⋅vqf - 2⋅tf⋅ti ⋅vqi - ti ⋅vqf⎠   3⋅qf⋅tf⋅ti  - qf⋅ti  + qi⋅tf  - 3⋅qi\n",
       "─────────────────────────────────────── + ────────────────────────────────────\n",
       " 3                                                                           3\n",
       "i                                                                          tf \n",
       "\n",
       "   2        3            2   2         2   2            3    \n",
       "⋅tf ⋅ti - tf ⋅ti⋅vqi - tf ⋅ti ⋅vqf + tf ⋅ti ⋅vqi + tf⋅ti ⋅vqf\n",
       "─────────────────────────────────────────────────────────────\n",
       "       2             2     3                                 \n",
       " - 3⋅tf ⋅ti + 3⋅tf⋅ti  - ti                                  "
      ]
     },
     "execution_count": 9,
     "metadata": {},
     "output_type": "execute_result"
    }
   ],
   "source": [
    "ti, tf, qi, qf, vqi, vqf = sp.symbols('ti, tf, qi, qf, vqi, vqf')\n",
    "theta, solution = rt.trajectory_polynomial_3(ti, tf, qi, qf, vqi, vqf)\n",
    "theta"
   ]
  },
  {
   "cell_type": "code",
   "execution_count": 10,
   "metadata": {},
   "outputs": [
    {
     "data": {
      "image/png": "[encoded data removed]",
      "text/latex": [
       "$\\displaystyle - 110 t^{3} + 810 t^{2} - 1940 t + 1530$"
      ],
      "text/plain": [
       "       3        2                \n",
       "- 110⋅t  + 810⋅t  - 1940⋅t + 1530"
      ]
     },
     "execution_count": 10,
     "metadata": {},
     "output_type": "execute_result"
    }
   ],
   "source": [
    "theta = sp.simplify(theta.subs([(ti,2),(tf,3),(qi,10),(qf,30),(vqi,-20),(vqf,-50)]))\n",
    "theta"
   ]
  },
  {
   "cell_type": "code",
   "execution_count": 11,
   "metadata": {},
   "outputs": [
    {
     "data": {
      "application/vnd.plotly.v1+json": {
       "config": {
        "plotlyServerURL": "https://plot.ly"
       },
       "data": [
        {
         "name": "Позиција",
         "type": "scatter",
         "x": [
          2,
          2.01010101010101,
          2.0202020202020203,
          2.0303030303030303,
          2.04040404040404,
          2.0505050505050506,
          2.0606060606060606,
          2.070707070707071,
          2.080808080808081,
          2.090909090909091,
          2.101010101010101,
          2.111111111111111,
          2.121212121212121,
          2.1313131313131315,
          2.1414141414141414,
          2.1515151515151514,
          2.1616161616161618,
          2.1717171717171717,
          2.1818181818181817,
          2.191919191919192,
          2.202020202020202,
          2.212121212121212,
          2.2222222222222223,
          2.2323232323232323,
          2.242424242424242,
          2.2525252525252526,
          2.2626262626262625,
          2.272727272727273,
          2.282828282828283,
          2.292929292929293,
          2.303030303030303,
          2.313131313131313,
          2.323232323232323,
          2.3333333333333335,
          2.3434343434343434,
          2.353535353535354,
          2.3636363636363638,
          2.3737373737373737,
          2.383838383838384,
          2.393939393939394,
          2.404040404040404,
          2.4141414141414144,
          2.4242424242424243,
          2.4343434343434343,
          2.4444444444444446,
          2.4545454545454546,
          2.4646464646464645,
          2.474747474747475,
          2.484848484848485,
          2.494949494949495,
          2.505050505050505,
          2.515151515151515,
          2.525252525252525,
          2.5353535353535355,
          2.5454545454545454,
          2.5555555555555554,
          2.5656565656565657,
          2.5757575757575757,
          2.5858585858585856,
          2.595959595959596,
          2.606060606060606,
          2.6161616161616164,
          2.6262626262626263,
          2.6363636363636367,
          2.6464646464646466,
          2.6565656565656566,
          2.666666666666667,
          2.676767676767677,
          2.686868686868687,
          2.6969696969696972,
          2.707070707070707,
          2.717171717171717,
          2.7272727272727275,
          2.7373737373737375,
          2.7474747474747474,
          2.757575757575758,
          2.7676767676767677,
          2.7777777777777777,
          2.787878787878788,
          2.797979797979798,
          2.808080808080808,
          2.8181818181818183,
          2.8282828282828283,
          2.8383838383838382,
          2.8484848484848486,
          2.8585858585858586,
          2.8686868686868685,
          2.878787878787879,
          2.888888888888889,
          2.8989898989898992,
          2.909090909090909,
          2.919191919191919,
          2.9292929292929295,
          2.9393939393939394,
          2.94949494949495,
          2.95959595959596,
          2.9696969696969697,
          2.97979797979798,
          2.98989898989899,
          3
         ],
         "y": [
          10,
          9.813170991622428,
          9.656270902061806,
          9.528619528619856,
          9.429536668593755,
          9.35834211928477,
          9.314355677992353,
          9.296897142014586,
          9.305286308653194,
          9.338842975206717,
          9.396886938974603,
          9.478737997256303,
          9.583715947352175,
          9.71114058656076,
          9.860331712183324,
          10.0306091215175,
          10.221292611864556,
          10.43170198052394,
          10.661157024793738,
          10.90897754197431,
          11.174483329366012,
          11.456994184266478,
          11.755829903978338,
          12.07031028579786,
          12.399755127028584,
          12.743484224965869,
          13.100817376910982,
          13.471074380165192,
          13.853575032027038,
          14.247639129794152,
          14.652586470769165,
          15.067736852249254,
          15.492410071535232,
          15.925925925926094,
          16.367604212721744,
          16.816764729222996,
          17.27272727272748,
          17.734811640535554,
          18.20233762994667,
          18.674625038262093,
          19.150993662778546,
          19.630763300797753,
          20.113253749616888,
          20.597784806539494,
          21.08367626886138,
          21.57024793388382,
          22.05681959890717,
          22.542711061229056,
          23.027242118151662,
          23.509732566971252,
          23.98950220499046,
          24.465870829507367,
          24.938158237821426,
          25.405684227232996,
          25.867768595041525,
          26.323731138545554,
          26.772891655046806,
          27.21456994184291,
          27.648085796233772,
          28.07275901551975,
          28.487909396999385,
          28.892856737974853,
          29.286920835742876,
          29.669421487603813,
          30.03967849085757,
          30.39701164280359,
          30.74074074074042,
          31.070185581970236,
          31.384665963790212,
          31.683501683501618,
          31.966012538403447,
          32.23151832579424,
          32.47933884297527,
          32.70879388724552,
          32.919203255903994,
          33.10988674625105,
          33.28016415558477,
          33.429355281207336,
          33.556779920416375,
          33.66175787051179,
          33.74360892879395,
          33.80165289256183,
          33.835209559115356,
          33.84359872575442,
          33.82614018977665,
          33.782153748483324,
          33.71095919917525,
          33.6118763391496,
          33.484224965706744,
          33.32732487614703,
          33.14049586776855,
          32.923057737871204,
          32.67433028375763,
          32.39363330272408,
          32.08028659207139,
          31.733609949097627,
          31.35292317110452,
          30.937546055391067,
          30.48679839925626,
          30
         ]
        },
        {
         "name": "Брзина",
         "type": "scatter",
         "x": [
          2,
          2.01010101010101,
          2.0202020202020203,
          2.0303030303030303,
          2.04040404040404,
          2.0505050505050506,
          2.0606060606060606,
          2.070707070707071,
          2.080808080808081,
          2.090909090909091,
          2.101010101010101,
          2.111111111111111,
          2.121212121212121,
          2.1313131313131315,
          2.1414141414141414,
          2.1515151515151514,
          2.1616161616161618,
          2.1717171717171717,
          2.1818181818181817,
          2.191919191919192,
          2.202020202020202,
          2.212121212121212,
          2.2222222222222223,
          2.2323232323232323,
          2.242424242424242,
          2.2525252525252526,
          2.2626262626262625,
          2.272727272727273,
          2.282828282828283,
          2.292929292929293,
          2.303030303030303,
          2.313131313131313,
          2.323232323232323,
          2.3333333333333335,
          2.3434343434343434,
          2.353535353535354,
          2.3636363636363638,
          2.3737373737373737,
          2.383838383838384,
          2.393939393939394,
          2.404040404040404,
          2.4141414141414144,
          2.4242424242424243,
          2.4343434343434343,
          2.4444444444444446,
          2.4545454545454546,
          2.4646464646464645,
          2.474747474747475,
          2.484848484848485,
          2.494949494949495,
          2.505050505050505,
          2.515151515151515,
          2.525252525252525,
          2.5353535353535355,
          2.5454545454545454,
          2.5555555555555554,
          2.5656565656565657,
          2.5757575757575757,
          2.5858585858585856,
          2.595959595959596,
          2.606060606060606,
          2.6161616161616164,
          2.6262626262626263,
          2.6363636363636367,
          2.6464646464646466,
          2.6565656565656566,
          2.666666666666667,
          2.676767676767677,
          2.686868686868687,
          2.6969696969696972,
          2.707070707070707,
          2.717171717171717,
          2.7272727272727275,
          2.7373737373737375,
          2.7474747474747474,
          2.757575757575758,
          2.7676767676767677,
          2.7777777777777777,
          2.787878787878788,
          2.797979797979798,
          2.808080808080808,
          2.8181818181818183,
          2.8282828282828283,
          2.8383838383838382,
          2.8484848484848486,
          2.8585858585858586,
          2.8686868686868685,
          2.878787878787879,
          2.888888888888889,
          2.8989898989898992,
          2.909090909090909,
          2.919191919191919,
          2.9292929292929295,
          2.9393939393939394,
          2.94949494949495,
          2.95959595959596,
          2.9696969696969697,
          2.97979797979798,
          2.98989898989899,
          3
         ],
         "y": [
          -20,
          -17.003367003367202,
          -14.074074074074133,
          -11.212121212121247,
          -8.417508417508543,
          -5.690235690235568,
          -3.03030303030323,
          -0.43771043771016593,
          2.087542087542033,
          4.545454545454504,
          6.936026936026792,
          9.259259259259125,
          11.515151515151274,
          13.703703703703923,
          15.824915824915934,
          17.87878787878776,
          19.86531986531986,
          21.78451178451178,
          23.63636363636374,
          25.42087542087529,
          27.138047138046886,
          28.78787878787898,
          30.37037037037021,
          31.885521885522166,
          33.33333333333326,
          34.71380471380462,
          36.026936026936255,
          37.272727272727025,
          38.45117845117852,
          39.56228956228961,
          40.60606060606051,
          41.582491582491684,
          42.49158249158245,
          43.333333333333485,
          44.10774410774434,
          44.814814814814554,
          45.454545454545496,
          46.02693602693603,
          46.531986531986604,
          46.969696969697225,
          47.340067340067435,
          47.64309764309769,
          47.87878787878799,
          48.047138047138105,
          48.148148148148266,
          48.181818181818244,
          48.14814814814804,
          48.047138047138105,
          47.87878787878776,
          47.64309764309746,
          47.340067340067435,
          46.969696969697,
          46.531986531986604,
          46.026936026935346,
          45.45454545454595,
          44.814814814815236,
          44.107744107744566,
          43.333333333333485,
          42.4915824915829,
          41.58249158249191,
          40.606060606060964,
          39.56228956229006,
          38.45117845117875,
          37.272727272727025,
          36.026936026936255,
          34.713804713805075,
          33.33333333333394,
          31.88552188552194,
          30.370370370370438,
          28.78787878787898,
          27.13804713804757,
          25.420875420875745,
          23.636363636363967,
          21.784511784512233,
          19.86531986532009,
          17.87878787878799,
          15.824915824915934,
          13.703703703703923,
          11.515151515151956,
          9.259259259259125,
          6.936026936027247,
          4.545454545454959,
          2.0875420875422606,
          -0.4377104377103933,
          -3.0303030303030027,
          -5.690235690235568,
          -8.417508417508543,
          -11.212121212121474,
          -14.074074074073906,
          -17.003367003367202,
          -20,
          -23.063973063972753,
          -26.195286195285917,
          -29.393939393939036,
          -32.659932659932565,
          -35.993265993265595,
          -39.393939393939036,
          -42.86195286195289,
          -46.39730639730624,
          -50
         ]
        },
        {
         "name": "Забрзување",
         "type": "scatter",
         "x": [
          2,
          2.01010101010101,
          2.0202020202020203,
          2.0303030303030303,
          2.04040404040404,
          2.0505050505050506,
          2.0606060606060606,
          2.070707070707071,
          2.080808080808081,
          2.090909090909091,
          2.101010101010101,
          2.111111111111111,
          2.121212121212121,
          2.1313131313131315,
          2.1414141414141414,
          2.1515151515151514,
          2.1616161616161618,
          2.1717171717171717,
          2.1818181818181817,
          2.191919191919192,
          2.202020202020202,
          2.212121212121212,
          2.2222222222222223,
          2.2323232323232323,
          2.242424242424242,
          2.2525252525252526,
          2.2626262626262625,
          2.272727272727273,
          2.282828282828283,
          2.292929292929293,
          2.303030303030303,
          2.313131313131313,
          2.323232323232323,
          2.3333333333333335,
          2.3434343434343434,
          2.353535353535354,
          2.3636363636363638,
          2.3737373737373737,
          2.383838383838384,
          2.393939393939394,
          2.404040404040404,
          2.4141414141414144,
          2.4242424242424243,
          2.4343434343434343,
          2.4444444444444446,
          2.4545454545454546,
          2.4646464646464645,
          2.474747474747475,
          2.484848484848485,
          2.494949494949495,
          2.505050505050505,
          2.515151515151515,
          2.525252525252525,
          2.5353535353535355,
          2.5454545454545454,
          2.5555555555555554,
          2.5656565656565657,
          2.5757575757575757,
          2.5858585858585856,
          2.595959595959596,
          2.606060606060606,
          2.6161616161616164,
          2.6262626262626263,
          2.6363636363636367,
          2.6464646464646466,
          2.6565656565656566,
          2.666666666666667,
          2.676767676767677,
          2.686868686868687,
          2.6969696969696972,
          2.707070707070707,
          2.717171717171717,
          2.7272727272727275,
          2.7373737373737375,
          2.7474747474747474,
          2.757575757575758,
          2.7676767676767677,
          2.7777777777777777,
          2.787878787878788,
          2.797979797979798,
          2.808080808080808,
          2.8181818181818183,
          2.8282828282828283,
          2.8383838383838382,
          2.8484848484848486,
          2.8585858585858586,
          2.8686868686868685,
          2.878787878787879,
          2.888888888888889,
          2.8989898989898992,
          2.909090909090909,
          2.919191919191919,
          2.9292929292929295,
          2.9393939393939394,
          2.94949494949495,
          2.95959595959596,
          2.9696969696969697,
          2.97979797979798,
          2.98989898989899,
          3
         ],
         "y": [
          300,
          293.33333333333337,
          286.6666666666665,
          280.00000000000006,
          273.3333333333334,
          266.6666666666666,
          260.0000000000001,
          253.3333333333333,
          246.66666666666663,
          240,
          233.33333333333314,
          226.6666666666667,
          220.00000000000006,
          213.3333333333332,
          206.66666666666657,
          200.00000000000014,
          193.3333333333333,
          186.66666666666663,
          180,
          173.33333333333314,
          166.6666666666667,
          160.00000000000006,
          153.3333333333332,
          146.6666666666668,
          140.00000000000014,
          133.3333333333333,
          126.66666666666664,
          119.99999999999979,
          113.33333333333336,
          106.66666666666671,
          99.99999999999986,
          93.33333333333343,
          86.66666666666679,
          79.99999999999993,
          73.33333333333329,
          66.66666666666643,
          60,
          53.33333333333336,
          46.6666666666665,
          39.99999999999986,
          33.33333333333343,
          26.666666666666572,
          19.99999999999993,
          13.333333333333286,
          6.66666666666643,
          0,
          -6.666666666666643,
          -13.3333333333335,
          -19.99999999999993,
          -26.666666666666572,
          -33.33333333333343,
          -40.00000000000007,
          -46.6666666666665,
          -53.33333333333336,
          -60,
          -66.66666666666643,
          -73.33333333333329,
          -79.99999999999993,
          -86.66666666666657,
          -93.33333333333343,
          -99.99999999999986,
          -106.66666666666671,
          -113.33333333333336,
          -120.00000000000021,
          -126.66666666666686,
          -133.3333333333333,
          -140.00000000000014,
          -146.6666666666668,
          -153.33333333333343,
          -160.00000000000028,
          -166.6666666666667,
          -173.33333333333337,
          -180.00000000000023,
          -186.66666666666663,
          -193.3333333333333,
          -200.00000000000014,
          -206.6666666666668,
          -213.3333333333332,
          -220.00000000000006,
          -226.6666666666667,
          -233.33333333333314,
          -240,
          -246.66666666666663,
          -253.3333333333333,
          -260.0000000000001,
          -266.6666666666666,
          -273.3333333333332,
          -280.00000000000006,
          -286.66666666666674,
          -293.3333333333336,
          -300,
          -306.6666666666664,
          -313.33333333333326,
          -320.0000000000001,
          -326.66666666666697,
          -333.3333333333334,
          -339.9999999999999,
          -346.66666666666674,
          -353.3333333333336,
          -360
         ]
        }
       ],
       "layout": {
        "autosize": true,
        "template": {
         "data": {
          "bar": [
           {
            "error_x": {
             "color": "#2a3f5f"
            },
            "error_y": {
             "color": "#2a3f5f"
            },
            "marker": {
             "line": {
              "color": "#E5ECF6",
              "width": 0.5
             }
            },
            "type": "bar"
           }
          ],
          "barpolar": [
           {
            "marker": {
             "line": {
              "color": "#E5ECF6",
              "width": 0.5
             }
            },
            "type": "barpolar"
           }
          ],
          "carpet": [
           {
            "aaxis": {
             "endlinecolor": "#2a3f5f",
             "gridcolor": "white",
             "linecolor": "white",
             "minorgridcolor": "white",
             "startlinecolor": "#2a3f5f"
            },
            "baxis": {
             "endlinecolor": "#2a3f5f",
             "gridcolor": "white",
             "linecolor": "white",
             "minorgridcolor": "white",
             "startlinecolor": "#2a3f5f"
            },
            "type": "carpet"
           }
          ],
          "choropleth": [
           {
            "colorbar": {
             "outlinewidth": 0,
             "ticks": ""
            },
            "type": "choropleth"
           }
          ],
          "contour": [
           {
            "colorbar": {
             "outlinewidth": 0,
             "ticks": ""
            },
            "colorscale": [
             [
              0,
              "#0d0887"
             ],
             [
              0.1111111111111111,
              "#46039f"
             ],
             [
              0.2222222222222222,
              "#7201a8"
             ],
             [
              0.3333333333333333,
              "#9c179e"
             ],
             [
              0.4444444444444444,
              "#bd3786"
             ],
             [
              0.5555555555555556,
              "#d8576b"
             ],
             [
              0.6666666666666666,
              "#ed7953"
             ],
             [
              0.7777777777777778,
              "#fb9f3a"
             ],
             [
              0.8888888888888888,
              "#fdca26"
             ],
             [
              1,
              "#f0f921"
             ]
            ],
            "type": "contour"
           }
          ],
          "contourcarpet": [
           {
            "colorbar": {
             "outlinewidth": 0,
             "ticks": ""
            },
            "type": "contourcarpet"
           }
          ],
          "heatmap": [
           {
            "colorbar": {
             "outlinewidth": 0,
             "ticks": ""
            },
            "colorscale": [
             [
              0,
              "#0d0887"
             ],
             [
              0.1111111111111111,
              "#46039f"
             ],
             [
              0.2222222222222222,
              "#7201a8"
             ],
             [
              0.3333333333333333,
              "#9c179e"
             ],
             [
              0.4444444444444444,
              "#bd3786"
             ],
             [
              0.5555555555555556,
              "#d8576b"
             ],
             [
              0.6666666666666666,
              "#ed7953"
             ],
             [
              0.7777777777777778,
              "#fb9f3a"
             ],
             [
              0.8888888888888888,
              "#fdca26"
             ],
             [
              1,
              "#f0f921"
             ]
            ],
            "type": "heatmap"
           }
          ],
          "heatmapgl": [
           {
            "colorbar": {
             "outlinewidth": 0,
             "ticks": ""
            },
            "colorscale": [
             [
              0,
              "#0d0887"
             ],
             [
              0.1111111111111111,
              "#46039f"
             ],
             [
              0.2222222222222222,
              "#7201a8"
             ],
             [
              0.3333333333333333,
              "#9c179e"
             ],
             [
              0.4444444444444444,
              "#bd3786"
             ],
             [
              0.5555555555555556,
              "#d8576b"
             ],
             [
              0.6666666666666666,
              "#ed7953"
             ],
             [
              0.7777777777777778,
              "#fb9f3a"
             ],
             [
              0.8888888888888888,
              "#fdca26"
             ],
             [
              1,
              "#f0f921"
             ]
            ],
            "type": "heatmapgl"
           }
          ],
          "histogram": [
           {
            "marker": {
             "colorbar": {
              "outlinewidth": 0,
              "ticks": ""
             }
            },
            "type": "histogram"
           }
          ],
          "histogram2d": [
           {
            "colorbar": {
             "outlinewidth": 0,
             "ticks": ""
            },
            "colorscale": [
             [
              0,
              "#0d0887"
             ],
             [
              0.1111111111111111,
              "#46039f"
             ],
             [
              0.2222222222222222,
              "#7201a8"
             ],
             [
              0.3333333333333333,
              "#9c179e"
             ],
             [
              0.4444444444444444,
              "#bd3786"
             ],
             [
              0.5555555555555556,
              "#d8576b"
             ],
             [
              0.6666666666666666,
              "#ed7953"
             ],
             [
              0.7777777777777778,
              "#fb9f3a"
             ],
             [
              0.8888888888888888,
              "#fdca26"
             ],
             [
              1,
              "#f0f921"
             ]
            ],
            "type": "histogram2d"
           }
          ],
          "histogram2dcontour": [
           {
            "colorbar": {
             "outlinewidth": 0,
             "ticks": ""
            },
            "colorscale": [
             [
              0,
              "#0d0887"
             ],
             [
              0.1111111111111111,
              "#46039f"
             ],
             [
              0.2222222222222222,
              "#7201a8"
             ],
             [
              0.3333333333333333,
              "#9c179e"
             ],
             [
              0.4444444444444444,
              "#bd3786"
             ],
             [
              0.5555555555555556,
              "#d8576b"
             ],
             [
              0.6666666666666666,
              "#ed7953"
             ],
             [
              0.7777777777777778,
              "#fb9f3a"
             ],
             [
              0.8888888888888888,
              "#fdca26"
             ],
             [
              1,
              "#f0f921"
             ]
            ],
            "type": "histogram2dcontour"
           }
          ],
          "mesh3d": [
           {
            "colorbar": {
             "outlinewidth": 0,
             "ticks": ""
            },
            "type": "mesh3d"
           }
          ],
          "parcoords": [
           {
            "line": {
             "colorbar": {
              "outlinewidth": 0,
              "ticks": ""
             }
            },
            "type": "parcoords"
           }
          ],
          "pie": [
           {
            "automargin": true,
            "type": "pie"
           }
          ],
          "scatter": [
           {
            "marker": {
             "colorbar": {
              "outlinewidth": 0,
              "ticks": ""
             }
            },
            "type": "scatter"
           }
          ],
          "scatter3d": [
           {
            "line": {
             "colorbar": {
              "outlinewidth": 0,
              "ticks": ""
             }
            },
            "marker": {
             "colorbar": {
              "outlinewidth": 0,
              "ticks": ""
             }
            },
            "type": "scatter3d"
           }
          ],
          "scattercarpet": [
           {
            "marker": {
             "colorbar": {
              "outlinewidth": 0,
              "ticks": ""
             }
            },
            "type": "scattercarpet"
           }
          ],
          "scattergeo": [
           {
            "marker": {
             "colorbar": {
              "outlinewidth": 0,
              "ticks": ""
             }
            },
            "type": "scattergeo"
           }
          ],
          "scattergl": [
           {
            "marker": {
             "colorbar": {
              "outlinewidth": 0,
              "ticks": ""
             }
            },
            "type": "scattergl"
           }
          ],
          "scattermapbox": [
           {
            "marker": {
             "colorbar": {
              "outlinewidth": 0,
              "ticks": ""
             }
            },
            "type": "scattermapbox"
           }
          ],
          "scatterpolar": [
           {
            "marker": {
             "colorbar": {
              "outlinewidth": 0,
              "ticks": ""
             }
            },
            "type": "scatterpolar"
           }
          ],
          "scatterpolargl": [
           {
            "marker": {
             "colorbar": {
              "outlinewidth": 0,
              "ticks": ""
             }
            },
            "type": "scatterpolargl"
           }
          ],
          "scatterternary": [
           {
            "marker": {
             "colorbar": {
              "outlinewidth": 0,
              "ticks": ""
             }
            },
            "type": "scatterternary"
           }
          ],
          "surface": [
           {
            "colorbar": {
             "outlinewidth": 0,
             "ticks": ""
            },
            "colorscale": [
             [
              0,
              "#0d0887"
             ],
             [
              0.1111111111111111,
              "#46039f"
             ],
             [
              0.2222222222222222,
              "#7201a8"
             ],
             [
              0.3333333333333333,
              "#9c179e"
             ],
             [
              0.4444444444444444,
              "#bd3786"
             ],
             [
              0.5555555555555556,
              "#d8576b"
             ],
             [
              0.6666666666666666,
              "#ed7953"
             ],
             [
              0.7777777777777778,
              "#fb9f3a"
             ],
             [
              0.8888888888888888,
              "#fdca26"
             ],
             [
              1,
              "#f0f921"
             ]
            ],
            "type": "surface"
           }
          ],
          "table": [
           {
            "cells": {
             "fill": {
              "color": "#EBF0F8"
             },
             "line": {
              "color": "white"
             }
            },
            "header": {
             "fill": {
              "color": "#C8D4E3"
             },
             "line": {
              "color": "white"
             }
            },
            "type": "table"
           }
          ]
         },
         "layout": {
          "annotationdefaults": {
           "arrowcolor": "#2a3f5f",
           "arrowhead": 0,
           "arrowwidth": 1
          },
          "autotypenumbers": "strict",
          "coloraxis": {
           "colorbar": {
            "outlinewidth": 0,
            "ticks": ""
           }
          },
          "colorscale": {
           "diverging": [
            [
             0,
             "#8e0152"
            ],
            [
             0.1,
             "#c51b7d"
            ],
            [
             0.2,
             "#de77ae"
            ],
            [
             0.3,
             "#f1b6da"
            ],
            [
             0.4,
             "#fde0ef"
            ],
            [
             0.5,
             "#f7f7f7"
            ],
            [
             0.6,
             "#e6f5d0"
            ],
            [
             0.7,
             "#b8e186"
            ],
            [
             0.8,
             "#7fbc41"
            ],
            [
             0.9,
             "#4d9221"
            ],
            [
             1,
             "#276419"
            ]
           ],
           "sequential": [
            [
             0,
             "#0d0887"
            ],
            [
             0.1111111111111111,
             "#46039f"
            ],
            [
             0.2222222222222222,
             "#7201a8"
            ],
            [
             0.3333333333333333,
             "#9c179e"
            ],
            [
             0.4444444444444444,
             "#bd3786"
            ],
            [
             0.5555555555555556,
             "#d8576b"
            ],
            [
             0.6666666666666666,
             "#ed7953"
            ],
            [
             0.7777777777777778,
             "#fb9f3a"
            ],
            [
             0.8888888888888888,
             "#fdca26"
            ],
            [
             1,
             "#f0f921"
            ]
           ],
           "sequentialminus": [
            [
             0,
             "#0d0887"
            ],
            [
             0.1111111111111111,
             "#46039f"
            ],
            [
             0.2222222222222222,
             "#7201a8"
            ],
            [
             0.3333333333333333,
             "#9c179e"
            ],
            [
             0.4444444444444444,
             "#bd3786"
            ],
            [
             0.5555555555555556,
             "#d8576b"
            ],
            [
             0.6666666666666666,
             "#ed7953"
            ],
            [
             0.7777777777777778,
             "#fb9f3a"
            ],
            [
             0.8888888888888888,
             "#fdca26"
            ],
            [
             1,
             "#f0f921"
            ]
           ]
          },
          "colorway": [
           "#636efa",
           "#EF553B",
           "#00cc96",
           "#ab63fa",
           "#FFA15A",
           "#19d3f3",
           "#FF6692",
           "#B6E880",
           "#FF97FF",
           "#FECB52"
          ],
          "font": {
           "color": "#2a3f5f"
          },
          "geo": {
           "bgcolor": "white",
           "lakecolor": "white",
           "landcolor": "#E5ECF6",
           "showlakes": true,
           "showland": true,
           "subunitcolor": "white"
          },
          "hoverlabel": {
           "align": "left"
          },
          "hovermode": "closest",
          "mapbox": {
           "style": "light"
          },
          "paper_bgcolor": "white",
          "plot_bgcolor": "#E5ECF6",
          "polar": {
           "angularaxis": {
            "gridcolor": "white",
            "linecolor": "white",
            "ticks": ""
           },
           "bgcolor": "#E5ECF6",
           "radialaxis": {
            "gridcolor": "white",
            "linecolor": "white",
            "ticks": ""
           }
          },
          "scene": {
           "xaxis": {
            "backgroundcolor": "#E5ECF6",
            "gridcolor": "white",
            "gridwidth": 2,
            "linecolor": "white",
            "showbackground": true,
            "ticks": "",
            "zerolinecolor": "white"
           },
           "yaxis": {
            "backgroundcolor": "#E5ECF6",
            "gridcolor": "white",
            "gridwidth": 2,
            "linecolor": "white",
            "showbackground": true,
            "ticks": "",
            "zerolinecolor": "white"
           },
           "zaxis": {
            "backgroundcolor": "#E5ECF6",
            "gridcolor": "white",
            "gridwidth": 2,
            "linecolor": "white",
            "showbackground": true,
            "ticks": "",
            "zerolinecolor": "white"
           }
          },
          "shapedefaults": {
           "line": {
            "color": "#2a3f5f"
           }
          },
          "ternary": {
           "aaxis": {
            "gridcolor": "white",
            "linecolor": "white",
            "ticks": ""
           },
           "baxis": {
            "gridcolor": "white",
            "linecolor": "white",
            "ticks": ""
           },
           "bgcolor": "#E5ECF6",
           "caxis": {
            "gridcolor": "white",
            "linecolor": "white",
            "ticks": ""
           }
          },
          "title": {
           "x": 0.05
          },
          "xaxis": {
           "automargin": true,
           "gridcolor": "white",
           "linecolor": "white",
           "ticks": "",
           "title": {
            "standoff": 15
           },
           "zerolinecolor": "white",
           "zerolinewidth": 2
          },
          "yaxis": {
           "automargin": true,
           "gridcolor": "white",
           "linecolor": "white",
           "ticks": "",
           "title": {
            "standoff": 15
           },
           "zerolinecolor": "white",
           "zerolinewidth": 2
          }
         }
        },
        "xaxis": {
         "autorange": true,
         "range": [
          2,
          3
         ],
         "type": "linear"
        },
        "yaxis": {
         "autorange": true,
         "range": [
          -396.6666666666667,
          336.6666666666667
         ],
         "type": "linear"
        }
       }
      },
      "image/png": "[encoded data removed]",
      "text/html": [
       "<div>                            <div id=\"e93fdfa5-ab44-4386-80d2-f98dc0e6079c\" class=\"plotly-graph-div\" style=\"height:525px; width:100%;\"></div>            <script type=\"text/javascript\">                require([\"plotly\"], function(Plotly) {                    window.PLOTLYENV=window.PLOTLYENV || {};                                    if (document.getElementById(\"e93fdfa5-ab44-4386-80d2-f98dc0e6079c\")) {                    Plotly.newPlot(                        \"e93fdfa5-ab44-4386-80d2-f98dc0e6079c\",                        [{\"name\": \"\\u041f\\u043e\\u0437\\u0438\\u0446\\u0438\\u0458\\u0430\", \"type\": \"scatter\", \"x\": [2.0, 2.01010101010101, 2.0202020202020203, 2.0303030303030303, 2.04040404040404, 2.0505050505050506, 2.0606060606060606, 2.070707070707071, 2.080808080808081, 2.090909090909091, 2.101010101010101, 2.111111111111111, 2.121212121212121, 2.1313131313131315, 2.1414141414141414, 2.1515151515151514, 2.1616161616161618, 2.1717171717171717, 2.1818181818181817, 2.191919191919192, 2.202020202020202, 2.212121212121212, 2.2222222222222223, 2.2323232323232323, 2.242424242424242, 2.2525252525252526, 2.2626262626262625, 2.272727272727273, 2.282828282828283, 2.292929292929293, 2.303030303030303, 2.313131313131313, 2.323232323232323, 2.3333333333333335, 2.3434343434343434, 2.353535353535354, 2.3636363636363638, 2.3737373737373737, 2.383838383838384, 2.393939393939394, 2.404040404040404, 2.4141414141414144, 2.4242424242424243, 2.4343434343434343, 2.4444444444444446, 2.4545454545454546, 2.4646464646464645, 2.474747474747475, 2.484848484848485, 2.494949494949495, 2.505050505050505, 2.515151515151515, 2.525252525252525, 2.5353535353535355, 2.5454545454545454, 2.5555555555555554, 2.5656565656565657, 2.5757575757575757, 2.5858585858585856, 2.595959595959596, 2.606060606060606, 2.6161616161616164, 2.6262626262626263, 2.6363636363636367, 2.6464646464646466, 2.6565656565656566, 2.666666666666667, 2.676767676767677, 2.686868686868687, 2.6969696969696972, 2.707070707070707, 2.717171717171717, 2.7272727272727275, 2.7373737373737375, 2.7474747474747474, 2.757575757575758, 2.7676767676767677, 2.7777777777777777, 2.787878787878788, 2.797979797979798, 2.808080808080808, 2.8181818181818183, 2.8282828282828283, 2.8383838383838382, 2.8484848484848486, 2.8585858585858586, 2.8686868686868685, 2.878787878787879, 2.888888888888889, 2.8989898989898992, 2.909090909090909, 2.919191919191919, 2.9292929292929295, 2.9393939393939394, 2.94949494949495, 2.95959595959596, 2.9696969696969697, 2.97979797979798, 2.98989898989899, 3.0], \"y\": [10.0, 9.813170991622428, 9.656270902061806, 9.528619528619856, 9.429536668593755, 9.35834211928477, 9.314355677992353, 9.296897142014586, 9.305286308653194, 9.338842975206717, 9.396886938974603, 9.478737997256303, 9.583715947352175, 9.71114058656076, 9.860331712183324, 10.0306091215175, 10.221292611864556, 10.43170198052394, 10.661157024793738, 10.90897754197431, 11.174483329366012, 11.456994184266478, 11.755829903978338, 12.07031028579786, 12.399755127028584, 12.743484224965869, 13.100817376910982, 13.471074380165192, 13.853575032027038, 14.247639129794152, 14.652586470769165, 15.067736852249254, 15.492410071535232, 15.925925925926094, 16.367604212721744, 16.816764729222996, 17.27272727272748, 17.734811640535554, 18.20233762994667, 18.674625038262093, 19.150993662778546, 19.630763300797753, 20.113253749616888, 20.597784806539494, 21.08367626886138, 21.57024793388382, 22.05681959890717, 22.542711061229056, 23.027242118151662, 23.509732566971252, 23.98950220499046, 24.465870829507367, 24.938158237821426, 25.405684227232996, 25.867768595041525, 26.323731138545554, 26.772891655046806, 27.21456994184291, 27.648085796233772, 28.07275901551975, 28.487909396999385, 28.892856737974853, 29.286920835742876, 29.669421487603813, 30.03967849085757, 30.39701164280359, 30.74074074074042, 31.070185581970236, 31.384665963790212, 31.683501683501618, 31.966012538403447, 32.23151832579424, 32.47933884297527, 32.70879388724552, 32.919203255903994, 33.10988674625105, 33.28016415558477, 33.429355281207336, 33.556779920416375, 33.66175787051179, 33.74360892879395, 33.80165289256183, 33.835209559115356, 33.84359872575442, 33.82614018977665, 33.782153748483324, 33.71095919917525, 33.6118763391496, 33.484224965706744, 33.32732487614703, 33.14049586776855, 32.923057737871204, 32.67433028375763, 32.39363330272408, 32.08028659207139, 31.733609949097627, 31.35292317110452, 30.937546055391067, 30.48679839925626, 30.0]}, {\"name\": \"\\u0411\\u0440\\u0437\\u0438\\u043d\\u0430\", \"type\": \"scatter\", \"x\": [2.0, 2.01010101010101, 2.0202020202020203, 2.0303030303030303, 2.04040404040404, 2.0505050505050506, 2.0606060606060606, 2.070707070707071, 2.080808080808081, 2.090909090909091, 2.101010101010101, 2.111111111111111, 2.121212121212121, 2.1313131313131315, 2.1414141414141414, 2.1515151515151514, 2.1616161616161618, 2.1717171717171717, 2.1818181818181817, 2.191919191919192, 2.202020202020202, 2.212121212121212, 2.2222222222222223, 2.2323232323232323, 2.242424242424242, 2.2525252525252526, 2.2626262626262625, 2.272727272727273, 2.282828282828283, 2.292929292929293, 2.303030303030303, 2.313131313131313, 2.323232323232323, 2.3333333333333335, 2.3434343434343434, 2.353535353535354, 2.3636363636363638, 2.3737373737373737, 2.383838383838384, 2.393939393939394, 2.404040404040404, 2.4141414141414144, 2.4242424242424243, 2.4343434343434343, 2.4444444444444446, 2.4545454545454546, 2.4646464646464645, 2.474747474747475, 2.484848484848485, 2.494949494949495, 2.505050505050505, 2.515151515151515, 2.525252525252525, 2.5353535353535355, 2.5454545454545454, 2.5555555555555554, 2.5656565656565657, 2.5757575757575757, 2.5858585858585856, 2.595959595959596, 2.606060606060606, 2.6161616161616164, 2.6262626262626263, 2.6363636363636367, 2.6464646464646466, 2.6565656565656566, 2.666666666666667, 2.676767676767677, 2.686868686868687, 2.6969696969696972, 2.707070707070707, 2.717171717171717, 2.7272727272727275, 2.7373737373737375, 2.7474747474747474, 2.757575757575758, 2.7676767676767677, 2.7777777777777777, 2.787878787878788, 2.797979797979798, 2.808080808080808, 2.8181818181818183, 2.8282828282828283, 2.8383838383838382, 2.8484848484848486, 2.8585858585858586, 2.8686868686868685, 2.878787878787879, 2.888888888888889, 2.8989898989898992, 2.909090909090909, 2.919191919191919, 2.9292929292929295, 2.9393939393939394, 2.94949494949495, 2.95959595959596, 2.9696969696969697, 2.97979797979798, 2.98989898989899, 3.0], \"y\": [-20.0, -17.003367003367202, -14.074074074074133, -11.212121212121247, -8.417508417508543, -5.690235690235568, -3.03030303030323, -0.43771043771016593, 2.087542087542033, 4.545454545454504, 6.936026936026792, 9.259259259259125, 11.515151515151274, 13.703703703703923, 15.824915824915934, 17.87878787878776, 19.86531986531986, 21.78451178451178, 23.63636363636374, 25.42087542087529, 27.138047138046886, 28.78787878787898, 30.37037037037021, 31.885521885522166, 33.33333333333326, 34.71380471380462, 36.026936026936255, 37.272727272727025, 38.45117845117852, 39.56228956228961, 40.60606060606051, 41.582491582491684, 42.49158249158245, 43.333333333333485, 44.10774410774434, 44.814814814814554, 45.454545454545496, 46.02693602693603, 46.531986531986604, 46.969696969697225, 47.340067340067435, 47.64309764309769, 47.87878787878799, 48.047138047138105, 48.148148148148266, 48.181818181818244, 48.14814814814804, 48.047138047138105, 47.87878787878776, 47.64309764309746, 47.340067340067435, 46.969696969697, 46.531986531986604, 46.026936026935346, 45.45454545454595, 44.814814814815236, 44.107744107744566, 43.333333333333485, 42.4915824915829, 41.58249158249191, 40.606060606060964, 39.56228956229006, 38.45117845117875, 37.272727272727025, 36.026936026936255, 34.713804713805075, 33.33333333333394, 31.88552188552194, 30.370370370370438, 28.78787878787898, 27.13804713804757, 25.420875420875745, 23.636363636363967, 21.784511784512233, 19.86531986532009, 17.87878787878799, 15.824915824915934, 13.703703703703923, 11.515151515151956, 9.259259259259125, 6.936026936027247, 4.545454545454959, 2.0875420875422606, -0.4377104377103933, -3.0303030303030027, -5.690235690235568, -8.417508417508543, -11.212121212121474, -14.074074074073906, -17.003367003367202, -20.0, -23.063973063972753, -26.195286195285917, -29.393939393939036, -32.659932659932565, -35.993265993265595, -39.393939393939036, -42.86195286195289, -46.39730639730624, -50.0]}, {\"name\": \"\\u0417\\u0430\\u0431\\u0440\\u0437\\u0443\\u0432\\u0430\\u045a\\u0435\", \"type\": \"scatter\", \"x\": [2.0, 2.01010101010101, 2.0202020202020203, 2.0303030303030303, 2.04040404040404, 2.0505050505050506, 2.0606060606060606, 2.070707070707071, 2.080808080808081, 2.090909090909091, 2.101010101010101, 2.111111111111111, 2.121212121212121, 2.1313131313131315, 2.1414141414141414, 2.1515151515151514, 2.1616161616161618, 2.1717171717171717, 2.1818181818181817, 2.191919191919192, 2.202020202020202, 2.212121212121212, 2.2222222222222223, 2.2323232323232323, 2.242424242424242, 2.2525252525252526, 2.2626262626262625, 2.272727272727273, 2.282828282828283, 2.292929292929293, 2.303030303030303, 2.313131313131313, 2.323232323232323, 2.3333333333333335, 2.3434343434343434, 2.353535353535354, 2.3636363636363638, 2.3737373737373737, 2.383838383838384, 2.393939393939394, 2.404040404040404, 2.4141414141414144, 2.4242424242424243, 2.4343434343434343, 2.4444444444444446, 2.4545454545454546, 2.4646464646464645, 2.474747474747475, 2.484848484848485, 2.494949494949495, 2.505050505050505, 2.515151515151515, 2.525252525252525, 2.5353535353535355, 2.5454545454545454, 2.5555555555555554, 2.5656565656565657, 2.5757575757575757, 2.5858585858585856, 2.595959595959596, 2.606060606060606, 2.6161616161616164, 2.6262626262626263, 2.6363636363636367, 2.6464646464646466, 2.6565656565656566, 2.666666666666667, 2.676767676767677, 2.686868686868687, 2.6969696969696972, 2.707070707070707, 2.717171717171717, 2.7272727272727275, 2.7373737373737375, 2.7474747474747474, 2.757575757575758, 2.7676767676767677, 2.7777777777777777, 2.787878787878788, 2.797979797979798, 2.808080808080808, 2.8181818181818183, 2.8282828282828283, 2.8383838383838382, 2.8484848484848486, 2.8585858585858586, 2.8686868686868685, 2.878787878787879, 2.888888888888889, 2.8989898989898992, 2.909090909090909, 2.919191919191919, 2.9292929292929295, 2.9393939393939394, 2.94949494949495, 2.95959595959596, 2.9696969696969697, 2.97979797979798, 2.98989898989899, 3.0], \"y\": [300.0, 293.33333333333337, 286.6666666666665, 280.00000000000006, 273.3333333333334, 266.6666666666666, 260.0000000000001, 253.3333333333333, 246.66666666666663, 240.0, 233.33333333333314, 226.6666666666667, 220.00000000000006, 213.3333333333332, 206.66666666666657, 200.00000000000014, 193.3333333333333, 186.66666666666663, 180.0, 173.33333333333314, 166.6666666666667, 160.00000000000006, 153.3333333333332, 146.6666666666668, 140.00000000000014, 133.3333333333333, 126.66666666666664, 119.99999999999979, 113.33333333333336, 106.66666666666671, 99.99999999999986, 93.33333333333343, 86.66666666666679, 79.99999999999993, 73.33333333333329, 66.66666666666643, 60.0, 53.33333333333336, 46.6666666666665, 39.99999999999986, 33.33333333333343, 26.666666666666572, 19.99999999999993, 13.333333333333286, 6.66666666666643, 0.0, -6.666666666666643, -13.3333333333335, -19.99999999999993, -26.666666666666572, -33.33333333333343, -40.00000000000007, -46.6666666666665, -53.33333333333336, -60.0, -66.66666666666643, -73.33333333333329, -79.99999999999993, -86.66666666666657, -93.33333333333343, -99.99999999999986, -106.66666666666671, -113.33333333333336, -120.00000000000021, -126.66666666666686, -133.3333333333333, -140.00000000000014, -146.6666666666668, -153.33333333333343, -160.00000000000028, -166.6666666666667, -173.33333333333337, -180.00000000000023, -186.66666666666663, -193.3333333333333, -200.00000000000014, -206.6666666666668, -213.3333333333332, -220.00000000000006, -226.6666666666667, -233.33333333333314, -240.0, -246.66666666666663, -253.3333333333333, -260.0000000000001, -266.6666666666666, -273.3333333333332, -280.00000000000006, -286.66666666666674, -293.3333333333336, -300.0, -306.6666666666664, -313.33333333333326, -320.0000000000001, -326.66666666666697, -333.3333333333334, -339.9999999999999, -346.66666666666674, -353.3333333333336, -360.0]}],                        {\"template\": {\"data\": {\"bar\": [{\"error_x\": {\"color\": \"#2a3f5f\"}, \"error_y\": {\"color\": \"#2a3f5f\"}, \"marker\": {\"line\": {\"color\": \"#E5ECF6\", \"width\": 0.5}}, \"type\": \"bar\"}], \"barpolar\": [{\"marker\": {\"line\": {\"color\": \"#E5ECF6\", \"width\": 0.5}}, \"type\": \"barpolar\"}], \"carpet\": [{\"aaxis\": {\"endlinecolor\": \"#2a3f5f\", \"gridcolor\": \"white\", \"linecolor\": \"white\", \"minorgridcolor\": \"white\", \"startlinecolor\": \"#2a3f5f\"}, \"baxis\": {\"endlinecolor\": \"#2a3f5f\", \"gridcolor\": \"white\", \"linecolor\": \"white\", \"minorgridcolor\": \"white\", \"startlinecolor\": \"#2a3f5f\"}, \"type\": \"carpet\"}], \"choropleth\": [{\"colorbar\": {\"outlinewidth\": 0, \"ticks\": \"\"}, \"type\": \"choropleth\"}], \"contour\": [{\"colorbar\": {\"outlinewidth\": 0, \"ticks\": \"\"}, \"colorscale\": [[0.0, \"#0d0887\"], [0.1111111111111111, \"#46039f\"], [0.2222222222222222, \"#7201a8\"], [0.3333333333333333, \"#9c179e\"], [0.4444444444444444, \"#bd3786\"], [0.5555555555555556, \"#d8576b\"], [0.6666666666666666, \"#ed7953\"], [0.7777777777777778, \"#fb9f3a\"], [0.8888888888888888, \"#fdca26\"], [1.0, \"#f0f921\"]], \"type\": \"contour\"}], \"contourcarpet\": [{\"colorbar\": {\"outlinewidth\": 0, \"ticks\": \"\"}, \"type\": \"contourcarpet\"}], \"heatmap\": [{\"colorbar\": {\"outlinewidth\": 0, \"ticks\": \"\"}, \"colorscale\": [[0.0, \"#0d0887\"], [0.1111111111111111, \"#46039f\"], [0.2222222222222222, \"#7201a8\"], [0.3333333333333333, \"#9c179e\"], [0.4444444444444444, \"#bd3786\"], [0.5555555555555556, \"#d8576b\"], [0.6666666666666666, \"#ed7953\"], [0.7777777777777778, \"#fb9f3a\"], [0.8888888888888888, \"#fdca26\"], [1.0, \"#f0f921\"]], \"type\": \"heatmap\"}], \"heatmapgl\": [{\"colorbar\": {\"outlinewidth\": 0, \"ticks\": \"\"}, \"colorscale\": [[0.0, \"#0d0887\"], [0.1111111111111111, \"#46039f\"], [0.2222222222222222, \"#7201a8\"], [0.3333333333333333, \"#9c179e\"], [0.4444444444444444, \"#bd3786\"], [0.5555555555555556, \"#d8576b\"], [0.6666666666666666, \"#ed7953\"], [0.7777777777777778, \"#fb9f3a\"], [0.8888888888888888, \"#fdca26\"], [1.0, \"#f0f921\"]], \"type\": \"heatmapgl\"}], \"histogram\": [{\"marker\": {\"colorbar\": {\"outlinewidth\": 0, \"ticks\": \"\"}}, \"type\": \"histogram\"}], \"histogram2d\": [{\"colorbar\": {\"outlinewidth\": 0, \"ticks\": \"\"}, \"colorscale\": [[0.0, \"#0d0887\"], [0.1111111111111111, \"#46039f\"], [0.2222222222222222, \"#7201a8\"], [0.3333333333333333, \"#9c179e\"], [0.4444444444444444, \"#bd3786\"], [0.5555555555555556, \"#d8576b\"], [0.6666666666666666, \"#ed7953\"], [0.7777777777777778, \"#fb9f3a\"], [0.8888888888888888, \"#fdca26\"], [1.0, \"#f0f921\"]], \"type\": \"histogram2d\"}], \"histogram2dcontour\": [{\"colorbar\": {\"outlinewidth\": 0, \"ticks\": \"\"}, \"colorscale\": [[0.0, \"#0d0887\"], [0.1111111111111111, \"#46039f\"], [0.2222222222222222, \"#7201a8\"], [0.3333333333333333, \"#9c179e\"], [0.4444444444444444, \"#bd3786\"], [0.5555555555555556, \"#d8576b\"], [0.6666666666666666, \"#ed7953\"], [0.7777777777777778, \"#fb9f3a\"], [0.8888888888888888, \"#fdca26\"], [1.0, \"#f0f921\"]], \"type\": \"histogram2dcontour\"}], \"mesh3d\": [{\"colorbar\": {\"outlinewidth\": 0, \"ticks\": \"\"}, \"type\": \"mesh3d\"}], \"parcoords\": [{\"line\": {\"colorbar\": {\"outlinewidth\": 0, \"ticks\": \"\"}}, \"type\": \"parcoords\"}], \"pie\": [{\"automargin\": true, \"type\": \"pie\"}], \"scatter\": [{\"marker\": {\"colorbar\": {\"outlinewidth\": 0, \"ticks\": \"\"}}, \"type\": \"scatter\"}], \"scatter3d\": [{\"line\": {\"colorbar\": {\"outlinewidth\": 0, \"ticks\": \"\"}}, \"marker\": {\"colorbar\": {\"outlinewidth\": 0, \"ticks\": \"\"}}, \"type\": \"scatter3d\"}], \"scattercarpet\": [{\"marker\": {\"colorbar\": {\"outlinewidth\": 0, \"ticks\": \"\"}}, \"type\": \"scattercarpet\"}], \"scattergeo\": [{\"marker\": {\"colorbar\": {\"outlinewidth\": 0, \"ticks\": \"\"}}, \"type\": \"scattergeo\"}], \"scattergl\": [{\"marker\": {\"colorbar\": {\"outlinewidth\": 0, \"ticks\": \"\"}}, \"type\": \"scattergl\"}], \"scattermapbox\": [{\"marker\": {\"colorbar\": {\"outlinewidth\": 0, \"ticks\": \"\"}}, \"type\": \"scattermapbox\"}], \"scatterpolar\": [{\"marker\": {\"colorbar\": {\"outlinewidth\": 0, \"ticks\": \"\"}}, \"type\": \"scatterpolar\"}], \"scatterpolargl\": [{\"marker\": {\"colorbar\": {\"outlinewidth\": 0, \"ticks\": \"\"}}, \"type\": \"scatterpolargl\"}], \"scatterternary\": [{\"marker\": {\"colorbar\": {\"outlinewidth\": 0, \"ticks\": \"\"}}, \"type\": \"scatterternary\"}], \"surface\": [{\"colorbar\": {\"outlinewidth\": 0, \"ticks\": \"\"}, \"colorscale\": [[0.0, \"#0d0887\"], [0.1111111111111111, \"#46039f\"], [0.2222222222222222, \"#7201a8\"], [0.3333333333333333, \"#9c179e\"], [0.4444444444444444, \"#bd3786\"], [0.5555555555555556, \"#d8576b\"], [0.6666666666666666, \"#ed7953\"], [0.7777777777777778, \"#fb9f3a\"], [0.8888888888888888, \"#fdca26\"], [1.0, \"#f0f921\"]], \"type\": \"surface\"}], \"table\": [{\"cells\": {\"fill\": {\"color\": \"#EBF0F8\"}, \"line\": {\"color\": \"white\"}}, \"header\": {\"fill\": {\"color\": \"#C8D4E3\"}, \"line\": {\"color\": \"white\"}}, \"type\": \"table\"}]}, \"layout\": {\"annotationdefaults\": {\"arrowcolor\": \"#2a3f5f\", \"arrowhead\": 0, \"arrowwidth\": 1}, \"autotypenumbers\": \"strict\", \"coloraxis\": {\"colorbar\": {\"outlinewidth\": 0, \"ticks\": \"\"}}, \"colorscale\": {\"diverging\": [[0, \"#8e0152\"], [0.1, \"#c51b7d\"], [0.2, \"#de77ae\"], [0.3, \"#f1b6da\"], [0.4, \"#fde0ef\"], [0.5, \"#f7f7f7\"], [0.6, \"#e6f5d0\"], [0.7, \"#b8e186\"], [0.8, \"#7fbc41\"], [0.9, \"#4d9221\"], [1, \"#276419\"]], \"sequential\": [[0.0, \"#0d0887\"], [0.1111111111111111, \"#46039f\"], [0.2222222222222222, \"#7201a8\"], [0.3333333333333333, \"#9c179e\"], [0.4444444444444444, \"#bd3786\"], [0.5555555555555556, \"#d8576b\"], [0.6666666666666666, \"#ed7953\"], [0.7777777777777778, \"#fb9f3a\"], [0.8888888888888888, \"#fdca26\"], [1.0, \"#f0f921\"]], \"sequentialminus\": [[0.0, \"#0d0887\"], [0.1111111111111111, \"#46039f\"], [0.2222222222222222, \"#7201a8\"], [0.3333333333333333, \"#9c179e\"], [0.4444444444444444, \"#bd3786\"], [0.5555555555555556, \"#d8576b\"], [0.6666666666666666, \"#ed7953\"], [0.7777777777777778, \"#fb9f3a\"], [0.8888888888888888, \"#fdca26\"], [1.0, \"#f0f921\"]]}, \"colorway\": [\"#636efa\", \"#EF553B\", \"#00cc96\", \"#ab63fa\", \"#FFA15A\", \"#19d3f3\", \"#FF6692\", \"#B6E880\", \"#FF97FF\", \"#FECB52\"], \"font\": {\"color\": \"#2a3f5f\"}, \"geo\": {\"bgcolor\": \"white\", \"lakecolor\": \"white\", \"landcolor\": \"#E5ECF6\", \"showlakes\": true, \"showland\": true, \"subunitcolor\": \"white\"}, \"hoverlabel\": {\"align\": \"left\"}, \"hovermode\": \"closest\", \"mapbox\": {\"style\": \"light\"}, \"paper_bgcolor\": \"white\", \"plot_bgcolor\": \"#E5ECF6\", \"polar\": {\"angularaxis\": {\"gridcolor\": \"white\", \"linecolor\": \"white\", \"ticks\": \"\"}, \"bgcolor\": \"#E5ECF6\", \"radialaxis\": {\"gridcolor\": \"white\", \"linecolor\": \"white\", \"ticks\": \"\"}}, \"scene\": {\"xaxis\": {\"backgroundcolor\": \"#E5ECF6\", \"gridcolor\": \"white\", \"gridwidth\": 2, \"linecolor\": \"white\", \"showbackground\": true, \"ticks\": \"\", \"zerolinecolor\": \"white\"}, \"yaxis\": {\"backgroundcolor\": \"#E5ECF6\", \"gridcolor\": \"white\", \"gridwidth\": 2, \"linecolor\": \"white\", \"showbackground\": true, \"ticks\": \"\", \"zerolinecolor\": \"white\"}, \"zaxis\": {\"backgroundcolor\": \"#E5ECF6\", \"gridcolor\": \"white\", \"gridwidth\": 2, \"linecolor\": \"white\", \"showbackground\": true, \"ticks\": \"\", \"zerolinecolor\": \"white\"}}, \"shapedefaults\": {\"line\": {\"color\": \"#2a3f5f\"}}, \"ternary\": {\"aaxis\": {\"gridcolor\": \"white\", \"linecolor\": \"white\", \"ticks\": \"\"}, \"baxis\": {\"gridcolor\": \"white\", \"linecolor\": \"white\", \"ticks\": \"\"}, \"bgcolor\": \"#E5ECF6\", \"caxis\": {\"gridcolor\": \"white\", \"linecolor\": \"white\", \"ticks\": \"\"}}, \"title\": {\"x\": 0.05}, \"xaxis\": {\"automargin\": true, \"gridcolor\": \"white\", \"linecolor\": \"white\", \"ticks\": \"\", \"title\": {\"standoff\": 15}, \"zerolinecolor\": \"white\", \"zerolinewidth\": 2}, \"yaxis\": {\"automargin\": true, \"gridcolor\": \"white\", \"linecolor\": \"white\", \"ticks\": \"\", \"title\": {\"standoff\": 15}, \"zerolinecolor\": \"white\", \"zerolinewidth\": 2}}}},                        {\"responsive\": true}                    ).then(function(){\n",
       "                            \n",
       "var gd = document.getElementById('e93fdfa5-ab44-4386-80d2-f98dc0e6079c');\n",
       "var x = new MutationObserver(function (mutations, observer) {{\n",
       "        var display = window.getComputedStyle(gd).display;\n",
       "        if (!display || display === 'none') {{\n",
       "            console.log([gd, 'removed!']);\n",
       "            Plotly.purge(gd);\n",
       "            observer.disconnect();\n",
       "        }}\n",
       "}});\n",
       "\n",
       "// Listen for the removal of the full notebook cells\n",
       "var notebookContainer = gd.closest('#notebook-container');\n",
       "if (notebookContainer) {{\n",
       "    x.observe(notebookContainer, {childList: true});\n",
       "}}\n",
       "\n",
       "// Listen for the clearing of the current output cell\n",
       "var outputEl = gd.closest('.output');\n",
       "if (outputEl) {{\n",
       "    x.observe(outputEl, {childList: true});\n",
       "}}\n",
       "\n",
       "                        })                };                });            </script>        </div>"
      ]
     },
     "metadata": {},
     "output_type": "display_data"
    }
   ],
   "source": [
    "rt.plot_trajectories([(theta, 2, 3)])"
   ]
  },
  {
   "cell_type": "code",
   "execution_count": null,
   "metadata": {},
   "outputs": [],
   "source": []
  }
 ],
 "metadata": {
  "kernelspec": {
   "display_name": "Python 3",
   "language": "python",
   "name": "python3"
  },
  "language_info": {
   "codemirror_mode": {
    "name": "ipython",
    "version": 3
   },
   "file_extension": ".py",
   "mimetype": "text/x-python",
   "name": "python",
   "nbconvert_exporter": "python",
   "pygments_lexer": "ipython3",
   "version": "3.8.5"
  }
 },
 "nbformat": 4,
 "nbformat_minor": 4
}
