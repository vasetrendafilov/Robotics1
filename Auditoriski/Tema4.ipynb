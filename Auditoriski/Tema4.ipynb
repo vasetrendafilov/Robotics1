{
 "cells": [
  {
   "cell_type": "markdown",
   "metadata": {},
   "source": [
    "## Zadaca 1"
   ]
  },
  {
   "cell_type": "code",
   "execution_count": 1,
   "metadata": {},
   "outputs": [],
   "source": [
    "import sympy as sp\n",
    "from sympy.physics import mechanics\n",
    "import Resources.script as rt\n",
    "mechanics.init_vprinting() "
   ]
  },
  {
   "cell_type": "code",
   "execution_count": 7,
   "metadata": {},
   "outputs": [
    {
     "data": {
      "image/png": "[encoded data removed]",
      "text/latex": [
       "$\\displaystyle y$"
      ],
      "text/plain": [
       "y"
      ]
     },
     "execution_count": 7,
     "metadata": {},
     "output_type": "execute_result"
    }
   ],
   "source": [
    "m, g = sp.symbols('m, g')\n",
    "y = mechanics.dynamicsymbols('y')\n",
    "y"
   ]
  },
  {
   "cell_type": "code",
   "execution_count": 8,
   "metadata": {},
   "outputs": [
    {
     "data": {
      "image/png": "[encoded data removed]",
      "text/latex": [
       "$\\displaystyle \\dot{y}$"
      ],
      "text/plain": [
       "ẏ"
      ]
     },
     "execution_count": 8,
     "metadata": {},
     "output_type": "execute_result"
    }
   ],
   "source": [
    "vy = y.diff('t')\n",
    "vy"
   ]
  },
  {
   "cell_type": "code",
   "execution_count": 5,
   "metadata": {},
   "outputs": [
    {
     "data": {
      "image/png": "[encoded data removed]",
      "text/latex": [
       "$\\displaystyle \\frac{m \\dot{y}^{2}}{2}$"
      ],
      "text/plain": [
       "   2\n",
       "m⋅ẏ \n",
       "────\n",
       " 2  "
      ]
     },
     "execution_count": 5,
     "metadata": {},
     "output_type": "execute_result"
    }
   ],
   "source": [
    "K = m * vy**2 / 2\n",
    "K"
   ]
  },
  {
   "cell_type": "code",
   "execution_count": 6,
   "metadata": {},
   "outputs": [
    {
     "data": {
      "image/png": "[encoded data removed]",
      "text/latex": [
       "$\\displaystyle g m y$"
      ],
      "text/plain": [
       "g⋅m⋅y"
      ]
     },
     "execution_count": 6,
     "metadata": {},
     "output_type": "execute_result"
    }
   ],
   "source": [
    "P = m * g * y\n",
    "P"
   ]
  },
  {
   "cell_type": "code",
   "execution_count": 8,
   "metadata": {},
   "outputs": [
    {
     "data": {
      "image/png": "[encoded data removed]",
      "text/latex": [
       "$\\displaystyle - g m y + \\frac{m \\dot{y}^{2}}{2}$"
      ],
      "text/plain": [
       "            2\n",
       "         m⋅ẏ \n",
       "-g⋅m⋅y + ────\n",
       "          2  "
      ]
     },
     "execution_count": 8,
     "metadata": {},
     "output_type": "execute_result"
    }
   ],
   "source": [
    "L = K-P\n",
    "L"
   ]
  },
  {
   "cell_type": "code",
   "execution_count": 9,
   "metadata": {},
   "outputs": [
    {
     "data": {
      "text/latex": [
       "$\\displaystyle \\left[\\begin{matrix}m \\left(g + \\ddot{y}\\right)\\end{matrix}\\right]$"
      ],
      "text/plain": [
       "[m⋅(g + ÿ)]"
      ]
     },
     "execution_count": 9,
     "metadata": {},
     "output_type": "execute_result"
    }
   ],
   "source": [
    "rt.lagrangian(L, [y])\n"
   ]
  },
  {
   "cell_type": "markdown",
   "metadata": {},
   "source": [
    "## Zadaca 2"
   ]
  },
  {
   "cell_type": "code",
   "execution_count": 12,
   "metadata": {},
   "outputs": [],
   "source": [
    "m, g, l = sp.symbols('m, g, l')\n",
    "theta = mechanics.dynamicsymbols('theta')"
   ]
  },
  {
   "cell_type": "code",
   "execution_count": 48,
   "metadata": {},
   "outputs": [
    {
     "data": {
      "image/png": "[encoded data removed]",
      "text/latex": [
       "$\\displaystyle l \\cos{\\left(\\theta \\right)}$"
      ],
      "text/plain": [
       "l⋅cos(θ)"
      ]
     },
     "execution_count": 48,
     "metadata": {},
     "output_type": "execute_result"
    }
   ],
   "source": [
    "x = l*sp.cos(theta)\n",
    "x"
   ]
  },
  {
   "cell_type": "code",
   "execution_count": 15,
   "metadata": {},
   "outputs": [
    {
     "data": {
      "image/png": "[encoded data removed]",
      "text/latex": [
       "$\\displaystyle l \\sin{\\left(\\theta \\right)}$"
      ],
      "text/plain": [
       "l⋅sin(θ)"
      ]
     },
     "execution_count": 15,
     "metadata": {},
     "output_type": "execute_result"
    }
   ],
   "source": [
    "y = l*sp.sin(theta)\n",
    "y"
   ]
  },
  {
   "cell_type": "code",
   "execution_count": 23,
   "metadata": {},
   "outputs": [
    {
     "data": {
      "image/png": "[encoded data removed]",
      "text/latex": [
       "$\\displaystyle \\frac{l^{2} m \\dot{\\theta}^{2}}{2}$"
      ],
      "text/plain": [
       " 2    2\n",
       "l ⋅m⋅θ̇ \n",
       "───────\n",
       "   2   "
      ]
     },
     "execution_count": 23,
     "metadata": {},
     "output_type": "execute_result"
    }
   ],
   "source": [
    "K = m * (x.diff('t')**2 + y.diff('t')**2) / 2 \n",
    "K = sp.simplify(K)\n",
    "K"
   ]
  },
  {
   "cell_type": "code",
   "execution_count": 24,
   "metadata": {},
   "outputs": [
    {
     "data": {
      "image/png": "[encoded data removed]",
      "text/latex": [
       "$\\displaystyle g l m \\sin{\\left(\\theta \\right)}$"
      ],
      "text/plain": [
       "g⋅l⋅m⋅sin(θ)"
      ]
     },
     "execution_count": 24,
     "metadata": {},
     "output_type": "execute_result"
    }
   ],
   "source": [
    "P = m*g*l*sp.sin(theta)\n",
    "P"
   ]
  },
  {
   "cell_type": "code",
   "execution_count": 25,
   "metadata": {},
   "outputs": [
    {
     "data": {
      "image/png": "[encoded data removed]",
      "text/latex": [
       "$\\displaystyle - g l m \\sin{\\left(\\theta \\right)} + \\frac{l^{2} m \\dot{\\theta}^{2}}{2}$"
      ],
      "text/plain": [
       "                 2    2\n",
       "                l ⋅m⋅θ̇ \n",
       "-g⋅l⋅m⋅sin(θ) + ───────\n",
       "                   2   "
      ]
     },
     "execution_count": 25,
     "metadata": {},
     "output_type": "execute_result"
    }
   ],
   "source": [
    "L = K-P\n",
    "L"
   ]
  },
  {
   "cell_type": "code",
   "execution_count": 26,
   "metadata": {},
   "outputs": [
    {
     "data": {
      "text/latex": [
       "$\\displaystyle \\left[\\begin{matrix}l m \\left(g \\cos{\\left(\\theta \\right)} + l \\ddot{\\theta}\\right)\\end{matrix}\\right]$"
      ],
      "text/plain": [
       "[l⋅m⋅(g⋅cos(θ) + l⋅θ̈)]"
      ]
     },
     "execution_count": 26,
     "metadata": {},
     "output_type": "execute_result"
    }
   ],
   "source": [
    "rt.lagrangian(L, [theta])"
   ]
  },
  {
   "cell_type": "markdown",
   "metadata": {},
   "source": [
    "## Zadaca 3"
   ]
  },
  {
   "cell_type": "code",
   "execution_count": 51,
   "metadata": {},
   "outputs": [],
   "source": [
    "m1, m2, g = sp.symbols('m1, m2, g')\n",
    "d1, d2 = mechanics.dynamicsymbols('d1, d2')\n",
    "v1, v2 = d1.diff('t'), d2.diff('t')"
   ]
  },
  {
   "cell_type": "code",
   "execution_count": 52,
   "metadata": {},
   "outputs": [
    {
     "data": {
      "image/png": "[encoded data removed]",
      "text/latex": [
       "$\\displaystyle \\frac{m_{1} \\dot{d}_{1}^{2}}{2} + \\frac{m_{2} \\left(\\dot{d}_{1}^{2} + \\dot{d}_{2}^{2}\\right)}{2}$"
      ],
      "text/plain": [
       "     2      ⎛  2     2⎞\n",
       "m₁⋅d₁̇    m₂⋅⎝d₁̇  + d₂̇ ⎠\n",
       "────── + ──────────────\n",
       "  2            2       "
      ]
     },
     "execution_count": 52,
     "metadata": {},
     "output_type": "execute_result"
    }
   ],
   "source": [
    "K1 = (m1*v1**2)/2\n",
    "K2 = (m2*(v1**2+v2**2))/2\n",
    "K = K1 + K2\n",
    "K"
   ]
  },
  {
   "cell_type": "code",
   "execution_count": 53,
   "metadata": {},
   "outputs": [
    {
     "data": {
      "image/png": "[encoded data removed]",
      "text/latex": [
       "$\\displaystyle g \\left(m_{1} + m_{2}\\right) d_{1}$"
      ],
      "text/plain": [
       "g⋅(m₁ + m₂)⋅d₁"
      ]
     },
     "execution_count": 53,
     "metadata": {},
     "output_type": "execute_result"
    }
   ],
   "source": [
    "P1 = m1*g*d1\n",
    "P2 = m2*g*d1\n",
    "P = P1 + P2\n",
    "P.simplify()"
   ]
  },
  {
   "cell_type": "code",
   "execution_count": 54,
   "metadata": {},
   "outputs": [
    {
     "data": {
      "image/png": "[encoded data removed]",
      "text/latex": [
       "$\\displaystyle - g m_{1} d_{1} - g m_{2} d_{1} + \\frac{m_{1} \\dot{d}_{1}^{2}}{2} + \\frac{m_{2} \\left(\\dot{d}_{1}^{2} + \\dot{d}_{2}^{2}\\right)}{2}$"
      ],
      "text/plain": [
       "                          2      ⎛  2     2⎞\n",
       "                     m₁⋅d₁̇    m₂⋅⎝d₁̇  + d₂̇ ⎠\n",
       "-g⋅m₁⋅d₁ - g⋅m₂⋅d₁ + ────── + ──────────────\n",
       "                       2            2       "
      ]
     },
     "execution_count": 54,
     "metadata": {},
     "output_type": "execute_result"
    }
   ],
   "source": [
    "L = K - P\n",
    "L"
   ]
  },
  {
   "cell_type": "code",
   "execution_count": 55,
   "metadata": {},
   "outputs": [
    {
     "data": {
      "text/latex": [
       "$\\displaystyle \\left[\\begin{matrix}g m_{1} + g m_{2} + m_{1} \\ddot{d}_{1} + m_{2} \\ddot{d}_{1}\\\\m_{2} \\ddot{d}_{2}\\end{matrix}\\right]$"
      ],
      "text/plain": [
       "⎡g⋅m₁ + g⋅m₂ + m₁⋅d₁̈ + m₂⋅d₁̈⎤\n",
       "⎢                           ⎥\n",
       "⎣           m₂⋅d₂̈           ⎦"
      ]
     },
     "execution_count": 55,
     "metadata": {},
     "output_type": "execute_result"
    }
   ],
   "source": [
    "rt.lagrangian(L, [d1, d2])"
   ]
  },
  {
   "cell_type": "markdown",
   "metadata": {},
   "source": [
    "## Zacada 11"
   ]
  },
  {
   "cell_type": "code",
   "execution_count": 3,
   "metadata": {},
   "outputs": [
    {
     "data": {
      "image/png": "[encoded data removed]",
      "text/latex": [
       "$\\displaystyle \\left( l_{c1}, \\  l_{c2}\\right)$"
      ],
      "text/plain": [
       "(l_c1, l_c2)"
      ]
     },
     "execution_count": 3,
     "metadata": {},
     "output_type": "execute_result"
    }
   ],
   "source": [
    "m1, m2, g, l1, l2, lc1, lc2, I1, I2 = sp.symbols('m1, m2, g, l1, l2, l_c1, l_c2, I1, I2')\n",
    "theta1, theta2 = mechanics.dynamicsymbols('theta1, theta2')\n",
    "vtheta1, vtheta2 = theta1.diff('t'), theta2.diff('t')\n",
    "lc1, lc2"
   ]
  },
  {
   "cell_type": "code",
   "execution_count": 7,
   "metadata": {},
   "outputs": [
    {
     "data": {
      "image/png": "[encoded data removed]",
      "text/latex": [
       "$\\displaystyle \\frac{\\left(I_{1} + l_{c1}^{2} m_{1}\\right) \\dot{\\theta}_{1}^{2}}{2}$"
      ],
      "text/plain": [
       "⎛         2   ⎞   2\n",
       "⎝I₁ + l_c1 ⋅m₁⎠⋅θ₁̇ \n",
       "───────────────────\n",
       "         2         "
      ]
     },
     "execution_count": 7,
     "metadata": {},
     "output_type": "execute_result"
    }
   ],
   "source": [
    "k1 = m1* lc1**2 *vtheta1**2 /2 + I1 * vtheta1**2 /2\n",
    "k1.simplify()"
   ]
  },
  {
   "cell_type": "code",
   "execution_count": 8,
   "metadata": {},
   "outputs": [
    {
     "data": {
      "image/png": "[encoded data removed]",
      "text/latex": [
       "$\\displaystyle \\left( - l_{1} \\sin{\\left(\\theta_{1} \\right)} \\dot{\\theta}_{1} - l_{c2} \\left(\\dot{\\theta}_{1} + \\dot{\\theta}_{2}\\right) \\sin{\\left(\\theta_{1} + \\theta_{2} \\right)}, \\  l_{1} \\cos{\\left(\\theta_{1} \\right)} \\dot{\\theta}_{1} + l_{c2} \\left(\\dot{\\theta}_{1} + \\dot{\\theta}_{2}\\right) \\cos{\\left(\\theta_{1} + \\theta_{2} \\right)}\\right)$"
      ],
      "text/plain": [
       "(-l₁⋅sin(θ₁)⋅θ₁̇ - l_c2⋅(θ₁̇ + θ₂̇)⋅sin(θ₁ + θ₂), l₁⋅cos(θ₁)⋅θ₁̇ + l_c2⋅(θ₁̇ +\n",
       " θ₂̇)⋅cos(θ₁ + θ₂))"
      ]
     },
     "execution_count": 8,
     "metadata": {},
     "output_type": "execute_result"
    }
   ],
   "source": [
    "x2 = l1*sp.cos(theta1) + lc2*sp.cos(theta1+theta2)\n",
    "y2 = l1*sp.sin(theta1) + lc2*sp.sin(theta1+theta2)\n",
    "vx2 = x2.diff('t')\n",
    "vy2 = y2.diff('t')\n",
    "vx2,vy2"
   ]
  },
  {
   "cell_type": "code",
   "execution_count": 14,
   "metadata": {},
   "outputs": [
    {
     "data": {
      "image/png": "[encoded data removed]",
      "text/latex": [
       "$\\displaystyle \\frac{I_{2} \\left(\\dot{\\theta}_{1}^{2} + \\dot{\\theta}_{2}^{2}\\right)}{2} + \\frac{m_{2} \\left(\\left(- l_{1} \\sin{\\left(\\theta_{1} \\right)} \\dot{\\theta}_{1} - l_{c2} \\left(\\dot{\\theta}_{1} + \\dot{\\theta}_{2}\\right) \\sin{\\left(\\theta_{1} + \\theta_{2} \\right)}\\right)^{2} + \\left(l_{1} \\cos{\\left(\\theta_{1} \\right)} \\dot{\\theta}_{1} + l_{c2} \\left(\\dot{\\theta}_{1} + \\dot{\\theta}_{2}\\right) \\cos{\\left(\\theta_{1} + \\theta_{2} \\right)}\\right)^{2}\\right)}{2}$"
      ],
      "text/plain": [
       "   ⎛  2     2⎞      ⎛                                              2          \n",
       "I₂⋅⎝θ₁̇  + θ₂̇ ⎠   m₂⋅⎝(-l₁⋅sin(θ₁)⋅θ₁̇ - l_c2⋅(θ₁̇ + θ₂̇)⋅sin(θ₁ + θ₂))  + (l\n",
       "────────────── + ─────────────────────────────────────────────────────────────\n",
       "      2                                                            2          \n",
       "\n",
       "                                      2⎞\n",
       "₁⋅cos(θ₁)⋅θ₁̇ + l_c2⋅(θ₁̇ + θ₂̇)⋅cos(θ₁ + θ₂)) ⎠\n",
       "────────────────────────────────────────\n",
       "                                        "
      ]
     },
     "execution_count": 14,
     "metadata": {},
     "output_type": "execute_result"
    }
   ],
   "source": [
    "k2 = m2 * (vx2**2 + vy2**2) / 2 + I2* (vtheta1**2 + vtheta2**2)/2\n",
    "k2"
   ]
  },
  {
   "cell_type": "code",
   "execution_count": 16,
   "metadata": {},
   "outputs": [
    {
     "data": {
      "image/png": "[encoded data removed]",
      "text/latex": [
       "$\\displaystyle \\frac{I_{1} \\dot{\\theta}_{1}^{2}}{2} + \\frac{I_{2} \\left(\\dot{\\theta}_{1}^{2} + \\dot{\\theta}_{2}^{2}\\right)}{2} + \\frac{l_{c1}^{2} m_{1} \\dot{\\theta}_{1}^{2}}{2} + \\frac{m_{2} \\left(\\left(- l_{1} \\sin{\\left(\\theta_{1} \\right)} \\dot{\\theta}_{1} - l_{c2} \\left(\\dot{\\theta}_{1} + \\dot{\\theta}_{2}\\right) \\sin{\\left(\\theta_{1} + \\theta_{2} \\right)}\\right)^{2} + \\left(l_{1} \\cos{\\left(\\theta_{1} \\right)} \\dot{\\theta}_{1} + l_{c2} \\left(\\dot{\\theta}_{1} + \\dot{\\theta}_{2}\\right) \\cos{\\left(\\theta_{1} + \\theta_{2} \\right)}\\right)^{2}\\right)}{2}$"
      ],
      "text/plain": [
       "     2      ⎛  2     2⎞       2      2      ⎛                                 \n",
       "I₁⋅θ₁̇    I₂⋅⎝θ₁̇  + θ₂̇ ⎠   l_c1 ⋅m₁⋅θ₁̇    m₂⋅⎝(-l₁⋅sin(θ₁)⋅θ₁̇ - l_c2⋅(θ₁̇ \n",
       "────── + ────────────── + ──────────── + ─────────────────────────────────────\n",
       "  2            2               2                                              \n",
       "\n",
       "             2                                                2⎞\n",
       "+ θ₂̇)⋅sin(θ₁ + θ₂))  + (l₁⋅cos(θ₁)⋅θ₁̇ + l_c2⋅(θ₁̇ + θ₂̇)⋅cos(θ₁ + θ₂)) ⎠\n",
       "────────────────────────────────────────────────────────────────\n",
       "             2                                                  "
      ]
     },
     "execution_count": 16,
     "metadata": {},
     "output_type": "execute_result"
    }
   ],
   "source": [
    "k = k1+k2\n",
    "k"
   ]
  },
  {
   "cell_type": "code",
   "execution_count": 18,
   "metadata": {},
   "outputs": [
    {
     "data": {
      "image/png": "[encoded data removed]",
      "text/latex": [
       "$\\displaystyle g l_{1} m_{2} \\sin{\\left(\\theta_{1} \\right)} + g l_{c1} m_{1} \\sin{\\left(\\theta_{1} \\right)} + g l_{c2} m_{2} \\sin{\\left(\\theta_{1} + \\theta_{2} \\right)}$"
      ],
      "text/plain": [
       "g⋅l₁⋅m₂⋅sin(θ₁) + g⋅l_c1⋅m₁⋅sin(θ₁) + g⋅l_c2⋅m₂⋅sin(θ₁ + θ₂)"
      ]
     },
     "execution_count": 18,
     "metadata": {},
     "output_type": "execute_result"
    }
   ],
   "source": [
    "p1 = m1*g*lc1*sp.sin(theta1)\n",
    "p2 = m2*g*l1*sp.sin(theta1) + m2*g*lc2*sp.sin(theta1+theta2)\n",
    "p = p1+p2\n",
    "p"
   ]
  },
  {
   "cell_type": "code",
   "execution_count": 20,
   "metadata": {},
   "outputs": [
    {
     "data": {
      "text/latex": [
       "$\\displaystyle \\left( \\left[\\begin{matrix}\\left(I_{1} + I_{2} + l_{1}^{2} m_{2} + 2 l_{1} l_{c2} m_{2} \\cos{\\left(\\theta_{2} \\right)} + l_{c1}^{2} m_{1} + l_{c2}^{2} m_{2}\\right) \\ddot{\\theta}_{1} & l_{c2} m_{2} \\left(l_{1} \\cos{\\left(\\theta_{2} \\right)} + l_{c2}\\right) \\ddot{\\theta}_{2}\\\\l_{c2} m_{2} \\left(l_{1} \\cos{\\left(\\theta_{2} \\right)} + l_{c2}\\right) \\ddot{\\theta}_{1} & \\left(I_{2} + l_{c2}^{2} m_{2}\\right) \\ddot{\\theta}_{2}\\end{matrix}\\right], \\  \\left[\\begin{matrix}0 & - 2 l_{1} l_{c2} m_{2} \\sin{\\left(\\theta_{2} \\right)} \\dot{\\theta}_{1} \\dot{\\theta}_{2} & - l_{1} l_{c2} m_{2} \\sin{\\left(\\theta_{2} \\right)} \\dot{\\theta}_{2}^{2}\\\\l_{1} l_{c2} m_{2} \\sin{\\left(\\theta_{2} \\right)} \\dot{\\theta}_{1}^{2} & 0 & 0\\end{matrix}\\right], \\  \\left[\\begin{matrix}g \\left(l_{1} m_{2} \\cos{\\left(\\theta_{1} \\right)} + l_{c1} m_{1} \\cos{\\left(\\theta_{1} \\right)} + l_{c2} m_{2} \\cos{\\left(\\theta_{1} + \\theta_{2} \\right)}\\right)\\\\g l_{c2} m_{2} \\cos{\\left(\\theta_{1} + \\theta_{2} \\right)}\\end{matrix}\\right]\\right)$"
      ],
      "text/plain": [
       "⎛⎡⎛            2                                 2          2   ⎞             \n",
       "⎜⎢⎝I₁ + I₂ + l₁ ⋅m₂ + 2⋅l₁⋅l_c2⋅m₂⋅cos(θ₂) + l_c1 ⋅m₁ + l_c2 ⋅m₂⎠⋅θ₁̈  l_c2⋅m₂\n",
       "⎜⎢                                                                            \n",
       "⎜⎢                                                                          ⎛ \n",
       "⎝⎣                  l_c2⋅m₂⋅(l₁⋅cos(θ₂) + l_c2)⋅θ₁̈                          ⎝\n",
       "\n",
       "                      ⎤  ⎡                                                    \n",
       "⋅(l₁⋅cos(θ₂) + l_c2)⋅θ₂̈⎥  ⎢          0             -2⋅l₁⋅l_c2⋅m₂⋅sin(θ₂)⋅θ₁̇⋅\n",
       "                      ⎥, ⎢                                                    \n",
       "        2   ⎞         ⎥  ⎢                     2                              \n",
       "I₂ + l_c2 ⋅m₂⎠⋅θ₂̈      ⎦  ⎣l₁⋅l_c2⋅m₂⋅sin(θ₂)⋅θ₁̇                0           \n",
       "\n",
       "                       2⎤                                                     \n",
       "θ₂̇  -l₁⋅l_c2⋅m₂⋅sin(θ₂)⋅θ₂̇ ⎥  ⎡g⋅(l₁⋅m₂⋅cos(θ₁) + l_c1⋅m₁⋅cos(θ₁) + l_c2⋅m₂⋅\n",
       "                        ⎥, ⎢                                                  \n",
       "                        ⎥  ⎣                  g⋅l_c2⋅m₂⋅cos(θ₁ + θ₂)          \n",
       "               0           ⎦                                                  \n",
       "\n",
       "         ⎞\n",
       "cos(θ₁ + θ₂))⎤⎟\n",
       "        ⎥⎟\n",
       "        ⎦⎟\n",
       "            ⎠"
      ]
     },
     "execution_count": 20,
     "metadata": {},
     "output_type": "execute_result"
    }
   ],
   "source": [
    "L = k-p\n",
    "rt.dynamic_model_with_3_matrices(L, [theta1, theta2])"
   ]
  },
  {
   "cell_type": "markdown",
   "metadata": {},
   "source": [
    "## Zacada 12"
   ]
  },
  {
   "cell_type": "code",
   "execution_count": 21,
   "metadata": {},
   "outputs": [],
   "source": [
    "m1, m2, g, l1, l2, r1, r2 = sp.symbols('m1, m2, g, l1, l2, r1, r2')\n",
    "theta1, theta2 = mechanics.dynamicsymbols('theta1, theta2')\n",
    "vtheta1, vtheta2 = theta1.diff('t'), theta2.diff('t')"
   ]
  },
  {
   "cell_type": "code",
   "execution_count": 22,
   "metadata": {},
   "outputs": [
    {
     "data": {
      "text/latex": [
       "$\\displaystyle \\left( \\left[\\begin{matrix}I_{x1} & 0 & 0\\\\0 & I_{y1} & 0\\\\0 & 0 & I_{z1}\\end{matrix}\\right], \\  \\left[\\begin{matrix}I_{x2} & 0 & 0\\\\0 & I_{y2} & 0\\\\0 & 0 & I_{z2}\\end{matrix}\\right]\\right)$"
      ],
      "text/plain": [
       "⎛⎡Iₓ₁   0     0  ⎤  ⎡Iₓ₂   0     0  ⎤⎞\n",
       "⎜⎢               ⎥  ⎢               ⎥⎟\n",
       "⎜⎢ 0   I_y1   0  ⎥, ⎢ 0   I_y2   0  ⎥⎟\n",
       "⎜⎢               ⎥  ⎢               ⎥⎟\n",
       "⎝⎣ 0    0    I_z1⎦  ⎣ 0    0    I_z2⎦⎠"
      ]
     },
     "execution_count": 22,
     "metadata": {},
     "output_type": "execute_result"
    }
   ],
   "source": [
    "Ix1, Iy1, Iz1, Ix2, Iy2, Iz2 = sp.symbols('I_x1, I_y1, I_z1, I_x2, I_y2, I_z2')\n",
    "T1 = sp.Matrix([[Ix1, 0, 0], [0, Iy1, 0], [0, 0, Iz1]])\n",
    "T2 = sp.Matrix([[Ix2, 0, 0], [0, Iy2, 0], [0, 0, Iz2]])\n",
    "T1, T2"
   ]
  },
  {
   "cell_type": "code",
   "execution_count": 28,
   "metadata": {},
   "outputs": [
    {
     "data": {
      "text/latex": [
       "$\\displaystyle \\left[\\begin{matrix}- r_{1} \\sin{\\left(\\theta_{1} \\right)} \\dot{\\theta}_{1}\\\\r_{1} \\cos{\\left(\\theta_{1} \\right)} \\dot{\\theta}_{1}\\\\0\\end{matrix}\\right]$"
      ],
      "text/plain": [
       "⎡-r₁⋅sin(θ₁)⋅θ₁̇⎤\n",
       "⎢              ⎥\n",
       "⎢r₁⋅cos(θ₁)⋅θ₁̇ ⎥\n",
       "⎢              ⎥\n",
       "⎣      0       ⎦"
      ]
     },
     "execution_count": 28,
     "metadata": {},
     "output_type": "execute_result"
    }
   ],
   "source": [
    "x1 = r1*sp.cos(theta1)\n",
    "y1 = r1*sp.sin(theta1)\n",
    "v1 = sp.Matrix([x1.diff('t'), y1.diff('t'), 0])\n",
    "v1"
   ]
  },
  {
   "cell_type": "code",
   "execution_count": 29,
   "metadata": {},
   "outputs": [
    {
     "data": {
      "text/latex": [
       "$\\displaystyle \\left[\\begin{matrix}0\\\\0\\\\\\dot{\\theta}_{1}\\end{matrix}\\right]$"
      ],
      "text/plain": [
       "⎡0 ⎤\n",
       "⎢  ⎥\n",
       "⎢0 ⎥\n",
       "⎢  ⎥\n",
       "⎣θ₁̇⎦"
      ]
     },
     "execution_count": 29,
     "metadata": {},
     "output_type": "execute_result"
    }
   ],
   "source": [
    "w1 = sp.Matrix([0, 0, theta1.diff('t')])\n",
    "w1"
   ]
  },
  {
   "cell_type": "code",
   "execution_count": 32,
   "metadata": {},
   "outputs": [
    {
     "data": {
      "text/latex": [
       "$\\displaystyle \\left[\\begin{matrix}\\frac{I_{z1} \\dot{\\theta}_{1}^{2}}{2} + \\frac{m_{1} r_{1}^{2} \\sin^{2}{\\left(\\theta_{1} \\right)} \\dot{\\theta}_{1}^{2}}{2} + \\frac{m_{1} r_{1}^{2} \\cos^{2}{\\left(\\theta_{1} \\right)} \\dot{\\theta}_{1}^{2}}{2}\\end{matrix}\\right]$"
      ],
      "text/plain": [
       "⎡       2        2    2       2        2    2       2⎤\n",
       "⎢I_z1⋅θ₁̇    m₁⋅r₁ ⋅sin (θ₁)⋅θ₁̇    m₁⋅r₁ ⋅cos (θ₁)⋅θ₁̇ ⎥\n",
       "⎢──────── + ─────────────────── + ───────────────────⎥\n",
       "⎣   2                2                     2         ⎦"
      ]
     },
     "execution_count": 32,
     "metadata": {},
     "output_type": "execute_result"
    }
   ],
   "source": [
    "K1 = m1 * v1.T * v1 / 2  +  w1.T * T1 * w1 / 2\n",
    "K1"
   ]
  },
  {
   "cell_type": "code",
   "execution_count": 34,
   "metadata": {},
   "outputs": [
    {
     "data": {
      "text/latex": [
       "$\\displaystyle \\left[\\begin{matrix}- l_{1} \\sin{\\left(\\theta_{1} \\right)} \\dot{\\theta}_{1} - r_{2} \\left(\\dot{\\theta}_{1} + \\dot{\\theta}_{2}\\right) \\sin{\\left(\\theta_{1} + \\theta_{2} \\right)}\\\\l_{1} \\cos{\\left(\\theta_{1} \\right)} \\dot{\\theta}_{1} + r_{2} \\left(\\dot{\\theta}_{1} + \\dot{\\theta}_{2}\\right) \\cos{\\left(\\theta_{1} + \\theta_{2} \\right)}\\\\0\\end{matrix}\\right]$"
      ],
      "text/plain": [
       "⎡-l₁⋅sin(θ₁)⋅θ₁̇ - r₂⋅(θ₁̇ + θ₂̇)⋅sin(θ₁ + θ₂)⎤\n",
       "⎢                                          ⎥\n",
       "⎢l₁⋅cos(θ₁)⋅θ₁̇ + r₂⋅(θ₁̇ + θ₂̇)⋅cos(θ₁ + θ₂) ⎥\n",
       "⎢                                          ⎥\n",
       "⎣                    0                     ⎦"
      ]
     },
     "execution_count": 34,
     "metadata": {},
     "output_type": "execute_result"
    }
   ],
   "source": [
    "x2 = l1*sp.cos(theta1) + r2*sp.cos(theta1+theta2)\n",
    "y2 = l1*sp.sin(theta1) + r2*sp.sin(theta1+theta2)\n",
    "v2 = sp.Matrix([x2.diff('t'), y2.diff('t'), 0])\n",
    "v2"
   ]
  },
  {
   "cell_type": "code",
   "execution_count": 35,
   "metadata": {},
   "outputs": [
    {
     "data": {
      "text/latex": [
       "$\\displaystyle \\left[\\begin{matrix}0\\\\0\\\\\\dot{\\theta}_{2}\\end{matrix}\\right]$"
      ],
      "text/plain": [
       "⎡0 ⎤\n",
       "⎢  ⎥\n",
       "⎢0 ⎥\n",
       "⎢  ⎥\n",
       "⎣θ₂̇⎦"
      ]
     },
     "execution_count": 35,
     "metadata": {},
     "output_type": "execute_result"
    }
   ],
   "source": [
    "w2 = sp.Matrix([0, 0, theta2.diff('t')])\n",
    "w2"
   ]
  },
  {
   "cell_type": "code",
   "execution_count": 36,
   "metadata": {},
   "outputs": [
    {
     "data": {
      "text/latex": [
       "$\\displaystyle \\left[\\begin{matrix}\\frac{I_{z2} \\dot{\\theta}_{2}^{2}}{2} + \\frac{m_{2} \\left(- l_{1} \\sin{\\left(\\theta_{1} \\right)} \\dot{\\theta}_{1} - r_{2} \\left(\\dot{\\theta}_{1} + \\dot{\\theta}_{2}\\right) \\sin{\\left(\\theta_{1} + \\theta_{2} \\right)}\\right)^{2}}{2} + \\frac{m_{2} \\left(l_{1} \\cos{\\left(\\theta_{1} \\right)} \\dot{\\theta}_{1} + r_{2} \\left(\\dot{\\theta}_{1} + \\dot{\\theta}_{2}\\right) \\cos{\\left(\\theta_{1} + \\theta_{2} \\right)}\\right)^{2}}{2}\\end{matrix}\\right]$"
      ],
      "text/plain": [
       "⎡       2                                                  2                  \n",
       "⎢I_z2⋅θ₂̇    m₂⋅(-l₁⋅sin(θ₁)⋅θ₁̇ - r₂⋅(θ₁̇ + θ₂̇)⋅sin(θ₁ + θ₂))    m₂⋅(l₁⋅cos(\n",
       "⎢──────── + ──────────────────────────────────────────────── + ───────────────\n",
       "⎣   2                              2                                          \n",
       "\n",
       "                               2⎤\n",
       "θ₁)⋅θ₁̇ + r₂⋅(θ₁̇ + θ₂̇)⋅cos(θ₁ + θ₂)) ⎥\n",
       "────────────────────────────────⎥\n",
       "        2                       ⎦"
      ]
     },
     "execution_count": 36,
     "metadata": {},
     "output_type": "execute_result"
    }
   ],
   "source": [
    "K2 = m2 * v2.T * v2 / 2  +  w2.T * T2 * w2 / 2\n",
    "K2"
   ]
  },
  {
   "cell_type": "code",
   "execution_count": 38,
   "metadata": {},
   "outputs": [
    {
     "data": {
      "text/latex": [
       "$\\displaystyle \\left[\\begin{matrix}\\frac{I_{z1} \\dot{\\theta}_{1}^{2}}{2} + \\frac{I_{z2} \\dot{\\theta}_{2}^{2}}{2} + \\frac{m_{1} r_{1}^{2} \\sin^{2}{\\left(\\theta_{1} \\right)} \\dot{\\theta}_{1}^{2}}{2} + \\frac{m_{1} r_{1}^{2} \\cos^{2}{\\left(\\theta_{1} \\right)} \\dot{\\theta}_{1}^{2}}{2} + \\frac{m_{2} \\left(- l_{1} \\sin{\\left(\\theta_{1} \\right)} \\dot{\\theta}_{1} - r_{2} \\left(\\dot{\\theta}_{1} + \\dot{\\theta}_{2}\\right) \\sin{\\left(\\theta_{1} + \\theta_{2} \\right)}\\right)^{2}}{2} + \\frac{m_{2} \\left(l_{1} \\cos{\\left(\\theta_{1} \\right)} \\dot{\\theta}_{1} + r_{2} \\left(\\dot{\\theta}_{1} + \\dot{\\theta}_{2}\\right) \\cos{\\left(\\theta_{1} + \\theta_{2} \\right)}\\right)^{2}}{2}\\end{matrix}\\right]$"
      ],
      "text/plain": [
       "⎡       2          2        2    2       2        2    2       2              \n",
       "⎢I_z1⋅θ₁̇    I_z2⋅θ₂̇    m₁⋅r₁ ⋅sin (θ₁)⋅θ₁̇    m₁⋅r₁ ⋅cos (θ₁)⋅θ₁̇    m₂⋅(-l₁\n",
       "⎢──────── + ──────── + ─────────────────── + ─────────────────── + ───────────\n",
       "⎣   2          2                2                     2                       \n",
       "\n",
       "                                    2                                         \n",
       "⋅sin(θ₁)⋅θ₁̇ - r₂⋅(θ₁̇ + θ₂̇)⋅sin(θ₁ + θ₂))    m₂⋅(l₁⋅cos(θ₁)⋅θ₁̇ + r₂⋅(θ₁̇ + \n",
       "───────────────────────────────────── + ──────────────────────────────────────\n",
       "            2                                                  2              \n",
       "\n",
       "        2⎤\n",
       "θ₂̇)⋅cos(θ₁ + θ₂)) ⎥\n",
       "─────────⎥\n",
       "         ⎦"
      ]
     },
     "execution_count": 38,
     "metadata": {},
     "output_type": "execute_result"
    }
   ],
   "source": [
    "P = m1 * g * r1 * sp.sin(theta1) + m2 * g * l1 * sp.sin(theta1) + m2 * g * r2 * sp.sin(theta1 + theta2)\n",
    "K = K1+K2\n",
    "K"
   ]
  },
  {
   "cell_type": "code",
   "execution_count": 40,
   "metadata": {},
   "outputs": [
    {
     "data": {
      "image/png": "[encoded data removed]",
      "text/latex": [
       "$\\displaystyle \\frac{I_{z1} \\dot{\\theta}_{1}^{2}}{2} + \\frac{I_{z2} \\dot{\\theta}_{2}^{2}}{2} - g l_{1} m_{2} \\sin{\\left(\\theta_{1} \\right)} - g m_{1} r_{1} \\sin{\\left(\\theta_{1} \\right)} - g m_{2} r_{2} \\sin{\\left(\\theta_{1} + \\theta_{2} \\right)} + \\frac{m_{1} r_{1}^{2} \\sin^{2}{\\left(\\theta_{1} \\right)} \\dot{\\theta}_{1}^{2}}{2} + \\frac{m_{1} r_{1}^{2} \\cos^{2}{\\left(\\theta_{1} \\right)} \\dot{\\theta}_{1}^{2}}{2} + \\frac{m_{2} \\left(- l_{1} \\sin{\\left(\\theta_{1} \\right)} \\dot{\\theta}_{1} - r_{2} \\left(\\dot{\\theta}_{1} + \\dot{\\theta}_{2}\\right) \\sin{\\left(\\theta_{1} + \\theta_{2} \\right)}\\right)^{2}}{2} + \\frac{m_{2} \\left(l_{1} \\cos{\\left(\\theta_{1} \\right)} \\dot{\\theta}_{1} + r_{2} \\left(\\dot{\\theta}_{1} + \\dot{\\theta}_{2}\\right) \\cos{\\left(\\theta_{1} + \\theta_{2} \\right)}\\right)^{2}}{2}$"
      ],
      "text/plain": [
       "       2          2                                                           \n",
       "I_z1⋅θ₁̇    I_z2⋅θ₂̇                                                          \n",
       "──────── + ──────── - g⋅l₁⋅m₂⋅sin(θ₁) - g⋅m₁⋅r₁⋅sin(θ₁) - g⋅m₂⋅r₂⋅sin(θ₁ + θ₂)\n",
       "   2          2                                                               \n",
       "\n",
       "        2    2       2        2    2       2                                  \n",
       "     m₁⋅r₁ ⋅sin (θ₁)⋅θ₁̇    m₁⋅r₁ ⋅cos (θ₁)⋅θ₁̇    m₂⋅(-l₁⋅sin(θ₁)⋅θ₁̇ - r₂⋅(θ\n",
       " + ─────────────────── + ─────────────────── + ───────────────────────────────\n",
       "            2                     2                                   2       \n",
       "\n",
       "                2                                                 2\n",
       "₁̇ + θ₂̇)⋅sin(θ₁ + θ₂))    m₂⋅(l₁⋅cos(θ₁)⋅θ₁̇ + r₂⋅(θ₁̇ + θ₂̇)⋅cos(θ₁ + θ₂)) \n",
       "───────────────── + ───────────────────────────────────────────────\n",
       "                                           2                       "
      ]
     },
     "execution_count": 40,
     "metadata": {},
     "output_type": "execute_result"
    }
   ],
   "source": [
    "L = K[0] - P\n",
    "L"
   ]
  },
  {
   "cell_type": "code",
   "execution_count": 41,
   "metadata": {},
   "outputs": [
    {
     "data": {
      "text/latex": [
       "$\\displaystyle \\left[\\begin{matrix}I_{z1} \\ddot{\\theta}_{1} + g l_{1} m_{2} \\cos{\\left(\\theta_{1} \\right)} + g m_{1} r_{1} \\cos{\\left(\\theta_{1} \\right)} + g m_{2} r_{2} \\cos{\\left(\\theta_{1} + \\theta_{2} \\right)} + l_{1}^{2} m_{2} \\ddot{\\theta}_{1} - 2 l_{1} m_{2} r_{2} \\sin{\\left(\\theta_{2} \\right)} \\dot{\\theta}_{1} \\dot{\\theta}_{2} - l_{1} m_{2} r_{2} \\sin{\\left(\\theta_{2} \\right)} \\dot{\\theta}_{2}^{2} + 2 l_{1} m_{2} r_{2} \\cos{\\left(\\theta_{2} \\right)} \\ddot{\\theta}_{1} + l_{1} m_{2} r_{2} \\cos{\\left(\\theta_{2} \\right)} \\ddot{\\theta}_{2} + m_{1} r_{1}^{2} \\ddot{\\theta}_{1} + m_{2} r_{2}^{2} \\ddot{\\theta}_{1} + m_{2} r_{2}^{2} \\ddot{\\theta}_{2}\\\\I_{z2} \\ddot{\\theta}_{2} + g m_{2} r_{2} \\cos{\\left(\\theta_{1} + \\theta_{2} \\right)} + l_{1} m_{2} r_{2} \\sin{\\left(\\theta_{2} \\right)} \\dot{\\theta}_{1}^{2} + l_{1} m_{2} r_{2} \\cos{\\left(\\theta_{2} \\right)} \\ddot{\\theta}_{1} + m_{2} r_{2}^{2} \\ddot{\\theta}_{1} + m_{2} r_{2}^{2} \\ddot{\\theta}_{2}\\end{matrix}\\right]$"
      ],
      "text/plain": [
       "⎡                                                                       2     \n",
       "⎢I_z1⋅θ₁̈ + g⋅l₁⋅m₂⋅cos(θ₁) + g⋅m₁⋅r₁⋅cos(θ₁) + g⋅m₂⋅r₂⋅cos(θ₁ + θ₂) + l₁ ⋅m₂⋅\n",
       "⎢                                                                             \n",
       "⎢                                                                             \n",
       "⎣                                                       I_z2⋅θ₂̈ + g⋅m₂⋅r₂⋅cos\n",
       "\n",
       "                                                  2                           \n",
       "θ₁̈ - 2⋅l₁⋅m₂⋅r₂⋅sin(θ₂)⋅θ₁̇⋅θ₂̇ - l₁⋅m₂⋅r₂⋅sin(θ₂)⋅θ₂̇  + 2⋅l₁⋅m₂⋅r₂⋅cos(θ₂)⋅\n",
       "                                                                              \n",
       "                              2                              2           2    \n",
       "(θ₁ + θ₂) + l₁⋅m₂⋅r₂⋅sin(θ₂)⋅θ₁̇  + l₁⋅m₂⋅r₂⋅cos(θ₂)⋅θ₁̈ + m₂⋅r₂ ⋅θ₁̈ + m₂⋅r₂ \n",
       "\n",
       "                           2           2           2   ⎤\n",
       "θ₁̈ + l₁⋅m₂⋅r₂⋅cos(θ₂)⋅θ₂̈ + m₁⋅r₁ ⋅θ₁̈ + m₂⋅r₂ ⋅θ₁̈ + m₂⋅r₂ ⋅θ₂̈⎥\n",
       "                                                       ⎥\n",
       "                                                       ⎥\n",
       "⋅θ₂̈                                                        ⎦"
      ]
     },
     "execution_count": 41,
     "metadata": {},
     "output_type": "execute_result"
    }
   ],
   "source": [
    "rt.lagrangian(L, [theta1, theta2])"
   ]
  },
  {
   "cell_type": "markdown",
   "metadata": {},
   "source": [
    "## Zadaca 16"
   ]
  },
  {
   "cell_type": "code",
   "execution_count": 44,
   "metadata": {},
   "outputs": [],
   "source": [
    "m1, m2, g = sp.symbols('m1, m2, g')\n",
    "l, r, theta = mechanics.dynamicsymbols('l, r, theta')\n",
    "vl, vr, vtheta = l.diff('t'), r.diff('t'), theta.diff('t')"
   ]
  },
  {
   "cell_type": "code",
   "execution_count": 45,
   "metadata": {},
   "outputs": [
    {
     "data": {
      "image/png": "[encoded data removed]",
      "text/latex": [
       "$\\displaystyle \\frac{m_{1} \\dot{l}^{2}}{2}$"
      ],
      "text/plain": [
       "    2\n",
       "m₁⋅l̇ \n",
       "─────\n",
       "  2  "
      ]
     },
     "execution_count": 45,
     "metadata": {},
     "output_type": "execute_result"
    }
   ],
   "source": [
    "k1 = m1 * vl**2 / 2\n",
    "k1"
   ]
  },
  {
   "cell_type": "code",
   "execution_count": 47,
   "metadata": {},
   "outputs": [
    {
     "data": {
      "image/png": "[encoded data removed]",
      "text/latex": [
       "$\\displaystyle \\frac{m_{1} \\dot{l}^{2}}{2} + m_{2} \\left(\\dot{l}^{2} + \\dot{r}^{2}\\right) + \\frac{m_{2} r^{2} \\dot{\\theta}^{2}}{2}$"
      ],
      "text/plain": [
       "    2                      2  2\n",
       "m₁⋅l̇       ⎛ 2    2⎞   m₂⋅r ⋅θ̇ \n",
       "───── + m₂⋅⎝l̇  + ṙ ⎠ + ────────\n",
       "  2                       2    "
      ]
     },
     "execution_count": 47,
     "metadata": {},
     "output_type": "execute_result"
    }
   ],
   "source": [
    "k2 = m2 * (vl**2 + vr**2) + m2*r**2*vtheta**2/2\n",
    "k = k1+k2\n",
    "k"
   ]
  },
  {
   "cell_type": "code",
   "execution_count": 48,
   "metadata": {},
   "outputs": [
    {
     "data": {
      "image/png": "[encoded data removed]",
      "text/latex": [
       "$\\displaystyle g \\left(m_{1} + m_{2}\\right) l$"
      ],
      "text/plain": [
       "g⋅(m₁ + m₂)⋅l"
      ]
     },
     "execution_count": 48,
     "metadata": {},
     "output_type": "execute_result"
    }
   ],
   "source": [
    "p = m1*g*l+m2*g*l\n",
    "p.simplify()"
   ]
  },
  {
   "cell_type": "code",
   "execution_count": 49,
   "metadata": {},
   "outputs": [
    {
     "data": {
      "image/png": "[encoded data removed]",
      "text/latex": [
       "$\\displaystyle - g m_{1} l - g m_{2} l + \\frac{m_{1} \\dot{l}^{2}}{2} + m_{2} \\left(\\dot{l}^{2} + \\dot{r}^{2}\\right) + \\frac{m_{2} r^{2} \\dot{\\theta}^{2}}{2}$"
      ],
      "text/plain": [
       "                       2                      2  2\n",
       "                   m₁⋅l̇       ⎛ 2    2⎞   m₂⋅r ⋅θ̇ \n",
       "-g⋅m₁⋅l - g⋅m₂⋅l + ───── + m₂⋅⎝l̇  + ṙ ⎠ + ────────\n",
       "                     2                       2    "
      ]
     },
     "execution_count": 49,
     "metadata": {},
     "output_type": "execute_result"
    }
   ],
   "source": [
    "L = k-p\n",
    "L"
   ]
  },
  {
   "cell_type": "code",
   "execution_count": 51,
   "metadata": {},
   "outputs": [
    {
     "data": {
      "text/latex": [
       "$\\displaystyle \\left[\\begin{matrix}g m_{1} + g m_{2} + m_{1} \\ddot{l} + 2 m_{2} \\ddot{l}\\\\m_{2} \\left(- r \\dot{\\theta}^{2} + 2 \\ddot{r}\\right)\\\\m_{2} \\left(r \\ddot{\\theta} + 2 \\dot{r} \\dot{\\theta}\\right) r\\end{matrix}\\right]$"
      ],
      "text/plain": [
       "⎡g⋅m₁ + g⋅m₂ + m₁⋅l̈ + 2⋅m₂⋅l̈⎤\n",
       "⎢                           ⎥\n",
       "⎢        ⎛     2      ⎞     ⎥\n",
       "⎢     m₂⋅⎝- r⋅θ̇  + 2⋅r̈⎠     ⎥\n",
       "⎢                           ⎥\n",
       "⎣    m₂⋅(r⋅θ̈ + 2⋅ṙ⋅θ̇)⋅r     ⎦"
      ]
     },
     "execution_count": 51,
     "metadata": {},
     "output_type": "execute_result"
    }
   ],
   "source": [
    "rt.lagrangian(L, [l, r, theta])"
   ]
  },
  {
   "cell_type": "markdown",
   "metadata": {},
   "source": [
    "## Zadaca 26"
   ]
  },
  {
   "cell_type": "code",
   "execution_count": 3,
   "metadata": {},
   "outputs": [
    {
     "data": {
      "text/latex": [
       "$\\displaystyle \\left[\\begin{matrix}0.7071 & 0.7071 & 0 & 2\\\\0 & 0 & 1 & 1\\\\0.7071 & -0.7071 & 0 & 5\\\\0 & 0 & 0 & 1\\end{matrix}\\right]$"
      ],
      "text/plain": [
       "⎡0.7071  0.7071   0  2⎤\n",
       "⎢                     ⎥\n",
       "⎢  0        0     1  1⎥\n",
       "⎢                     ⎥\n",
       "⎢0.7071  -0.7071  0  5⎥\n",
       "⎢                     ⎥\n",
       "⎣  0        0     0  1⎦"
      ]
     },
     "execution_count": 3,
     "metadata": {},
     "output_type": "execute_result"
    }
   ],
   "source": [
    "H = sp.Matrix([\n",
    "    [0.7071, 0.7071, 0, 2],\n",
    "    [0, 0, 1, 1],\n",
    "    [0.7071, -0.7071, 0, 5],\n",
    "    [0, 0, 0, 1],\n",
    "])\n",
    "H"
   ]
  },
  {
   "cell_type": "code",
   "execution_count": 5,
   "metadata": {},
   "outputs": [
    {
     "data": {
      "text/latex": [
       "$\\displaystyle \\left[\\begin{matrix}0.7071 & 0.7071 & 0\\\\0 & 0 & 1\\\\0.7071 & -0.7071 & 0\\end{matrix}\\right]$"
      ],
      "text/plain": [
       "⎡0.7071  0.7071   0⎤\n",
       "⎢                  ⎥\n",
       "⎢  0        0     1⎥\n",
       "⎢                  ⎥\n",
       "⎣0.7071  -0.7071  0⎦"
      ]
     },
     "execution_count": 5,
     "metadata": {},
     "output_type": "execute_result"
    }
   ],
   "source": [
    "R = H[:3, :3]\n",
    "P = H[:3, 3]\n",
    "R"
   ]
  },
  {
   "cell_type": "code",
   "execution_count": 24,
   "metadata": {},
   "outputs": [],
   "source": [
    "F = sp.Matrix([10, 0, 5, 15, 20, 0])\n",
    "F_wrt_U = F[:3,:]\n",
    "M_wrt_U = F[3:,:]"
   ]
  },
  {
   "cell_type": "code",
   "execution_count": 26,
   "metadata": {},
   "outputs": [
    {
     "data": {
      "text/latex": [
       "$\\displaystyle \\left( \\left[\\begin{matrix}10.6065\\\\3.5355\\\\0\\end{matrix}\\right], \\  \\left[\\begin{matrix}14.142\\\\0\\\\-20\\end{matrix}\\right]\\right)$"
      ],
      "text/plain": [
       "⎛⎡10.6065⎤  ⎡14.142⎤⎞\n",
       "⎜⎢       ⎥  ⎢      ⎥⎟\n",
       "⎜⎢3.5355 ⎥, ⎢  0   ⎥⎟\n",
       "⎜⎢       ⎥  ⎢      ⎥⎟\n",
       "⎝⎣   0   ⎦  ⎣ -20  ⎦⎠"
      ]
     },
     "execution_count": 26,
     "metadata": {},
     "output_type": "execute_result"
    }
   ],
   "source": [
    "R.T * F_wrt_U,  R.T * (F_wrt_U.cross(P) + M_wrt_U)"
   ]
  },
  {
   "cell_type": "code",
   "execution_count": 8,
   "metadata": {},
   "outputs": [
    {
     "data": {
      "application/vnd.jupyter.widget-view+json": {
       "model_id": "1554b54023d84eab9b8726a0d06a295a",
       "version_major": 2,
       "version_minor": 0
      },
      "text/plain": [
       "VBox(children=(HBox(children=(ToggleButton(value=True, description='Исклучи цртање'), Button(description='Пром…"
      ]
     },
     "metadata": {},
     "output_type": "display_data"
    }
   ],
   "source": [
    "m1, m2, g = sp.symbols('m1, m2, g')\n",
    "l, r, theta = mechanics.dynamicsymbols('l, r, theta')\n",
    "robot = rt.SerialLinkRobot()\n",
    "robot.add_revolute_joint(theta, 0, 0,0)\n",
    "robot.add_prismatic_joint(0, l, 0, sp.pi/2)\n",
    "robot.add_prismatic_joint(0, r, 0, 0)\n",
    "robot.interact()"
   ]
  },
  {
   "cell_type": "code",
   "execution_count": 15,
   "metadata": {},
   "outputs": [
    {
     "data": {
      "image/png": "[encoded data removed]",
      "text/latex": [
       "$\\displaystyle \\frac{m_{2} \\left(r^{2} \\dot{\\theta}^{2} + \\dot{l}^{2} + \\dot{r}^{2}\\right)}{2}$"
      ],
      "text/plain": [
       "   ⎛ 2  2    2    2⎞\n",
       "m₂⋅⎝r ⋅θ̇  + l̇  + ṙ ⎠\n",
       "────────────────────\n",
       "         2          "
      ]
     },
     "execution_count": 15,
     "metadata": {},
     "output_type": "execute_result"
    }
   ],
   "source": [
    "x2, y2, z2 = robot.get_dh_matrix()[:3,3]\n",
    "v2_squared = x2.diff('t')**2 + y2.diff('t')**2 + z2.diff('t')**2\n",
    "K2 = m2 * v2_squared / 2\n",
    "K2 = sp.simplify(K2)\n",
    "K2"
   ]
  },
  {
   "cell_type": "code",
   "execution_count": 11,
   "metadata": {},
   "outputs": [
    {
     "data": {
      "image/png": "[encoded data removed]",
      "text/latex": [
       "$\\displaystyle \\left( r \\sin{\\left(\\theta \\right)}, \\  - r \\cos{\\left(\\theta \\right)}, \\  l\\right)$"
      ],
      "text/plain": [
       "(r⋅sin(θ), -r⋅cos(θ), l)"
      ]
     },
     "execution_count": 11,
     "metadata": {},
     "output_type": "execute_result"
    }
   ],
   "source": [
    "x2, y2, z2"
   ]
  },
  {
   "cell_type": "code",
   "execution_count": 42,
   "metadata": {},
   "outputs": [
    {
     "data": {
      "application/vnd.jupyter.widget-view+json": {
       "model_id": "9c48b90adccc4667bd9d575923b4989c",
       "version_major": 2,
       "version_minor": 0
      },
      "text/plain": [
       "VBox(children=(HBox(children=(ToggleButton(value=True, description='Исклучи цртање'), Button(description='Пром…"
      ]
     },
     "metadata": {},
     "output_type": "display_data"
    }
   ],
   "source": [
    "l1, l2, l3 = sp.symbols('l1, l2, l3')\n",
    "theta1, d2, theta3 = mechanics.dynamicsymbols('theta1, d2, theta3')\n",
    "robot = rt.SerialLinkRobot()\n",
    "robot.add_revolute_joint(theta1, 0, l1,-sp.pi/2)\n",
    "robot.add_prismatic_joint(sp.pi/2, l2, 0, sp.pi/2)\n",
    "robot.add_prismatic_joint(sp.pi/2, d2, 0, -sp.pi/2)\n",
    "robot.add_revolute_joint(theta3, 0, l3, 0)\n",
    "robot.add_subs([(l1,1),(l2,0.5),(l3,1)])\n",
    "robot.interact()"
   ]
  },
  {
   "cell_type": "code",
   "execution_count": 65,
   "metadata": {},
   "outputs": [
    {
     "data": {
      "text/latex": [
       "$\\displaystyle \\left[\\begin{matrix}- l_{1} \\sin{\\left(\\theta_{1} \\right)} - l_{2} \\cos{\\left(\\theta_{1} \\right)} - l_{3} \\cos{\\left(\\theta_{1} + \\theta_{3} \\right)} - d_{2} \\sin{\\left(\\theta_{1} \\right)} & - \\sin{\\left(\\theta_{1} \\right)} & \\cos{\\left(\\theta_{1} \\right)} & - l_{3} \\cos{\\left(\\theta_{1} + \\theta_{3} \\right)}\\\\l_{1} \\cos{\\left(\\theta_{1} \\right)} - l_{2} \\sin{\\left(\\theta_{1} \\right)} - l_{3} \\sin{\\left(\\theta_{1} + \\theta_{3} \\right)} + d_{2} \\cos{\\left(\\theta_{1} \\right)} & \\cos{\\left(\\theta_{1} \\right)} & \\sin{\\left(\\theta_{1} \\right)} & - l_{3} \\sin{\\left(\\theta_{1} + \\theta_{3} \\right)}\\\\0 & 0 & 0 & 0\\end{matrix}\\right]$"
      ],
      "text/plain": [
       "⎡-l₁⋅sin(θ₁) - l₂⋅cos(θ₁) - l₃⋅cos(θ₁ + θ₃) - d₂⋅sin(θ₁)  -sin(θ₁)  cos(θ₁)  -\n",
       "⎢                                                                             \n",
       "⎢l₁⋅cos(θ₁) - l₂⋅sin(θ₁) - l₃⋅sin(θ₁ + θ₃) + d₂⋅cos(θ₁)   cos(θ₁)   sin(θ₁)  -\n",
       "⎢                                                                             \n",
       "⎣                           0                                0         0      \n",
       "\n",
       "l₃⋅cos(θ₁ + θ₃)⎤\n",
       "               ⎥\n",
       "l₃⋅sin(θ₁ + θ₃)⎥\n",
       "               ⎥\n",
       "      0        ⎦"
      ]
     },
     "execution_count": 65,
     "metadata": {},
     "output_type": "execute_result"
    }
   ],
   "source": [
    "Jv = robot.linear_jacobian()\n",
    "Jv"
   ]
  },
  {
   "cell_type": "code",
   "execution_count": 62,
   "metadata": {},
   "outputs": [
    {
     "data": {
      "text/latex": [
       "$\\displaystyle \\left[\\begin{matrix}20\\\\10\\\\5\\end{matrix}\\right]$"
      ],
      "text/plain": [
       "⎡20⎤\n",
       "⎢  ⎥\n",
       "⎢10⎥\n",
       "⎢  ⎥\n",
       "⎣5 ⎦"
      ]
     },
     "execution_count": 62,
     "metadata": {},
     "output_type": "execute_result"
    }
   ],
   "source": [
    "F = sp.Matrix([20, 10, 5])\n",
    "F"
   ]
  },
  {
   "cell_type": "code",
   "execution_count": 63,
   "metadata": {},
   "outputs": [
    {
     "data": {
      "text/latex": [
       "$\\displaystyle \\left[\\begin{matrix}- 20 l_{1} \\sin{\\left(\\theta_{1} \\right)} + 10 l_{1} \\cos{\\left(\\theta_{1} \\right)} - 10 l_{2} \\sin{\\left(\\theta_{1} \\right)} - 20 l_{2} \\cos{\\left(\\theta_{1} \\right)} - 10 l_{3} \\sin{\\left(\\theta_{1} + \\theta_{3} \\right)} - 20 l_{3} \\cos{\\left(\\theta_{1} + \\theta_{3} \\right)} - 20 d_{2} \\sin{\\left(\\theta_{1} \\right)} + 10 d_{2} \\cos{\\left(\\theta_{1} \\right)}\\\\- 20 \\sin{\\left(\\theta_{1} \\right)} + 10 \\cos{\\left(\\theta_{1} \\right)}\\\\10 \\sin{\\left(\\theta_{1} \\right)} + 20 \\cos{\\left(\\theta_{1} \\right)}\\\\10 l_{3} \\sin{\\left(\\theta_{1} + \\theta_{3} \\right)} - 20 l_{3} \\cos{\\left(\\theta_{1} + \\theta_{3} \\right)}\\end{matrix}\\right]$"
      ],
      "text/plain": [
       "⎡-20⋅l₁⋅sin(θ₁) + 10⋅l₁⋅cos(θ₁) - 10⋅l₂⋅sin(θ₁) - 20⋅l₂⋅cos(θ₁) - 10⋅l₃⋅sin(θ₁\n",
       "⎢                                                                             \n",
       "⎢                                                        -20⋅sin(θ₁) + 10⋅cos(\n",
       "⎢                                                                             \n",
       "⎢                                                        10⋅sin(θ₁) + 20⋅cos(θ\n",
       "⎢                                                                             \n",
       "⎣                                                10⋅l₃⋅sin(θ₁ + θ₃) - 20⋅l₃⋅co\n",
       "\n",
       " + θ₃) - 20⋅l₃⋅cos(θ₁ + θ₃) - 20⋅d₂⋅sin(θ₁) + 10⋅d₂⋅cos(θ₁)⎤\n",
       "                                                           ⎥\n",
       "θ₁)                                                        ⎥\n",
       "                                                           ⎥\n",
       "₁)                                                         ⎥\n",
       "                                                           ⎥\n",
       "s(θ₁ + θ₃)                                                 ⎦"
      ]
     },
     "execution_count": 63,
     "metadata": {},
     "output_type": "execute_result"
    }
   ],
   "source": [
    "T = Jv.T * F\n",
    "T"
   ]
  },
  {
   "cell_type": "code",
   "execution_count": 64,
   "metadata": {},
   "outputs": [
    {
     "data": {
      "text/latex": [
       "$\\displaystyle \\left[\\begin{matrix}-30.0151310892523\\\\-1.33974596215561\\\\22.3205080756888\\\\4.48287736084027\\end{matrix}\\right]$"
      ],
      "text/plain": [
       "⎡-30.0151310892523⎤\n",
       "⎢                 ⎥\n",
       "⎢-1.33974596215561⎥\n",
       "⎢                 ⎥\n",
       "⎢22.3205080756888 ⎥\n",
       "⎢                 ⎥\n",
       "⎣4.48287736084027 ⎦"
      ]
     },
     "execution_count": 64,
     "metadata": {},
     "output_type": "execute_result"
    }
   ],
   "source": [
    "T.subs(theta1, sp.pi/6).subs(d2, 2).subs(theta3, sp.pi/4).subs(l1, 1).subs(l2, 0.5).subs(l3, 1).evalf()"
   ]
  },
  {
   "cell_type": "code",
   "execution_count": null,
   "metadata": {},
   "outputs": [],
   "source": []
  }
 ],
 "metadata": {
  "kernelspec": {
   "display_name": "Python 3",
   "language": "python",
   "name": "python3"
  },
  "language_info": {
   "codemirror_mode": {
    "name": "ipython",
    "version": 3
   },
   "file_extension": ".py",
   "mimetype": "text/x-python",
   "name": "python",
   "nbconvert_exporter": "python",
   "pygments_lexer": "ipython3",
   "version": "3.8.5"
  }
 },
 "nbformat": 4,
 "nbformat_minor": 4
}
