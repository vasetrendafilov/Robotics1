{
 "cells": [
  {
   "cell_type": "markdown",
   "id": "answering-preliminary",
   "metadata": {},
   "source": [
    "# Незадолжителни задачи"
   ]
  },
  {
   "cell_type": "markdown",
   "id": "suspended-burner",
   "metadata": {},
   "source": [
    "## Задача 1\n",
    "\n",
    "- Направете анимација во која роботската рака ќе се придвижи од едно место до друго и притоа ќе ја исцрта патеката. \n",
    "- Исцртаната патека нека биде буква по ваш избор.\n",
    "- Роботската рака нека биде во SCARA конфигурација. Доволни ви се само првите два зглобови. Слободно пробајте и со друга конфигурација."
   ]
  },
  {
   "cell_type": "code",
   "execution_count": 1,
   "id": "natural-optics",
   "metadata": {},
   "outputs": [],
   "source": [
    "import sympy as sp\n",
    "import Resources.text as rt"
   ]
  },
  {
   "cell_type": "code",
   "execution_count": 2,
   "id": "normal-episode",
   "metadata": {},
   "outputs": [
    {
     "data": {
      "application/vnd.jupyter.widget-view+json": {
       "model_id": "3db6bea00fa24e1fbda5ab0535ff89f9",
       "version_major": 2,
       "version_minor": 0
      },
      "text/plain": [
       "VBox(children=(HBox(children=(ToggleButton(value=True, description='Исклучи цртање'), Button(description='Пром…"
      ]
     },
     "metadata": {},
     "output_type": "display_data"
    }
   ],
   "source": [
    "theta1, theta2, theta3, d1, d2, x, y = sp.symbols('theta1, theta2, theta3, d1, d2, x, y')\n",
    "robot = rt.SerialLinkRobot()\n",
    "robot.add_revolute_joint(theta1, 0, 3, 0)\n",
    "robot.add_revolute_joint(theta2, 0, 3, -sp.pi/2)# moze da odi x[-5 5] i y [1 3]\n",
    "robot.add_revolute_joint(theta3, 0, 0.3, 0)\n",
    "robot.interact()"
   ]
  },
  {
   "cell_type": "code",
   "execution_count": 4,
   "id": "increased-symbol",
   "metadata": {},
   "outputs": [],
   "source": [
    "robot.write_text(\"FEIT\",[-5,1])"
   ]
  },
  {
   "cell_type": "code",
   "execution_count": null,
   "id": "sound-prefix",
   "metadata": {},
   "outputs": [],
   "source": []
  }
 ],
 "metadata": {
  "kernelspec": {
   "display_name": "Python 3",
   "language": "python",
   "name": "python3"
  },
  "language_info": {
   "codemirror_mode": {
    "name": "ipython",
    "version": 3
   },
   "file_extension": ".py",
   "mimetype": "text/x-python",
   "name": "python",
   "nbconvert_exporter": "python",
   "pygments_lexer": "ipython3",
   "version": "3.8.5"
  }
 },
 "nbformat": 4,
 "nbformat_minor": 5
}
