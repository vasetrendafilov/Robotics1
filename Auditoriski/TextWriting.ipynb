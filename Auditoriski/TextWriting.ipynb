{
 "cells": [
  {
   "cell_type": "markdown",
   "id": "differential-giving",
   "metadata": {},
   "source": [
    "# Незадолжителни задачи"
   ]
  },
  {
   "cell_type": "markdown",
   "id": "seasonal-storage",
   "metadata": {},
   "source": [
    "## Задача 1\n",
    "\n",
    "- Направете анимација во која роботската рака ќе се придвижи од едно место до друго и притоа ќе ја исцрта патеката. \n",
    "- Исцртаната патека нека биде буква по ваш избор.\n",
    "- Роботската рака нека биде во SCARA конфигурација. Доволни ви се само првите два зглобови. Слободно пробајте и со друга конфигурација."
   ]
  },
  {
   "cell_type": "code",
   "execution_count": 1,
   "id": "higher-johnson",
   "metadata": {},
   "outputs": [],
   "source": [
    "import sympy as sp\n",
    "import Resources.script as rt"
   ]
  },
  {
   "cell_type": "code",
   "execution_count": 2,
   "id": "molecular-crossing",
   "metadata": {},
   "outputs": [
    {
     "data": {
      "application/vnd.jupyter.widget-view+json": {
       "model_id": "16c29327350f49eca879d0b21eccd2f5",
       "version_major": 2,
       "version_minor": 0
      },
      "text/plain": [
       "VBox(children=(HBox(children=(ToggleButton(value=True, description='Исклучи цртање'), Button(description='Пром…"
      ]
     },
     "metadata": {},
     "output_type": "display_data"
    }
   ],
   "source": [
    "theta1, theta2, theta3, d1, d2, x, y = sp.symbols('theta1, theta2, theta3, d1, d2, x, y')\n",
    "robot = rt.SerialLinkRobot()\n",
    "robot.add_revolute_joint(theta1, 0, 3, 0)\n",
    "robot.add_revolute_joint(theta2, 0, 3, -sp.pi/2)# moze da odi x[-5 5] i y [1 3]\n",
    "robot.add_revolute_joint(theta3, 0, 0.3, 0)\n",
    "robot.interact()"
   ]
  },
  {
   "cell_type": "code",
   "execution_count": 3,
   "id": "historic-jones",
   "metadata": {},
   "outputs": [],
   "source": [
    "robot.write_text(\"FEIT\",[-5,1])"
   ]
  }
 ],
 "metadata": {
  "kernelspec": {
   "display_name": "Python 3",
   "language": "python",
   "name": "python3"
  },
  "language_info": {
   "codemirror_mode": {
    "name": "ipython",
    "version": 3
   },
   "file_extension": ".py",
   "mimetype": "text/x-python",
   "name": "python",
   "nbconvert_exporter": "python",
   "pygments_lexer": "ipython3",
   "version": "3.8.5"
  }
 },
 "nbformat": 4,
 "nbformat_minor": 5
}
