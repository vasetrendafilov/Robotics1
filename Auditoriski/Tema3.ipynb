{
 "cells": [
  {
   "cell_type": "code",
   "execution_count": 1,
   "metadata": {},
   "outputs": [],
   "source": [
    "import sympy as sp\n",
    "import Resources.script as rt"
   ]
  },
  {
   "cell_type": "markdown",
   "metadata": {},
   "source": [
    "## Zadaca 9"
   ]
  },
  {
   "cell_type": "code",
   "execution_count": 3,
   "metadata": {},
   "outputs": [
    {
     "data": {
      "text/latex": [
       "$\\displaystyle \\left[\\begin{matrix}\\cos{\\left(\\beta \\right)} \\cos{\\left(\\gamma \\right)} & - \\sin{\\left(\\gamma \\right)} & \\sin{\\left(\\beta \\right)} \\cos{\\left(\\gamma \\right)} & r \\sin{\\left(\\beta \\right)} \\cos{\\left(\\gamma \\right)}\\\\\\sin{\\left(\\gamma \\right)} \\cos{\\left(\\beta \\right)} & \\cos{\\left(\\gamma \\right)} & \\sin{\\left(\\beta \\right)} \\sin{\\left(\\gamma \\right)} & r \\sin{\\left(\\beta \\right)} \\sin{\\left(\\gamma \\right)}\\\\- \\sin{\\left(\\beta \\right)} & 0 & \\cos{\\left(\\beta \\right)} & r \\cos{\\left(\\beta \\right)}\\\\0 & 0 & 0 & 1\\end{matrix}\\right]$"
      ],
      "text/plain": [
       "Matrix([\n",
       "[cos(beta)*cos(gamma), -sin(gamma), sin(beta)*cos(gamma), r*sin(beta)*cos(gamma)],\n",
       "[sin(gamma)*cos(beta),  cos(gamma), sin(beta)*sin(gamma), r*sin(beta)*sin(gamma)],\n",
       "[          -sin(beta),           0,            cos(beta),            r*cos(beta)],\n",
       "[                   0,           0,                    0,                      1]])"
      ]
     },
     "execution_count": 3,
     "metadata": {},
     "output_type": "execute_result"
    }
   ],
   "source": [
    "r, beta, gamma = sp.symbols('r, beta, gamma')\n",
    "T = rt.hrotation3('z', gamma) * rt.hrotation3('y', beta) * rt.htranslation3(z=r)\n",
    "T"
   ]
  },
  {
   "cell_type": "code",
   "execution_count": 8,
   "metadata": {},
   "outputs": [
    {
     "data": {
      "text/latex": [
       "$\\displaystyle \\left[\\begin{matrix}\\sin{\\left(\\beta \\right)} \\cos{\\left(\\gamma \\right)} & r \\cos{\\left(\\beta \\right)} \\cos{\\left(\\gamma \\right)} & - r \\sin{\\left(\\beta \\right)} \\sin{\\left(\\gamma \\right)}\\\\\\sin{\\left(\\beta \\right)} \\sin{\\left(\\gamma \\right)} & r \\sin{\\left(\\gamma \\right)} \\cos{\\left(\\beta \\right)} & r \\sin{\\left(\\beta \\right)} \\cos{\\left(\\gamma \\right)}\\\\\\cos{\\left(\\beta \\right)} & - r \\sin{\\left(\\beta \\right)} & 0\\end{matrix}\\right]$"
      ],
      "text/plain": [
       "Matrix([\n",
       "[sin(beta)*cos(gamma), r*cos(beta)*cos(gamma), -r*sin(beta)*sin(gamma)],\n",
       "[sin(beta)*sin(gamma), r*sin(gamma)*cos(beta),  r*sin(beta)*cos(gamma)],\n",
       "[           cos(beta),           -r*sin(beta),                       0]])"
      ]
     },
     "execution_count": 8,
     "metadata": {},
     "output_type": "execute_result"
    }
   ],
   "source": [
    "pos = T[:3,3]\n",
    "jacob = pos.jacobian([r,beta,gamma])\n",
    "jacob"
   ]
  },
  {
   "cell_type": "code",
   "execution_count": 12,
   "metadata": {},
   "outputs": [
    {
     "data": {
      "text/latex": [
       "$\\displaystyle r^{2} \\sin{\\left(\\beta \\right)}$"
      ],
      "text/plain": [
       "r**2*sin(beta)"
      ]
     },
     "execution_count": 12,
     "metadata": {},
     "output_type": "execute_result"
    }
   ],
   "source": [
    "detJ = jacob.det().simplify()\n",
    "detJ"
   ]
  },
  {
   "cell_type": "code",
   "execution_count": 17,
   "metadata": {},
   "outputs": [
    {
     "data": {
      "text/latex": [
       "$\\displaystyle \\left\\{0, \\pi\\right\\}$"
      ],
      "text/plain": [
       "FiniteSet(0, pi)"
      ]
     },
     "execution_count": 17,
     "metadata": {},
     "output_type": "execute_result"
    }
   ],
   "source": [
    "interval = sp.Interval(-sp.pi, sp.pi, left_open=True)\n",
    "sp.solveset(detJ,beta,interval)"
   ]
  },
  {
   "cell_type": "markdown",
   "metadata": {},
   "source": [
    "## Zadaca 10"
   ]
  },
  {
   "cell_type": "code",
   "execution_count": 3,
   "metadata": {},
   "outputs": [
    {
     "data": {
      "application/vnd.jupyter.widget-view+json": {
       "model_id": "0120d1d3216f47c7badee0e7d89a32b3",
       "version_major": 2,
       "version_minor": 0
      },
      "text/plain": [
       "VBox(children=(HBox(children=(ToggleButton(value=True, description='Исклучи цртање'), Button(description='Пром…"
      ]
     },
     "metadata": {},
     "output_type": "display_data"
    }
   ],
   "source": [
    "d1, d2, theta3, a3 = sp.symbols('d1, d2, theta3, a3')\n",
    "robot = rt.SerialLinkRobot()\n",
    "robot.add_prismatic_joint(0, d1, 0, -sp.pi/2)\n",
    "robot.add_prismatic_joint(0, d2, 0, sp.pi/2)\n",
    "robot.add_revolute_joint(theta3, 0, a3, 0)\n",
    "robot.add_subs([(a3, 1)])\n",
    "robot.interact()"
   ]
  },
  {
   "cell_type": "code",
   "execution_count": 25,
   "metadata": {},
   "outputs": [
    {
     "data": {
      "text/latex": [
       "$\\displaystyle \\left[\\begin{matrix}0 & 0 & - a_{3} \\sin{\\left(\\theta_{3} \\right)}\\\\0 & 1 & a_{3} \\cos{\\left(\\theta_{3} \\right)}\\\\1 & 0 & 0\\\\0 & 0 & 0\\\\0 & 0 & 0\\\\0 & 0 & 1\\end{matrix}\\right]$"
      ],
      "text/plain": [
       "Matrix([\n",
       "[0, 0, -a3*sin(theta3)],\n",
       "[0, 1,  a3*cos(theta3)],\n",
       "[1, 0,               0],\n",
       "[0, 0,               0],\n",
       "[0, 0,               0],\n",
       "[0, 0,               1]])"
      ]
     },
     "execution_count": 25,
     "metadata": {},
     "output_type": "execute_result"
    }
   ],
   "source": [
    "robot.jacobian()"
   ]
  },
  {
   "cell_type": "markdown",
   "metadata": {},
   "source": [
    "## Zadaca 18"
   ]
  },
  {
   "cell_type": "code",
   "execution_count": 2,
   "metadata": {},
   "outputs": [
    {
     "data": {
      "application/vnd.jupyter.widget-view+json": {
       "model_id": "272627c3cbc24490ba3b4b1870c2fa06",
       "version_major": 2,
       "version_minor": 0
      },
      "text/plain": [
       "VBox(children=(HBox(children=(ToggleButton(value=True, description='Исклучи цртање'), Button(description='Пром…"
      ]
     },
     "metadata": {},
     "output_type": "display_data"
    }
   ],
   "source": [
    "d1, theta2, l1, l2 = sp.symbols('d1, theta2, l1, l2')\n",
    "robot = rt.SerialLinkRobot()\n",
    "robot.add_prismatic_joint(0, d1, l1, sp.pi/2)\n",
    "robot.add_revolute_joint(theta2, 0, l2, 0)\n",
    "robot.add_subs([(l1, 1), (l2, 1)])\n",
    "robot.interact()"
   ]
  },
  {
   "cell_type": "code",
   "execution_count": 4,
   "metadata": {},
   "outputs": [
    {
     "data": {
      "text/latex": [
       "$\\displaystyle \\left[\\begin{matrix}0 & - l_{2} \\sin{\\left(\\theta_{2} \\right)}\\\\0 & 0\\\\1 & l_{2} \\cos{\\left(\\theta_{2} \\right)}\\end{matrix}\\right]$"
      ],
      "text/plain": [
       "Matrix([\n",
       "[0, -l2*sin(theta2)],\n",
       "[0,               0],\n",
       "[1,  l2*cos(theta2)]])"
      ]
     },
     "execution_count": 4,
     "metadata": {},
     "output_type": "execute_result"
    }
   ],
   "source": [
    "Jv = robot.linear_jacobian()\n",
    "Jv"
   ]
  },
  {
   "cell_type": "code",
   "execution_count": 5,
   "metadata": {},
   "outputs": [
    {
     "data": {
      "text/latex": [
       "$\\displaystyle \\left[\\begin{matrix}0 & - l_{2} \\sin{\\left(\\theta_{2} \\right)}\\\\1 & l_{2} \\cos{\\left(\\theta_{2} \\right)}\\end{matrix}\\right]$"
      ],
      "text/plain": [
       "Matrix([\n",
       "[0, -l2*sin(theta2)],\n",
       "[1,  l2*cos(theta2)]])"
      ]
     },
     "execution_count": 5,
     "metadata": {},
     "output_type": "execute_result"
    }
   ],
   "source": [
    "Jv2 = sp.Matrix.vstack(Jv[:1, :], Jv[2:, :])\n",
    "Jv2"
   ]
  },
  {
   "cell_type": "code",
   "execution_count": 6,
   "metadata": {},
   "outputs": [
    {
     "data": {
      "text/latex": [
       "$\\displaystyle l_{2} \\sin{\\left(\\theta_{2} \\right)}$"
      ],
      "text/plain": [
       "l2*sin(theta2)"
      ]
     },
     "execution_count": 6,
     "metadata": {},
     "output_type": "execute_result"
    }
   ],
   "source": [
    "Jv2.det()"
   ]
  },
  {
   "cell_type": "code",
   "execution_count": 8,
   "metadata": {},
   "outputs": [
    {
     "data": {
      "text/latex": [
       "$\\displaystyle \\left\\{0, \\pi\\right\\}$"
      ],
      "text/plain": [
       "FiniteSet(0, pi)"
      ]
     },
     "execution_count": 8,
     "metadata": {},
     "output_type": "execute_result"
    }
   ],
   "source": [
    "interval = sp.Interval(-sp.pi, sp.pi, left_open=True)\n",
    "solution = sp.solveset(Jv2.det(), theta2, interval)\n",
    "solution"
   ]
  },
  {
   "cell_type": "code",
   "execution_count": 6,
   "metadata": {},
   "outputs": [
    {
     "data": {
      "application/vnd.jupyter.widget-view+json": {
       "model_id": "325aff201b7a4908bec90c8cfb1d5e6f",
       "version_major": 2,
       "version_minor": 0
      },
      "text/plain": [
       "VBox(children=(HBox(children=(ToggleButton(value=True, description='Исклучи цртање'), Button(description='Пром…"
      ]
     },
     "metadata": {},
     "output_type": "display_data"
    }
   ],
   "source": [
    "theta1, theta2, theta3, l1, l2, l3 = sp.symbols('theta1, theta2, theta3, l1, l2, l3')\n",
    "robot = rt.SerialLinkRobot()\n",
    "robot.add_revolute_joint(theta1, 0, l1, 0)\n",
    "robot.add_revolute_joint(theta2, 0, l2, 0)\n",
    "robot.add_revolute_joint(theta3, 0, l3, 0)\n",
    "robot.add_subs([(l1, 1), (l2, 1), (l3, 1)])\n",
    "robot.interact()"
   ]
  },
  {
   "cell_type": "code",
   "execution_count": 11,
   "metadata": {},
   "outputs": [
    {
     "data": {
      "text/latex": [
       "$\\displaystyle \\left[\\begin{matrix}- l_{1} \\sin{\\left(\\theta_{1} \\right)} - l_{2} \\sin{\\left(\\theta_{1} + \\theta_{2} \\right)} - l_{3} \\sin{\\left(\\theta_{1} + \\theta_{2} + \\theta_{3} \\right)} & - l_{2} \\sin{\\left(\\theta_{1} + \\theta_{2} \\right)} - l_{3} \\sin{\\left(\\theta_{1} + \\theta_{2} + \\theta_{3} \\right)} & - l_{3} \\sin{\\left(\\theta_{1} + \\theta_{2} + \\theta_{3} \\right)}\\\\l_{1} \\cos{\\left(\\theta_{1} \\right)} + l_{2} \\cos{\\left(\\theta_{1} + \\theta_{2} \\right)} + l_{3} \\cos{\\left(\\theta_{1} + \\theta_{2} + \\theta_{3} \\right)} & l_{2} \\cos{\\left(\\theta_{1} + \\theta_{2} \\right)} + l_{3} \\cos{\\left(\\theta_{1} + \\theta_{2} + \\theta_{3} \\right)} & l_{3} \\cos{\\left(\\theta_{1} + \\theta_{2} + \\theta_{3} \\right)}\\\\0 & 0 & 0\\\\0 & 0 & 0\\\\0 & 0 & 0\\\\1 & 1 & 1\\end{matrix}\\right]$"
      ],
      "text/plain": [
       "Matrix([\n",
       "[-l1*sin(theta1) - l2*sin(theta1 + theta2) - l3*sin(theta1 + theta2 + theta3), -l2*sin(theta1 + theta2) - l3*sin(theta1 + theta2 + theta3), -l3*sin(theta1 + theta2 + theta3)],\n",
       "[ l1*cos(theta1) + l2*cos(theta1 + theta2) + l3*cos(theta1 + theta2 + theta3),  l2*cos(theta1 + theta2) + l3*cos(theta1 + theta2 + theta3),  l3*cos(theta1 + theta2 + theta3)],\n",
       "[                                                                           0,                                                           0,                                 0],\n",
       "[                                                                           0,                                                           0,                                 0],\n",
       "[                                                                           0,                                                           0,                                 0],\n",
       "[                                                                           1,                                                           1,                                 1]])"
      ]
     },
     "execution_count": 11,
     "metadata": {},
     "output_type": "execute_result"
    }
   ],
   "source": [
    "J = robot.jacobian()\n",
    "J"
   ]
  },
  {
   "cell_type": "code",
   "execution_count": 10,
   "metadata": {},
   "outputs": [
    {
     "data": {
      "text/latex": [
       "$\\displaystyle 0$"
      ],
      "text/plain": [
       "0"
      ]
     },
     "execution_count": 10,
     "metadata": {},
     "output_type": "execute_result"
    }
   ],
   "source": [
    "det_J = sp.det().simplify()\n",
    "det_J"
   ]
  },
  {
   "cell_type": "markdown",
   "metadata": {},
   "source": [
    "## Zadaca 19"
   ]
  },
  {
   "cell_type": "code",
   "execution_count": 18,
   "metadata": {},
   "outputs": [
    {
     "data": {
      "application/vnd.jupyter.widget-view+json": {
       "model_id": "75b583d2caee4afd9455ab6cda837713",
       "version_major": 2,
       "version_minor": 0
      },
      "text/plain": [
       "VBox(children=(HBox(children=(ToggleButton(value=True, description='Исклучи цртање'), Button(description='Пром…"
      ]
     },
     "metadata": {},
     "output_type": "display_data"
    }
   ],
   "source": [
    "theta1, theta2, d3, theta4, a1, a2, d4 = sp.symbols('theta1, theta2, d3, theta4, a1, a2, d4')\n",
    "robot = rt.SerialLinkRobot()\n",
    "robot.add_revolute_joint(theta1, 0, a1, 0)\n",
    "robot.add_revolute_joint(theta2, 0, a2, sp.pi)\n",
    "robot.add_prismatic_joint(0, d3, 0, 0)\n",
    "robot.add_revolute_joint(theta4, d4, 0, 0)\n",
    "robot.add_subs([(a1, 1), (a2, 1), (d4, 1)])\n",
    "robot.interact()"
   ]
  },
  {
   "cell_type": "code",
   "execution_count": 22,
   "metadata": {},
   "outputs": [
    {
     "data": {
      "text/latex": [
       "$\\displaystyle \\left[\\begin{matrix}- a_{1} \\sin{\\left(\\theta_{1} \\right)} - a_{2} \\sin{\\left(\\theta_{1} + \\theta_{2} \\right)} & - a_{2} \\sin{\\left(\\theta_{1} + \\theta_{2} \\right)} & 0 & 0\\\\a_{1} \\cos{\\left(\\theta_{1} \\right)} + a_{2} \\cos{\\left(\\theta_{1} + \\theta_{2} \\right)} & a_{2} \\cos{\\left(\\theta_{1} + \\theta_{2} \\right)} & 0 & 0\\\\0 & 0 & -1 & 0\\\\0 & 0 & 0 & 0\\\\0 & 0 & 0 & 0\\\\1 & 1 & 0 & -1\\end{matrix}\\right]$"
      ],
      "text/plain": [
       "Matrix([\n",
       "[-a1*sin(theta1) - a2*sin(theta1 + theta2), -a2*sin(theta1 + theta2),  0,  0],\n",
       "[ a1*cos(theta1) + a2*cos(theta1 + theta2),  a2*cos(theta1 + theta2),  0,  0],\n",
       "[                                        0,                        0, -1,  0],\n",
       "[                                        0,                        0,  0,  0],\n",
       "[                                        0,                        0,  0,  0],\n",
       "[                                        1,                        1,  0, -1]])"
      ]
     },
     "execution_count": 22,
     "metadata": {},
     "output_type": "execute_result"
    }
   ],
   "source": [
    "J = robot.jacobian()\n",
    "J"
   ]
  },
  {
   "cell_type": "code",
   "execution_count": 24,
   "metadata": {},
   "outputs": [
    {
     "data": {
      "text/latex": [
       "$\\displaystyle \\left[\\begin{matrix}- a_{1} \\sin{\\left(\\theta_{1} \\right)} - a_{2} \\sin{\\left(\\theta_{1} + \\theta_{2} \\right)} & - a_{2} \\sin{\\left(\\theta_{1} + \\theta_{2} \\right)} & 0 & 0\\\\a_{1} \\cos{\\left(\\theta_{1} \\right)} + a_{2} \\cos{\\left(\\theta_{1} + \\theta_{2} \\right)} & a_{2} \\cos{\\left(\\theta_{1} + \\theta_{2} \\right)} & 0 & 0\\\\0 & 0 & -1 & 0\\\\1 & 1 & 0 & -1\\end{matrix}\\right]$"
      ],
      "text/plain": [
       "Matrix([\n",
       "[-a1*sin(theta1) - a2*sin(theta1 + theta2), -a2*sin(theta1 + theta2),  0,  0],\n",
       "[ a1*cos(theta1) + a2*cos(theta1 + theta2),  a2*cos(theta1 + theta2),  0,  0],\n",
       "[                                        0,                        0, -1,  0],\n",
       "[                                        1,                        1,  0, -1]])"
      ]
     },
     "execution_count": 24,
     "metadata": {},
     "output_type": "execute_result"
    }
   ],
   "source": [
    "J4 = sp.Matrix.vstack(J[:3, :], J[5:, :])\n",
    "J4"
   ]
  },
  {
   "cell_type": "code",
   "execution_count": 30,
   "metadata": {},
   "outputs": [
    {
     "data": {
      "text/latex": [
       "$\\displaystyle a_{1} a_{2} \\sin{\\left(\\theta_{2} \\right)}$"
      ],
      "text/plain": [
       "a1*a2*sin(theta2)"
      ]
     },
     "execution_count": 30,
     "metadata": {},
     "output_type": "execute_result"
    }
   ],
   "source": [
    "det_J4 = sp.det(J[:2, :2]).simplify()\n",
    "det_J4"
   ]
  },
  {
   "cell_type": "code",
   "execution_count": 31,
   "metadata": {},
   "outputs": [
    {
     "data": {
      "text/latex": [
       "$\\displaystyle \\left\\{0, \\pi\\right\\}$"
      ],
      "text/plain": [
       "FiniteSet(0, pi)"
      ]
     },
     "execution_count": 31,
     "metadata": {},
     "output_type": "execute_result"
    }
   ],
   "source": [
    "interval = sp.Interval(-sp.pi, sp.pi, left_open=True)\n",
    "solution = sp.solveset(det_J4, theta2, interval)\n",
    "solution"
   ]
  },
  {
   "cell_type": "code",
   "execution_count": null,
   "metadata": {},
   "outputs": [],
   "source": []
  },
  {
   "cell_type": "markdown",
   "metadata": {},
   "source": [
    "## Zadaca 20"
   ]
  },
  {
   "cell_type": "code",
   "execution_count": 40,
   "metadata": {},
   "outputs": [
    {
     "data": {
      "application/vnd.jupyter.widget-view+json": {
       "model_id": "bd59e16c0b734b25acc7e4009418544a",
       "version_major": 2,
       "version_minor": 0
      },
      "text/plain": [
       "VBox(children=(HBox(children=(ToggleButton(value=True, description='Исклучи цртање'), Button(description='Пром…"
      ]
     },
     "metadata": {},
     "output_type": "display_data"
    }
   ],
   "source": [
    "d1, theta2, theta3, d4, l2, l3 = sp.symbols('d1, theta2, theta3, d4, l2, l3')\n",
    "robot = rt.SerialLinkRobot()\n",
    "robot.add_prismatic_joint(0, d1, 0, 0)\n",
    "robot.add_revolute_joint(theta2, 0, l2, 0)\n",
    "robot.add_revolute_joint(theta3, 0, l3, sp.pi)\n",
    "robot.add_prismatic_joint(0, d4, 0, 0)\n",
    "robot.add_subs([(l2, 2), (l3, 1)])\n",
    "robot.interact()"
   ]
  },
  {
   "cell_type": "code",
   "execution_count": 43,
   "metadata": {},
   "outputs": [
    {
     "data": {
      "text/latex": [
       "$\\displaystyle \\left[\\begin{matrix}0 & - l_{2} \\sin{\\left(\\theta_{2} \\right)} - l_{3} \\sin{\\left(\\theta_{2} + \\theta_{3} \\right)} & - l_{3} \\sin{\\left(\\theta_{2} + \\theta_{3} \\right)} & 0\\\\0 & l_{2} \\cos{\\left(\\theta_{2} \\right)} + l_{3} \\cos{\\left(\\theta_{2} + \\theta_{3} \\right)} & l_{3} \\cos{\\left(\\theta_{2} + \\theta_{3} \\right)} & 0\\\\1 & 0 & 0 & -1\\\\0 & 0 & 0 & 0\\\\0 & 0 & 0 & 0\\\\0 & 1 & 1 & 0\\end{matrix}\\right]$"
      ],
      "text/plain": [
       "Matrix([\n",
       "[0, -l2*sin(theta2) - l3*sin(theta2 + theta3), -l3*sin(theta2 + theta3),  0],\n",
       "[0,  l2*cos(theta2) + l3*cos(theta2 + theta3),  l3*cos(theta2 + theta3),  0],\n",
       "[1,                                         0,                        0, -1],\n",
       "[0,                                         0,                        0,  0],\n",
       "[0,                                         0,                        0,  0],\n",
       "[0,                                         1,                        1,  0]])"
      ]
     },
     "execution_count": 43,
     "metadata": {},
     "output_type": "execute_result"
    }
   ],
   "source": [
    "j = robot.jacobian()\n",
    "j"
   ]
  },
  {
   "cell_type": "code",
   "execution_count": 50,
   "metadata": {},
   "outputs": [
    {
     "data": {
      "text/latex": [
       "$\\displaystyle l_{2} l_{3} \\sin{\\left(\\theta_{3} \\right)}$"
      ],
      "text/plain": [
       "l2*l3*sin(theta3)"
      ]
     },
     "execution_count": 50,
     "metadata": {},
     "output_type": "execute_result"
    }
   ],
   "source": [
    "detj = sp.simplify(j[:2,1:3].det())\n",
    "detj"
   ]
  },
  {
   "cell_type": "code",
   "execution_count": 51,
   "metadata": {},
   "outputs": [
    {
     "data": {
      "text/latex": [
       "$\\displaystyle \\left\\{0, \\pi\\right\\}$"
      ],
      "text/plain": [
       "FiniteSet(0, pi)"
      ]
     },
     "execution_count": 51,
     "metadata": {},
     "output_type": "execute_result"
    }
   ],
   "source": [
    "interval = sp.Interval(-sp.pi, sp.pi, left_open=True)\n",
    "solution = sp.solveset(detj, theta3, interval)\n",
    "solution"
   ]
  },
  {
   "cell_type": "markdown",
   "metadata": {},
   "source": [
    "## Zadaca 23"
   ]
  },
  {
   "cell_type": "code",
   "execution_count": 9,
   "metadata": {},
   "outputs": [
    {
     "data": {
      "application/vnd.jupyter.widget-view+json": {
       "model_id": "fa3b64c3b457463a9706483dacfad7d9",
       "version_major": 2,
       "version_minor": 0
      },
      "text/plain": [
       "VBox(children=(HBox(children=(ToggleButton(value=True, description='Исклучи цртање'), Button(description='Пром…"
      ]
     },
     "metadata": {},
     "output_type": "display_data"
    }
   ],
   "source": [
    "theta1, theta2, d1, d2, d3 = sp.symbols('theta1, theta2, d1, d2, d3')\n",
    "robot = rt.SerialLinkRobot()\n",
    "robot.add_revolute_joint(theta1, d1, 0, sp.pi/2)\n",
    "robot.add_revolute_joint(theta2, 0, d2, sp.pi/2)\n",
    "robot.add_prismatic_joint(0, d3, 0, 0)\n",
    "robot.add_subs([(d1, 1), (d2, 1)])\n",
    "robot.interact()"
   ]
  },
  {
   "cell_type": "code",
   "execution_count": 11,
   "metadata": {},
   "outputs": [
    {
     "data": {
      "text/latex": [
       "$\\displaystyle \\left[\\begin{matrix}\\cos{\\left(\\theta_{1} \\right)} \\cos{\\left(\\theta_{2} \\right)} & \\sin{\\left(\\theta_{1} \\right)} & \\sin{\\left(\\theta_{2} \\right)} \\cos{\\left(\\theta_{1} \\right)} & \\left(d_{2} \\cos{\\left(\\theta_{2} \\right)} + d_{3} \\sin{\\left(\\theta_{2} \\right)}\\right) \\cos{\\left(\\theta_{1} \\right)}\\\\\\sin{\\left(\\theta_{1} \\right)} \\cos{\\left(\\theta_{2} \\right)} & - \\cos{\\left(\\theta_{1} \\right)} & \\sin{\\left(\\theta_{1} \\right)} \\sin{\\left(\\theta_{2} \\right)} & \\left(d_{2} \\cos{\\left(\\theta_{2} \\right)} + d_{3} \\sin{\\left(\\theta_{2} \\right)}\\right) \\sin{\\left(\\theta_{1} \\right)}\\\\\\sin{\\left(\\theta_{2} \\right)} & 0 & - \\cos{\\left(\\theta_{2} \\right)} & d_{1} + d_{2} \\sin{\\left(\\theta_{2} \\right)} - d_{3} \\cos{\\left(\\theta_{2} \\right)}\\\\0 & 0 & 0 & 1\\end{matrix}\\right]$"
      ],
      "text/plain": [
       "Matrix([\n",
       "[cos(theta1)*cos(theta2),  sin(theta1), sin(theta2)*cos(theta1), (d2*cos(theta2) + d3*sin(theta2))*cos(theta1)],\n",
       "[sin(theta1)*cos(theta2), -cos(theta1), sin(theta1)*sin(theta2), (d2*cos(theta2) + d3*sin(theta2))*sin(theta1)],\n",
       "[            sin(theta2),            0,            -cos(theta2),          d1 + d2*sin(theta2) - d3*cos(theta2)],\n",
       "[                      0,            0,                       0,                                             1]])"
      ]
     },
     "execution_count": 11,
     "metadata": {},
     "output_type": "execute_result"
    }
   ],
   "source": [
    "T03 = robot.get_dh_joint_to_joint(0,3)\n",
    "T03"
   ]
  },
  {
   "cell_type": "code",
   "execution_count": 24,
   "metadata": {},
   "outputs": [
    {
     "data": {
      "text/latex": [
       "$\\displaystyle \\left[\\begin{matrix}-0.5\\\\0.1\\\\-0.15\\\\0\\\\0.1\\\\0.1\\end{matrix}\\right]$"
      ],
      "text/plain": [
       "Matrix([\n",
       "[ -0.5],\n",
       "[  0.1],\n",
       "[-0.15],\n",
       "[    0],\n",
       "[  0.1],\n",
       "[  0.1]])"
      ]
     },
     "execution_count": 24,
     "metadata": {},
     "output_type": "execute_result"
    }
   ],
   "source": [
    "J = robot.jacobian()\n",
    "J = J.subs([(theta1,0),(theta2,0),(d3,5),(d2,1)])\n",
    "poc = sp.Matrix([0.1, -0.1, 0.05])\n",
    "Tdelta = J*poc\n",
    "Tdelta"
   ]
  },
  {
   "cell_type": "code",
   "execution_count": 25,
   "metadata": {},
   "outputs": [
    {
     "data": {
      "text/latex": [
       "$\\displaystyle \\left[\\begin{matrix}0 & -0.1 & 0.1 & -0.5\\\\0.1 & 0 & 0 & 0\\\\-0.1 & 0 & 0 & -0.05\\\\0 & 0 & 0 & 0\\end{matrix}\\right]$"
      ],
      "text/plain": [
       "Matrix([\n",
       "[   0, -0.1, 0.1,  -0.5],\n",
       "[ 0.1,    0,   0,     0],\n",
       "[-0.1,    0,   0, -0.05],\n",
       "[   0,    0,   0,     0]])"
      ]
     },
     "execution_count": 25,
     "metadata": {},
     "output_type": "execute_result"
    }
   ],
   "source": [
    "delta = rt.hdelta3(dRx=0, dRy=0.1, dRz=0.1, dx=-0.5, dy=0, dz=-0.05)\n",
    "delta"
   ]
  },
  {
   "cell_type": "code",
   "execution_count": 26,
   "metadata": {},
   "outputs": [
    {
     "data": {
      "application/vnd.jupyter.widget-view+json": {
       "model_id": "988e69d2d2704590ad0786211057de39",
       "version_major": 2,
       "version_minor": 0
      },
      "text/plain": [
       "VBox(children=(HBox(children=(ToggleButton(value=True, description='Исклучи цртање'), Button(description='Пром…"
      ]
     },
     "metadata": {},
     "output_type": "display_data"
    }
   ],
   "source": [
    "theta1, theta2, theta3, l1, l2, l3 = sp.symbols('theta1, theta2, theta3, l1, l2, l3')\n",
    "robot = rt.SerialLinkRobot()\n",
    "robot.add_revolute_joint(theta1, 0, l1, sp.pi/2)\n",
    "robot.add_revolute_joint(theta2, 0, l2, 0)\n",
    "robot.add_revolute_joint(theta3, 0, l3, 0)\n",
    "robot.add_subs([(l1, 1), (l2, 1), (l3, 2)])\n",
    "robot.interact()"
   ]
  },
  {
   "cell_type": "code",
   "execution_count": 28,
   "metadata": {},
   "outputs": [
    {
     "data": {
      "text/latex": [
       "$\\displaystyle \\left[\\begin{matrix}- \\left(l_{1} + l_{2} \\cos{\\left(\\theta_{2} \\right)} + l_{3} \\cos{\\left(\\theta_{2} + \\theta_{3} \\right)}\\right) \\sin{\\left(\\theta_{1} \\right)} & - \\left(l_{2} \\sin{\\left(\\theta_{2} \\right)} + l_{3} \\sin{\\left(\\theta_{2} + \\theta_{3} \\right)}\\right) \\cos{\\left(\\theta_{1} \\right)} & - l_{3} \\sin{\\left(\\theta_{2} + \\theta_{3} \\right)} \\cos{\\left(\\theta_{1} \\right)}\\\\\\left(l_{1} + l_{2} \\cos{\\left(\\theta_{2} \\right)} + l_{3} \\cos{\\left(\\theta_{2} + \\theta_{3} \\right)}\\right) \\cos{\\left(\\theta_{1} \\right)} & - \\left(l_{2} \\sin{\\left(\\theta_{2} \\right)} + l_{3} \\sin{\\left(\\theta_{2} + \\theta_{3} \\right)}\\right) \\sin{\\left(\\theta_{1} \\right)} & - l_{3} \\sin{\\left(\\theta_{1} \\right)} \\sin{\\left(\\theta_{2} + \\theta_{3} \\right)}\\\\0 & l_{2} \\cos{\\left(\\theta_{2} \\right)} + l_{3} \\cos{\\left(\\theta_{2} + \\theta_{3} \\right)} & l_{3} \\cos{\\left(\\theta_{2} + \\theta_{3} \\right)}\\\\0 & \\sin{\\left(\\theta_{1} \\right)} & \\sin{\\left(\\theta_{1} \\right)}\\\\0 & - \\cos{\\left(\\theta_{1} \\right)} & - \\cos{\\left(\\theta_{1} \\right)}\\\\1 & 0 & 0\\end{matrix}\\right]$"
      ],
      "text/plain": [
       "Matrix([\n",
       "[-(l1 + l2*cos(theta2) + l3*cos(theta2 + theta3))*sin(theta1), -(l2*sin(theta2) + l3*sin(theta2 + theta3))*cos(theta1), -l3*sin(theta2 + theta3)*cos(theta1)],\n",
       "[ (l1 + l2*cos(theta2) + l3*cos(theta2 + theta3))*cos(theta1), -(l2*sin(theta2) + l3*sin(theta2 + theta3))*sin(theta1), -l3*sin(theta1)*sin(theta2 + theta3)],\n",
       "[                                                           0,                l2*cos(theta2) + l3*cos(theta2 + theta3),              l3*cos(theta2 + theta3)],\n",
       "[                                                           0,                                             sin(theta1),                          sin(theta1)],\n",
       "[                                                           0,                                            -cos(theta1),                         -cos(theta1)],\n",
       "[                                                           1,                                                       0,                                    0]])"
      ]
     },
     "execution_count": 28,
     "metadata": {},
     "output_type": "execute_result"
    }
   ],
   "source": [
    "J = robot.jacobian()\n",
    "J"
   ]
  },
  {
   "cell_type": "code",
   "execution_count": 35,
   "metadata": {},
   "outputs": [
    {
     "data": {
      "text/latex": [
       "$\\displaystyle - l_{2} l_{3} \\left(l_{1} + l_{2} \\cos{\\left(\\theta_{2} \\right)} + l_{3} \\cos{\\left(\\theta_{2} + \\theta_{3} \\right)}\\right) \\sin{\\left(\\theta_{3} \\right)}$"
      ],
      "text/plain": [
       "-l2*l3*(l1 + l2*cos(theta2) + l3*cos(theta2 + theta3))*sin(theta3)"
      ]
     },
     "execution_count": 35,
     "metadata": {},
     "output_type": "execute_result"
    }
   ],
   "source": [
    "det_Jv = sp.simplify(J[:3,:].det())\n",
    "det_Jv"
   ]
  },
  {
   "cell_type": "code",
   "execution_count": 37,
   "metadata": {},
   "outputs": [
    {
     "data": {
      "text/latex": [
       "$\\displaystyle \\left\\{0, \\pi\\right\\} \\cup \\left\\{\\theta_{3} \\mid \\theta_{3} \\in \\mathbb{R} \\wedge \\cos{\\left(\\theta_{2} + \\theta_{3} \\right)} + \\frac{l_{1} + l_{2} \\cos{\\left(\\theta_{2} \\right)}}{l_{3}} = 0 \\right\\}$"
      ],
      "text/plain": [
       "Union(ConditionSet(theta3, Eq(cos(theta2 + theta3) + (l1 + l2*cos(theta2))/l3, 0), Reals), FiniteSet(0, pi))"
      ]
     },
     "execution_count": 37,
     "metadata": {},
     "output_type": "execute_result"
    }
   ],
   "source": [
    "interval = sp.Interval(-sp.pi, sp.pi, left_open=True)\n",
    "solution = sp.solveset(det_Jv, theta3, interval)\n",
    "solution"
   ]
  }
 ],
 "metadata": {
  "kernelspec": {
   "display_name": "Python 3",
   "language": "python",
   "name": "python3"
  },
  "language_info": {
   "codemirror_mode": {
    "name": "ipython",
    "version": 3
   },
   "file_extension": ".py",
   "mimetype": "text/x-python",
   "name": "python",
   "nbconvert_exporter": "python",
   "pygments_lexer": "ipython3",
   "version": "3.8.5"
  }
 },
 "nbformat": 4,
 "nbformat_minor": 4
}
